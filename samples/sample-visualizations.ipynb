{
 "cells": [
  {
   "cell_type": "code",
   "execution_count": 477,
   "id": "153570d0",
   "metadata": {},
   "outputs": [],
   "source": [
    "import pandas as pd\n",
    "import matplotlib.pyplot as plt\n",
    "import seaborn as sns\n",
    "import plotly.express as px"
   ]
  },
  {
   "cell_type": "markdown",
   "id": "e64710c9",
   "metadata": {},
   "source": [
    "## Plot Anatomy\n",
    "\n",
    "<img src=\"https://miro.medium.com/max/419/0*4YHR28Wt4LWg77e3.png\" />\n"
   ]
  },
  {
   "cell_type": "markdown",
   "id": "28675c68",
   "metadata": {},
   "source": [
    "## Plotting Tools"
   ]
  },
  {
   "cell_type": "markdown",
   "id": "cdd8d0c5",
   "metadata": {},
   "source": [
    "<img src=\"https://dw1.s81c.com/IMWUC/MessageImages/2cfefa40ad224bd7b4e9b6c18885f983.png\" />"
   ]
  },
  {
   "cell_type": "code",
   "execution_count": 478,
   "id": "16b74f83",
   "metadata": {},
   "outputs": [
    {
     "data": {
      "text/html": [
       "<div>\n",
       "<style scoped>\n",
       "    .dataframe tbody tr th:only-of-type {\n",
       "        vertical-align: middle;\n",
       "    }\n",
       "\n",
       "    .dataframe tbody tr th {\n",
       "        vertical-align: top;\n",
       "    }\n",
       "\n",
       "    .dataframe thead th {\n",
       "        text-align: right;\n",
       "    }\n",
       "</style>\n",
       "<table border=\"1\" class=\"dataframe\">\n",
       "  <thead>\n",
       "    <tr style=\"text-align: right;\">\n",
       "      <th></th>\n",
       "      <th>order_id</th>\n",
       "      <th>product_name</th>\n",
       "      <th>quantity</th>\n",
       "      <th>unit_price</th>\n",
       "      <th>total_price</th>\n",
       "      <th>customer_name</th>\n",
       "      <th>customer_email</th>\n",
       "      <th>shipping_address</th>\n",
       "      <th>order_date</th>\n",
       "      <th>payment_method</th>\n",
       "    </tr>\n",
       "  </thead>\n",
       "  <tbody>\n",
       "    <tr>\n",
       "      <th>0</th>\n",
       "      <td>1</td>\n",
       "      <td>Thai Green Curry Paste</td>\n",
       "      <td>61</td>\n",
       "      <td>263.81</td>\n",
       "      <td>16092.41</td>\n",
       "      <td>Cathrine Lyall</td>\n",
       "      <td>clyall0@chicagotribune.com</td>\n",
       "      <td>2 Meadow Ridge Point</td>\n",
       "      <td>2022-09-14</td>\n",
       "      <td>Credit Card</td>\n",
       "    </tr>\n",
       "    <tr>\n",
       "      <th>1</th>\n",
       "      <td>2</td>\n",
       "      <td>Pistachio Ice Cream</td>\n",
       "      <td>56</td>\n",
       "      <td>966.38</td>\n",
       "      <td>54117.28</td>\n",
       "      <td>Raddy Hadcock</td>\n",
       "      <td>rhadcock1@cocolog-nifty.com</td>\n",
       "      <td>5 Debs Crossing</td>\n",
       "      <td>2022-06-17</td>\n",
       "      <td>Cash on Delivery</td>\n",
       "    </tr>\n",
       "    <tr>\n",
       "      <th>2</th>\n",
       "      <td>3</td>\n",
       "      <td>Cinnamon Sugar Tortilla Chips</td>\n",
       "      <td>7</td>\n",
       "      <td>925.76</td>\n",
       "      <td>6480.32</td>\n",
       "      <td>Siouxie Gregoletti</td>\n",
       "      <td>sgregoletti2@wunderground.com</td>\n",
       "      <td>6 Graceland Alley</td>\n",
       "      <td>2022-05-29</td>\n",
       "      <td>Cash on Delivery</td>\n",
       "    </tr>\n",
       "    <tr>\n",
       "      <th>3</th>\n",
       "      <td>4</td>\n",
       "      <td>Herbed Goat Cheese</td>\n",
       "      <td>65</td>\n",
       "      <td>605.00</td>\n",
       "      <td>39325.00</td>\n",
       "      <td>Dyanne Ruddlesden</td>\n",
       "      <td>druddlesden3@nifty.com</td>\n",
       "      <td>50 Ronald Regan Lane</td>\n",
       "      <td>2022-04-14</td>\n",
       "      <td>Cash on Delivery</td>\n",
       "    </tr>\n",
       "    <tr>\n",
       "      <th>4</th>\n",
       "      <td>5</td>\n",
       "      <td>Crispy Kale Chips</td>\n",
       "      <td>40</td>\n",
       "      <td>939.43</td>\n",
       "      <td>37577.20</td>\n",
       "      <td>Dulci Greenlees</td>\n",
       "      <td>dgreenlees4@google.com.br</td>\n",
       "      <td>9777 Hayes Circle</td>\n",
       "      <td>2022-05-25</td>\n",
       "      <td>PayPal</td>\n",
       "    </tr>\n",
       "  </tbody>\n",
       "</table>\n",
       "</div>"
      ],
      "text/plain": [
       "   order_id                   product_name  quantity  unit_price  total_price  \\\n",
       "0         1         Thai Green Curry Paste        61      263.81     16092.41   \n",
       "1         2            Pistachio Ice Cream        56      966.38     54117.28   \n",
       "2         3  Cinnamon Sugar Tortilla Chips         7      925.76      6480.32   \n",
       "3         4             Herbed Goat Cheese        65      605.00     39325.00   \n",
       "4         5              Crispy Kale Chips        40      939.43     37577.20   \n",
       "\n",
       "        customer_name                 customer_email      shipping_address  \\\n",
       "0      Cathrine Lyall     clyall0@chicagotribune.com  2 Meadow Ridge Point   \n",
       "1       Raddy Hadcock    rhadcock1@cocolog-nifty.com       5 Debs Crossing   \n",
       "2  Siouxie Gregoletti  sgregoletti2@wunderground.com     6 Graceland Alley   \n",
       "3   Dyanne Ruddlesden         druddlesden3@nifty.com  50 Ronald Regan Lane   \n",
       "4     Dulci Greenlees      dgreenlees4@google.com.br     9777 Hayes Circle   \n",
       "\n",
       "  order_date    payment_method  \n",
       "0 2022-09-14       Credit Card  \n",
       "1 2022-06-17  Cash on Delivery  \n",
       "2 2022-05-29  Cash on Delivery  \n",
       "3 2022-04-14  Cash on Delivery  \n",
       "4 2022-05-25            PayPal  "
      ]
     },
     "metadata": {},
     "output_type": "display_data"
    },
    {
     "name": "stdout",
     "output_type": "stream",
     "text": [
      "<class 'pandas.core.frame.DataFrame'>\n",
      "RangeIndex: 1000 entries, 0 to 999\n",
      "Data columns (total 10 columns):\n",
      " #   Column            Non-Null Count  Dtype         \n",
      "---  ------            --------------  -----         \n",
      " 0   order_id          1000 non-null   int64         \n",
      " 1   product_name      1000 non-null   object        \n",
      " 2   quantity          1000 non-null   int64         \n",
      " 3   unit_price        1000 non-null   float64       \n",
      " 4   total_price       1000 non-null   float64       \n",
      " 5   customer_name     1000 non-null   object        \n",
      " 6   customer_email    1000 non-null   object        \n",
      " 7   shipping_address  1000 non-null   object        \n",
      " 8   order_date        1000 non-null   datetime64[ns]\n",
      " 9   payment_method    1000 non-null   object        \n",
      "dtypes: datetime64[ns](1), float64(2), int64(2), object(5)\n",
      "memory usage: 78.3+ KB\n"
     ]
    }
   ],
   "source": [
    "# dataset\n",
    "df = pd.read_csv('~/ecommerce-order.csv')\n",
    "df.order_date = pd.to_datetime(df.order_date)\n",
    "display(df.head())\n",
    "df.info()"
   ]
  },
  {
   "cell_type": "markdown",
   "id": "f4575c2d",
   "metadata": {},
   "source": [
    "## Bar Chart\n"
   ]
  },
  {
   "cell_type": "code",
   "execution_count": 479,
   "id": "a5348406",
   "metadata": {},
   "outputs": [
    {
     "name": "stdout",
     "output_type": "stream",
     "text": [
      "dataframe result\n"
     ]
    },
    {
     "data": {
      "text/html": [
       "<div>\n",
       "<style scoped>\n",
       "    .dataframe tbody tr th:only-of-type {\n",
       "        vertical-align: middle;\n",
       "    }\n",
       "\n",
       "    .dataframe tbody tr th {\n",
       "        vertical-align: top;\n",
       "    }\n",
       "\n",
       "    .dataframe thead th {\n",
       "        text-align: right;\n",
       "    }\n",
       "</style>\n",
       "<table border=\"1\" class=\"dataframe\">\n",
       "  <thead>\n",
       "    <tr style=\"text-align: right;\">\n",
       "      <th></th>\n",
       "      <th>customer_name</th>\n",
       "      <th>total_price</th>\n",
       "    </tr>\n",
       "  </thead>\n",
       "  <tbody>\n",
       "    <tr>\n",
       "      <th>231</th>\n",
       "      <td>Corena Ownsworth</td>\n",
       "      <td>91947.04</td>\n",
       "    </tr>\n",
       "    <tr>\n",
       "      <th>815</th>\n",
       "      <td>Rolfe Klainman</td>\n",
       "      <td>91856.38</td>\n",
       "    </tr>\n",
       "    <tr>\n",
       "      <th>836</th>\n",
       "      <td>Ruggiero Lanahan</td>\n",
       "      <td>90824.24</td>\n",
       "    </tr>\n",
       "    <tr>\n",
       "      <th>961</th>\n",
       "      <td>Vern Harsnep</td>\n",
       "      <td>90821.86</td>\n",
       "    </tr>\n",
       "    <tr>\n",
       "      <th>195</th>\n",
       "      <td>Chip Diggles</td>\n",
       "      <td>88553.00</td>\n",
       "    </tr>\n",
       "  </tbody>\n",
       "</table>\n",
       "</div>"
      ],
      "text/plain": [
       "        customer_name  total_price\n",
       "231  Corena Ownsworth     91947.04\n",
       "815    Rolfe Klainman     91856.38\n",
       "836  Ruggiero Lanahan     90824.24\n",
       "961      Vern Harsnep     90821.86\n",
       "195      Chip Diggles     88553.00"
      ]
     },
     "execution_count": 479,
     "metadata": {},
     "output_type": "execute_result"
    }
   ],
   "source": [
    "# show top 5 customer spending\n",
    "result = df.groupby(by=['customer_name'], as_index=False).\\\n",
    "    agg({\"total_price\": \"sum\"}).\\\n",
    "    sort_values(by=['total_price'], ascending=False).\\\n",
    "    head(5)\n",
    "\n",
    "print(\"dataframe result\")\n",
    "result"
   ]
  },
  {
   "cell_type": "markdown",
   "id": "72d07077",
   "metadata": {},
   "source": [
    "### Matplotlib and Seaborn"
   ]
  },
  {
   "cell_type": "code",
   "execution_count": 480,
   "id": "c68500dd",
   "metadata": {},
   "outputs": [
    {
     "data": {
      "image/png": "[encoded data removed]",
      "text/plain": [
       "<Figure size 2000x500 with 2 Axes>"
      ]
     },
     "metadata": {},
     "output_type": "display_data"
    }
   ],
   "source": [
    "# matplotlib\n",
    "fig, ax = plt.subplots(ncols=2, figsize=(20,5))\n",
    "ax[0].set_title(\"Matplotlib\")\n",
    "ax[0].tick_params(axis='x', labelrotation=45)\n",
    "ax[0].bar(x=result.customer_name, height=result.total_price)\n",
    "\n",
    "# seaborn\n",
    "ax[1].set_title(\"Seaborn\")\n",
    "ax[1].tick_params(axis='x', labelrotation=45)\n",
    "sns.barplot(\n",
    "    data=result,\n",
    "    x=result.customer_name,\n",
    "    y=result.total_price,\n",
    "    ax=ax[1],\n",
    "    color='cyan',\n",
    "    hue=result.customer_name,\n",
    "    palette='dark:cyan'\n",
    ")\n",
    "\n",
    "plt.show()"
   ]
  },
  {
   "cell_type": "code",
   "execution_count": 481,
   "id": "6d68aa75",
   "metadata": {},
   "outputs": [
    {
     "data": {
      "text/plain": [
       "<Axes: xlabel='customer_name'>"
      ]
     },
     "execution_count": 481,
     "metadata": {},
     "output_type": "execute_result"
    },
    {
     "data": {
      "image/png": "[encoded data removed]",
      "text/plain": [
       "<Figure size 640x480 with 1 Axes>"
      ]
     },
     "metadata": {},
     "output_type": "display_data"
    }
   ],
   "source": [
    "# generate from pandas\n",
    "result.set_index('customer_name').plot.bar(rot=45)"
   ]
  },
  {
   "cell_type": "markdown",
   "id": "56e1922c",
   "metadata": {},
   "source": [
    "### Plotly"
   ]
  },
  {
   "cell_type": "code",
   "execution_count": 482,
   "id": "73c7972a",
   "metadata": {},
   "outputs": [
    {
     "data": {
      "application/vnd.plotly.v1+json": {
       "config": {
        "plotlyServerURL": "https://plot.ly"
       },
       "data": [
        {
         "alignmentgroup": "True",
         "hovertemplate": "customer_name=%{x}<br>total_price=%{y}<extra></extra>",
         "legendgroup": "",
         "marker": {
          "color": "#636efa",
          "pattern": {
           "shape": ""
          }
         },
         "name": "",
         "offsetgroup": "",
         "orientation": "v",
         "showlegend": false,
         "textposition": "auto",
         "type": "bar",
         "x": [
          "Corena Ownsworth",
          "Rolfe Klainman",
          "Ruggiero Lanahan",
          "Vern Harsnep",
          "Chip Diggles"
         ],
         "xaxis": "x",
         "y": [
          91947.04,
          91856.38,
          90824.24,
          90821.86,
          88553
         ],
         "yaxis": "y"
        }
       ],
       "layout": {
        "barmode": "relative",
        "legend": {
         "tracegroupgap": 0
        },
        "margin": {
         "t": 60
        },
        "template": {
         "data": {
          "bar": [
           {
            "error_x": {
             "color": "#2a3f5f"
            },
            "error_y": {
             "color": "#2a3f5f"
            },
            "marker": {
             "line": {
              "color": "#E5ECF6",
              "width": 0.5
             },
             "pattern": {
              "fillmode": "overlay",
              "size": 10,
              "solidity": 0.2
             }
            },
            "type": "bar"
           }
          ],
          "barpolar": [
           {
            "marker": {
             "line": {
              "color": "#E5ECF6",
              "width": 0.5
             },
             "pattern": {
              "fillmode": "overlay",
              "size": 10,
              "solidity": 0.2
             }
            },
            "type": "barpolar"
           }
          ],
          "carpet": [
           {
            "aaxis": {
             "endlinecolor": "#2a3f5f",
             "gridcolor": "white",
             "linecolor": "white",
             "minorgridcolor": "white",
             "startlinecolor": "#2a3f5f"
            },
            "baxis": {
             "endlinecolor": "#2a3f5f",
             "gridcolor": "white",
             "linecolor": "white",
             "minorgridcolor": "white",
             "startlinecolor": "#2a3f5f"
            },
            "type": "carpet"
           }
          ],
          "choropleth": [
           {
            "colorbar": {
             "outlinewidth": 0,
             "ticks": ""
            },
            "type": "choropleth"
           }
          ],
          "contour": [
           {
            "colorbar": {
             "outlinewidth": 0,
             "ticks": ""
            },
            "colorscale": [
             [
              0,
              "#0d0887"
             ],
             [
              0.1111111111111111,
              "#46039f"
             ],
             [
              0.2222222222222222,
              "#7201a8"
             ],
             [
              0.3333333333333333,
              "#9c179e"
             ],
             [
              0.4444444444444444,
              "#bd3786"
             ],
             [
              0.5555555555555556,
              "#d8576b"
             ],
             [
              0.6666666666666666,
              "#ed7953"
             ],
             [
              0.7777777777777778,
              "#fb9f3a"
             ],
             [
              0.8888888888888888,
              "#fdca26"
             ],
             [
              1,
              "#f0f921"
             ]
            ],
            "type": "contour"
           }
          ],
          "contourcarpet": [
           {
            "colorbar": {
             "outlinewidth": 0,
             "ticks": ""
            },
            "type": "contourcarpet"
           }
          ],
          "heatmap": [
           {
            "colorbar": {
             "outlinewidth": 0,
             "ticks": ""
            },
            "colorscale": [
             [
              0,
              "#0d0887"
             ],
             [
              0.1111111111111111,
              "#46039f"
             ],
             [
              0.2222222222222222,
              "#7201a8"
             ],
             [
              0.3333333333333333,
              "#9c179e"
             ],
             [
              0.4444444444444444,
              "#bd3786"
             ],
             [
              0.5555555555555556,
              "#d8576b"
             ],
             [
              0.6666666666666666,
              "#ed7953"
             ],
             [
              0.7777777777777778,
              "#fb9f3a"
             ],
             [
              0.8888888888888888,
              "#fdca26"
             ],
             [
              1,
              "#f0f921"
             ]
            ],
            "type": "heatmap"
           }
          ],
          "heatmapgl": [
           {
            "colorbar": {
             "outlinewidth": 0,
             "ticks": ""
            },
            "colorscale": [
             [
              0,
              "#0d0887"
             ],
             [
              0.1111111111111111,
              "#46039f"
             ],
             [
              0.2222222222222222,
              "#7201a8"
             ],
             [
              0.3333333333333333,
              "#9c179e"
             ],
             [
              0.4444444444444444,
              "#bd3786"
             ],
             [
              0.5555555555555556,
              "#d8576b"
             ],
             [
              0.6666666666666666,
              "#ed7953"
             ],
             [
              0.7777777777777778,
              "#fb9f3a"
             ],
             [
              0.8888888888888888,
              "#fdca26"
             ],
             [
              1,
              "#f0f921"
             ]
            ],
            "type": "heatmapgl"
           }
          ],
          "histogram": [
           {
            "marker": {
             "pattern": {
              "fillmode": "overlay",
              "size": 10,
              "solidity": 0.2
             }
            },
            "type": "histogram"
           }
          ],
          "histogram2d": [
           {
            "colorbar": {
             "outlinewidth": 0,
             "ticks": ""
            },
            "colorscale": [
             [
              0,
              "#0d0887"
             ],
             [
              0.1111111111111111,
              "#46039f"
             ],
             [
              0.2222222222222222,
              "#7201a8"
             ],
             [
              0.3333333333333333,
              "#9c179e"
             ],
             [
              0.4444444444444444,
              "#bd3786"
             ],
             [
              0.5555555555555556,
              "#d8576b"
             ],
             [
              0.6666666666666666,
              "#ed7953"
             ],
             [
              0.7777777777777778,
              "#fb9f3a"
             ],
             [
              0.8888888888888888,
              "#fdca26"
             ],
             [
              1,
              "#f0f921"
             ]
            ],
            "type": "histogram2d"
           }
          ],
          "histogram2dcontour": [
           {
            "colorbar": {
             "outlinewidth": 0,
             "ticks": ""
            },
            "colorscale": [
             [
              0,
              "#0d0887"
             ],
             [
              0.1111111111111111,
              "#46039f"
             ],
             [
              0.2222222222222222,
              "#7201a8"
             ],
             [
              0.3333333333333333,
              "#9c179e"
             ],
             [
              0.4444444444444444,
              "#bd3786"
             ],
             [
              0.5555555555555556,
              "#d8576b"
             ],
             [
              0.6666666666666666,
              "#ed7953"
             ],
             [
              0.7777777777777778,
              "#fb9f3a"
             ],
             [
              0.8888888888888888,
              "#fdca26"
             ],
             [
              1,
              "#f0f921"
             ]
            ],
            "type": "histogram2dcontour"
           }
          ],
          "mesh3d": [
           {
            "colorbar": {
             "outlinewidth": 0,
             "ticks": ""
            },
            "type": "mesh3d"
           }
          ],
          "parcoords": [
           {
            "line": {
             "colorbar": {
              "outlinewidth": 0,
              "ticks": ""
             }
            },
            "type": "parcoords"
           }
          ],
          "pie": [
           {
            "automargin": true,
            "type": "pie"
           }
          ],
          "scatter": [
           {
            "fillpattern": {
             "fillmode": "overlay",
             "size": 10,
             "solidity": 0.2
            },
            "type": "scatter"
           }
          ],
          "scatter3d": [
           {
            "line": {
             "colorbar": {
              "outlinewidth": 0,
              "ticks": ""
             }
            },
            "marker": {
             "colorbar": {
              "outlinewidth": 0,
              "ticks": ""
             }
            },
            "type": "scatter3d"
           }
          ],
          "scattercarpet": [
           {
            "marker": {
             "colorbar": {
              "outlinewidth": 0,
              "ticks": ""
             }
            },
            "type": "scattercarpet"
           }
          ],
          "scattergeo": [
           {
            "marker": {
             "colorbar": {
              "outlinewidth": 0,
              "ticks": ""
             }
            },
            "type": "scattergeo"
           }
          ],
          "scattergl": [
           {
            "marker": {
             "colorbar": {
              "outlinewidth": 0,
              "ticks": ""
             }
            },
            "type": "scattergl"
           }
          ],
          "scattermapbox": [
           {
            "marker": {
             "colorbar": {
              "outlinewidth": 0,
              "ticks": ""
             }
            },
            "type": "scattermapbox"
           }
          ],
          "scatterpolar": [
           {
            "marker": {
             "colorbar": {
              "outlinewidth": 0,
              "ticks": ""
             }
            },
            "type": "scatterpolar"
           }
          ],
          "scatterpolargl": [
           {
            "marker": {
             "colorbar": {
              "outlinewidth": 0,
              "ticks": ""
             }
            },
            "type": "scatterpolargl"
           }
          ],
          "scatterternary": [
           {
            "marker": {
             "colorbar": {
              "outlinewidth": 0,
              "ticks": ""
             }
            },
            "type": "scatterternary"
           }
          ],
          "surface": [
           {
            "colorbar": {
             "outlinewidth": 0,
             "ticks": ""
            },
            "colorscale": [
             [
              0,
              "#0d0887"
             ],
             [
              0.1111111111111111,
              "#46039f"
             ],
             [
              0.2222222222222222,
              "#7201a8"
             ],
             [
              0.3333333333333333,
              "#9c179e"
             ],
             [
              0.4444444444444444,
              "#bd3786"
             ],
             [
              0.5555555555555556,
              "#d8576b"
             ],
             [
              0.6666666666666666,
              "#ed7953"
             ],
             [
              0.7777777777777778,
              "#fb9f3a"
             ],
             [
              0.8888888888888888,
              "#fdca26"
             ],
             [
              1,
              "#f0f921"
             ]
            ],
            "type": "surface"
           }
          ],
          "table": [
           {
            "cells": {
             "fill": {
              "color": "#EBF0F8"
             },
             "line": {
              "color": "white"
             }
            },
            "header": {
             "fill": {
              "color": "#C8D4E3"
             },
             "line": {
              "color": "white"
             }
            },
            "type": "table"
           }
          ]
         },
         "layout": {
          "annotationdefaults": {
           "arrowcolor": "#2a3f5f",
           "arrowhead": 0,
           "arrowwidth": 1
          },
          "autotypenumbers": "strict",
          "coloraxis": {
           "colorbar": {
            "outlinewidth": 0,
            "ticks": ""
           }
          },
          "colorscale": {
           "diverging": [
            [
             0,
             "#8e0152"
            ],
            [
             0.1,
             "#c51b7d"
            ],
            [
             0.2,
             "#de77ae"
            ],
            [
             0.3,
             "#f1b6da"
            ],
            [
             0.4,
             "#fde0ef"
            ],
            [
             0.5,
             "#f7f7f7"
            ],
            [
             0.6,
             "#e6f5d0"
            ],
            [
             0.7,
             "#b8e186"
            ],
            [
             0.8,
             "#7fbc41"
            ],
            [
             0.9,
             "#4d9221"
            ],
            [
             1,
             "#276419"
            ]
           ],
           "sequential": [
            [
             0,
             "#0d0887"
            ],
            [
             0.1111111111111111,
             "#46039f"
            ],
            [
             0.2222222222222222,
             "#7201a8"
            ],
            [
             0.3333333333333333,
             "#9c179e"
            ],
            [
             0.4444444444444444,
             "#bd3786"
            ],
            [
             0.5555555555555556,
             "#d8576b"
            ],
            [
             0.6666666666666666,
             "#ed7953"
            ],
            [
             0.7777777777777778,
             "#fb9f3a"
            ],
            [
             0.8888888888888888,
             "#fdca26"
            ],
            [
             1,
             "#f0f921"
            ]
           ],
           "sequentialminus": [
            [
             0,
             "#0d0887"
            ],
            [
             0.1111111111111111,
             "#46039f"
            ],
            [
             0.2222222222222222,
             "#7201a8"
            ],
            [
             0.3333333333333333,
             "#9c179e"
            ],
            [
             0.4444444444444444,
             "#bd3786"
            ],
            [
             0.5555555555555556,
             "#d8576b"
            ],
            [
             0.6666666666666666,
             "#ed7953"
            ],
            [
             0.7777777777777778,
             "#fb9f3a"
            ],
            [
             0.8888888888888888,
             "#fdca26"
            ],
            [
             1,
             "#f0f921"
            ]
           ]
          },
          "colorway": [
           "#636efa",
           "#EF553B",
           "#00cc96",
           "#ab63fa",
           "#FFA15A",
           "#19d3f3",
           "#FF6692",
           "#B6E880",
           "#FF97FF",
           "#FECB52"
          ],
          "font": {
           "color": "#2a3f5f"
          },
          "geo": {
           "bgcolor": "white",
           "lakecolor": "white",
           "landcolor": "#E5ECF6",
           "showlakes": true,
           "showland": true,
           "subunitcolor": "white"
          },
          "hoverlabel": {
           "align": "left"
          },
          "hovermode": "closest",
          "mapbox": {
           "style": "light"
          },
          "paper_bgcolor": "white",
          "plot_bgcolor": "#E5ECF6",
          "polar": {
           "angularaxis": {
            "gridcolor": "white",
            "linecolor": "white",
            "ticks": ""
           },
           "bgcolor": "#E5ECF6",
           "radialaxis": {
            "gridcolor": "white",
            "linecolor": "white",
            "ticks": ""
           }
          },
          "scene": {
           "xaxis": {
            "backgroundcolor": "#E5ECF6",
            "gridcolor": "white",
            "gridwidth": 2,
            "linecolor": "white",
            "showbackground": true,
            "ticks": "",
            "zerolinecolor": "white"
           },
           "yaxis": {
            "backgroundcolor": "#E5ECF6",
            "gridcolor": "white",
            "gridwidth": 2,
            "linecolor": "white",
            "showbackground": true,
            "ticks": "",
            "zerolinecolor": "white"
           },
           "zaxis": {
            "backgroundcolor": "#E5ECF6",
            "gridcolor": "white",
            "gridwidth": 2,
            "linecolor": "white",
            "showbackground": true,
            "ticks": "",
            "zerolinecolor": "white"
           }
          },
          "shapedefaults": {
           "line": {
            "color": "#2a3f5f"
           }
          },
          "ternary": {
           "aaxis": {
            "gridcolor": "white",
            "linecolor": "white",
            "ticks": ""
           },
           "baxis": {
            "gridcolor": "white",
            "linecolor": "white",
            "ticks": ""
           },
           "bgcolor": "#E5ECF6",
           "caxis": {
            "gridcolor": "white",
            "linecolor": "white",
            "ticks": ""
           }
          },
          "title": {
           "x": 0.05
          },
          "xaxis": {
           "automargin": true,
           "gridcolor": "white",
           "linecolor": "white",
           "ticks": "",
           "title": {
            "standoff": 15
           },
           "zerolinecolor": "white",
           "zerolinewidth": 2
          },
          "yaxis": {
           "automargin": true,
           "gridcolor": "white",
           "linecolor": "white",
           "ticks": "",
           "title": {
            "standoff": 15
           },
           "zerolinecolor": "white",
           "zerolinewidth": 2
          }
         }
        },
        "xaxis": {
         "anchor": "y",
         "domain": [
          0,
          1
         ],
         "title": {
          "text": "customer_name"
         }
        },
        "yaxis": {
         "anchor": "x",
         "domain": [
          0,
          1
         ],
         "title": {
          "text": "total_price"
         }
        }
       }
      }
     },
     "metadata": {},
     "output_type": "display_data"
    }
   ],
   "source": [
    "# plotly\n",
    "px.bar(data_frame=result, x=result.customer_name, y=result.total_price)"
   ]
  },
  {
   "cell_type": "code",
   "execution_count": 483,
   "id": "0aa83914",
   "metadata": {},
   "outputs": [
    {
     "data": {
      "application/vnd.plotly.v1+json": {
       "config": {
        "plotlyServerURL": "https://plot.ly"
       },
       "data": [
        {
         "alignmentgroup": "True",
         "hovertemplate": "customer_name=%{x}<br>total_price=%{y}<extra></extra>",
         "legendgroup": "",
         "marker": {
          "color": "#636efa",
          "pattern": {
           "shape": ""
          }
         },
         "name": "",
         "offsetgroup": "",
         "orientation": "v",
         "showlegend": false,
         "textposition": "auto",
         "type": "bar",
         "x": [
          "Corena Ownsworth",
          "Rolfe Klainman",
          "Ruggiero Lanahan",
          "Vern Harsnep",
          "Chip Diggles"
         ],
         "xaxis": "x",
         "y": [
          91947.04,
          91856.38,
          90824.24,
          90821.86,
          88553
         ],
         "yaxis": "y"
        }
       ],
       "layout": {
        "barmode": "relative",
        "legend": {
         "tracegroupgap": 0
        },
        "margin": {
         "t": 60
        },
        "template": {
         "data": {
          "bar": [
           {
            "error_x": {
             "color": "#2a3f5f"
            },
            "error_y": {
             "color": "#2a3f5f"
            },
            "marker": {
             "line": {
              "color": "#E5ECF6",
              "width": 0.5
             },
             "pattern": {
              "fillmode": "overlay",
              "size": 10,
              "solidity": 0.2
             }
            },
            "type": "bar"
           }
          ],
          "barpolar": [
           {
            "marker": {
             "line": {
              "color": "#E5ECF6",
              "width": 0.5
             },
             "pattern": {
              "fillmode": "overlay",
              "size": 10,
              "solidity": 0.2
             }
            },
            "type": "barpolar"
           }
          ],
          "carpet": [
           {
            "aaxis": {
             "endlinecolor": "#2a3f5f",
             "gridcolor": "white",
             "linecolor": "white",
             "minorgridcolor": "white",
             "startlinecolor": "#2a3f5f"
            },
            "baxis": {
             "endlinecolor": "#2a3f5f",
             "gridcolor": "white",
             "linecolor": "white",
             "minorgridcolor": "white",
             "startlinecolor": "#2a3f5f"
            },
            "type": "carpet"
           }
          ],
          "choropleth": [
           {
            "colorbar": {
             "outlinewidth": 0,
             "ticks": ""
            },
            "type": "choropleth"
           }
          ],
          "contour": [
           {
            "colorbar": {
             "outlinewidth": 0,
             "ticks": ""
            },
            "colorscale": [
             [
              0,
              "#0d0887"
             ],
             [
              0.1111111111111111,
              "#46039f"
             ],
             [
              0.2222222222222222,
              "#7201a8"
             ],
             [
              0.3333333333333333,
              "#9c179e"
             ],
             [
              0.4444444444444444,
              "#bd3786"
             ],
             [
              0.5555555555555556,
              "#d8576b"
             ],
             [
              0.6666666666666666,
              "#ed7953"
             ],
             [
              0.7777777777777778,
              "#fb9f3a"
             ],
             [
              0.8888888888888888,
              "#fdca26"
             ],
             [
              1,
              "#f0f921"
             ]
            ],
            "type": "contour"
           }
          ],
          "contourcarpet": [
           {
            "colorbar": {
             "outlinewidth": 0,
             "ticks": ""
            },
            "type": "contourcarpet"
           }
          ],
          "heatmap": [
           {
            "colorbar": {
             "outlinewidth": 0,
             "ticks": ""
            },
            "colorscale": [
             [
              0,
              "#0d0887"
             ],
             [
              0.1111111111111111,
              "#46039f"
             ],
             [
              0.2222222222222222,
              "#7201a8"
             ],
             [
              0.3333333333333333,
              "#9c179e"
             ],
             [
              0.4444444444444444,
              "#bd3786"
             ],
             [
              0.5555555555555556,
              "#d8576b"
             ],
             [
              0.6666666666666666,
              "#ed7953"
             ],
             [
              0.7777777777777778,
              "#fb9f3a"
             ],
             [
              0.8888888888888888,
              "#fdca26"
             ],
             [
              1,
              "#f0f921"
             ]
            ],
            "type": "heatmap"
           }
          ],
          "heatmapgl": [
           {
            "colorbar": {
             "outlinewidth": 0,
             "ticks": ""
            },
            "colorscale": [
             [
              0,
              "#0d0887"
             ],
             [
              0.1111111111111111,
              "#46039f"
             ],
             [
              0.2222222222222222,
              "#7201a8"
             ],
             [
              0.3333333333333333,
              "#9c179e"
             ],
             [
              0.4444444444444444,
              "#bd3786"
             ],
             [
              0.5555555555555556,
              "#d8576b"
             ],
             [
              0.6666666666666666,
              "#ed7953"
             ],
             [
              0.7777777777777778,
              "#fb9f3a"
             ],
             [
              0.8888888888888888,
              "#fdca26"
             ],
             [
              1,
              "#f0f921"
             ]
            ],
            "type": "heatmapgl"
           }
          ],
          "histogram": [
           {
            "marker": {
             "pattern": {
              "fillmode": "overlay",
              "size": 10,
              "solidity": 0.2
             }
            },
            "type": "histogram"
           }
          ],
          "histogram2d": [
           {
            "colorbar": {
             "outlinewidth": 0,
             "ticks": ""
            },
            "colorscale": [
             [
              0,
              "#0d0887"
             ],
             [
              0.1111111111111111,
              "#46039f"
             ],
             [
              0.2222222222222222,
              "#7201a8"
             ],
             [
              0.3333333333333333,
              "#9c179e"
             ],
             [
              0.4444444444444444,
              "#bd3786"
             ],
             [
              0.5555555555555556,
              "#d8576b"
             ],
             [
              0.6666666666666666,
              "#ed7953"
             ],
             [
              0.7777777777777778,
              "#fb9f3a"
             ],
             [
              0.8888888888888888,
              "#fdca26"
             ],
             [
              1,
              "#f0f921"
             ]
            ],
            "type": "histogram2d"
           }
          ],
          "histogram2dcontour": [
           {
            "colorbar": {
             "outlinewidth": 0,
             "ticks": ""
            },
            "colorscale": [
             [
              0,
              "#0d0887"
             ],
             [
              0.1111111111111111,
              "#46039f"
             ],
             [
              0.2222222222222222,
              "#7201a8"
             ],
             [
              0.3333333333333333,
              "#9c179e"
             ],
             [
              0.4444444444444444,
              "#bd3786"
             ],
             [
              0.5555555555555556,
              "#d8576b"
             ],
             [
              0.6666666666666666,
              "#ed7953"
             ],
             [
              0.7777777777777778,
              "#fb9f3a"
             ],
             [
              0.8888888888888888,
              "#fdca26"
             ],
             [
              1,
              "#f0f921"
             ]
            ],
            "type": "histogram2dcontour"
           }
          ],
          "mesh3d": [
           {
            "colorbar": {
             "outlinewidth": 0,
             "ticks": ""
            },
            "type": "mesh3d"
           }
          ],
          "parcoords": [
           {
            "line": {
             "colorbar": {
              "outlinewidth": 0,
              "ticks": ""
             }
            },
            "type": "parcoords"
           }
          ],
          "pie": [
           {
            "automargin": true,
            "type": "pie"
           }
          ],
          "scatter": [
           {
            "fillpattern": {
             "fillmode": "overlay",
             "size": 10,
             "solidity": 0.2
            },
            "type": "scatter"
           }
          ],
          "scatter3d": [
           {
            "line": {
             "colorbar": {
              "outlinewidth": 0,
              "ticks": ""
             }
            },
            "marker": {
             "colorbar": {
              "outlinewidth": 0,
              "ticks": ""
             }
            },
            "type": "scatter3d"
           }
          ],
          "scattercarpet": [
           {
            "marker": {
             "colorbar": {
              "outlinewidth": 0,
              "ticks": ""
             }
            },
            "type": "scattercarpet"
           }
          ],
          "scattergeo": [
           {
            "marker": {
             "colorbar": {
              "outlinewidth": 0,
              "ticks": ""
             }
            },
            "type": "scattergeo"
           }
          ],
          "scattergl": [
           {
            "marker": {
             "colorbar": {
              "outlinewidth": 0,
              "ticks": ""
             }
            },
            "type": "scattergl"
           }
          ],
          "scattermapbox": [
           {
            "marker": {
             "colorbar": {
              "outlinewidth": 0,
              "ticks": ""
             }
            },
            "type": "scattermapbox"
           }
          ],
          "scatterpolar": [
           {
            "marker": {
             "colorbar": {
              "outlinewidth": 0,
              "ticks": ""
             }
            },
            "type": "scatterpolar"
           }
          ],
          "scatterpolargl": [
           {
            "marker": {
             "colorbar": {
              "outlinewidth": 0,
              "ticks": ""
             }
            },
            "type": "scatterpolargl"
           }
          ],
          "scatterternary": [
           {
            "marker": {
             "colorbar": {
              "outlinewidth": 0,
              "ticks": ""
             }
            },
            "type": "scatterternary"
           }
          ],
          "surface": [
           {
            "colorbar": {
             "outlinewidth": 0,
             "ticks": ""
            },
            "colorscale": [
             [
              0,
              "#0d0887"
             ],
             [
              0.1111111111111111,
              "#46039f"
             ],
             [
              0.2222222222222222,
              "#7201a8"
             ],
             [
              0.3333333333333333,
              "#9c179e"
             ],
             [
              0.4444444444444444,
              "#bd3786"
             ],
             [
              0.5555555555555556,
              "#d8576b"
             ],
             [
              0.6666666666666666,
              "#ed7953"
             ],
             [
              0.7777777777777778,
              "#fb9f3a"
             ],
             [
              0.8888888888888888,
              "#fdca26"
             ],
             [
              1,
              "#f0f921"
             ]
            ],
            "type": "surface"
           }
          ],
          "table": [
           {
            "cells": {
             "fill": {
              "color": "#EBF0F8"
             },
             "line": {
              "color": "white"
             }
            },
            "header": {
             "fill": {
              "color": "#C8D4E3"
             },
             "line": {
              "color": "white"
             }
            },
            "type": "table"
           }
          ]
         },
         "layout": {
          "annotationdefaults": {
           "arrowcolor": "#2a3f5f",
           "arrowhead": 0,
           "arrowwidth": 1
          },
          "autotypenumbers": "strict",
          "coloraxis": {
           "colorbar": {
            "outlinewidth": 0,
            "ticks": ""
           }
          },
          "colorscale": {
           "diverging": [
            [
             0,
             "#8e0152"
            ],
            [
             0.1,
             "#c51b7d"
            ],
            [
             0.2,
             "#de77ae"
            ],
            [
             0.3,
             "#f1b6da"
            ],
            [
             0.4,
             "#fde0ef"
            ],
            [
             0.5,
             "#f7f7f7"
            ],
            [
             0.6,
             "#e6f5d0"
            ],
            [
             0.7,
             "#b8e186"
            ],
            [
             0.8,
             "#7fbc41"
            ],
            [
             0.9,
             "#4d9221"
            ],
            [
             1,
             "#276419"
            ]
           ],
           "sequential": [
            [
             0,
             "#0d0887"
            ],
            [
             0.1111111111111111,
             "#46039f"
            ],
            [
             0.2222222222222222,
             "#7201a8"
            ],
            [
             0.3333333333333333,
             "#9c179e"
            ],
            [
             0.4444444444444444,
             "#bd3786"
            ],
            [
             0.5555555555555556,
             "#d8576b"
            ],
            [
             0.6666666666666666,
             "#ed7953"
            ],
            [
             0.7777777777777778,
             "#fb9f3a"
            ],
            [
             0.8888888888888888,
             "#fdca26"
            ],
            [
             1,
             "#f0f921"
            ]
           ],
           "sequentialminus": [
            [
             0,
             "#0d0887"
            ],
            [
             0.1111111111111111,
             "#46039f"
            ],
            [
             0.2222222222222222,
             "#7201a8"
            ],
            [
             0.3333333333333333,
             "#9c179e"
            ],
            [
             0.4444444444444444,
             "#bd3786"
            ],
            [
             0.5555555555555556,
             "#d8576b"
            ],
            [
             0.6666666666666666,
             "#ed7953"
            ],
            [
             0.7777777777777778,
             "#fb9f3a"
            ],
            [
             0.8888888888888888,
             "#fdca26"
            ],
            [
             1,
             "#f0f921"
            ]
           ]
          },
          "colorway": [
           "#636efa",
           "#EF553B",
           "#00cc96",
           "#ab63fa",
           "#FFA15A",
           "#19d3f3",
           "#FF6692",
           "#B6E880",
           "#FF97FF",
           "#FECB52"
          ],
          "font": {
           "color": "#2a3f5f"
          },
          "geo": {
           "bgcolor": "white",
           "lakecolor": "white",
           "landcolor": "#E5ECF6",
           "showlakes": true,
           "showland": true,
           "subunitcolor": "white"
          },
          "hoverlabel": {
           "align": "left"
          },
          "hovermode": "closest",
          "mapbox": {
           "style": "light"
          },
          "paper_bgcolor": "white",
          "plot_bgcolor": "#E5ECF6",
          "polar": {
           "angularaxis": {
            "gridcolor": "white",
            "linecolor": "white",
            "ticks": ""
           },
           "bgcolor": "#E5ECF6",
           "radialaxis": {
            "gridcolor": "white",
            "linecolor": "white",
            "ticks": ""
           }
          },
          "scene": {
           "xaxis": {
            "backgroundcolor": "#E5ECF6",
            "gridcolor": "white",
            "gridwidth": 2,
            "linecolor": "white",
            "showbackground": true,
            "ticks": "",
            "zerolinecolor": "white"
           },
           "yaxis": {
            "backgroundcolor": "#E5ECF6",
            "gridcolor": "white",
            "gridwidth": 2,
            "linecolor": "white",
            "showbackground": true,
            "ticks": "",
            "zerolinecolor": "white"
           },
           "zaxis": {
            "backgroundcolor": "#E5ECF6",
            "gridcolor": "white",
            "gridwidth": 2,
            "linecolor": "white",
            "showbackground": true,
            "ticks": "",
            "zerolinecolor": "white"
           }
          },
          "shapedefaults": {
           "line": {
            "color": "#2a3f5f"
           }
          },
          "ternary": {
           "aaxis": {
            "gridcolor": "white",
            "linecolor": "white",
            "ticks": ""
           },
           "baxis": {
            "gridcolor": "white",
            "linecolor": "white",
            "ticks": ""
           },
           "bgcolor": "#E5ECF6",
           "caxis": {
            "gridcolor": "white",
            "linecolor": "white",
            "ticks": ""
           }
          },
          "title": {
           "x": 0.05
          },
          "xaxis": {
           "automargin": true,
           "gridcolor": "white",
           "linecolor": "white",
           "ticks": "",
           "title": {
            "standoff": 15
           },
           "zerolinecolor": "white",
           "zerolinewidth": 2
          },
          "yaxis": {
           "automargin": true,
           "gridcolor": "white",
           "linecolor": "white",
           "ticks": "",
           "title": {
            "standoff": 15
           },
           "zerolinecolor": "white",
           "zerolinewidth": 2
          }
         }
        },
        "xaxis": {
         "anchor": "y",
         "domain": [
          0,
          1
         ],
         "title": {
          "text": "customer_name"
         }
        },
        "yaxis": {
         "anchor": "x",
         "domain": [
          0,
          1
         ],
         "title": {
          "text": "total_price"
         }
        }
       }
      }
     },
     "metadata": {},
     "output_type": "display_data"
    }
   ],
   "source": [
    "# as pandas backend\n",
    "result.plot(x=result.customer_name, y=result.total_price, backend='plotly', kind='bar')"
   ]
  },
  {
   "cell_type": "markdown",
   "id": "193f3a7f",
   "metadata": {},
   "source": [
    "## Line Chart"
   ]
  },
  {
   "cell_type": "code",
   "execution_count": 484,
   "id": "b82377cd",
   "metadata": {},
   "outputs": [
    {
     "data": {
      "text/html": [
       "<div>\n",
       "<style scoped>\n",
       "    .dataframe tbody tr th:only-of-type {\n",
       "        vertical-align: middle;\n",
       "    }\n",
       "\n",
       "    .dataframe tbody tr th {\n",
       "        vertical-align: top;\n",
       "    }\n",
       "\n",
       "    .dataframe thead th {\n",
       "        text-align: right;\n",
       "    }\n",
       "</style>\n",
       "<table border=\"1\" class=\"dataframe\">\n",
       "  <thead>\n",
       "    <tr style=\"text-align: right;\">\n",
       "      <th></th>\n",
       "      <th>order_month</th>\n",
       "      <th>order_month_num</th>\n",
       "      <th>quantity</th>\n",
       "    </tr>\n",
       "  </thead>\n",
       "  <tbody>\n",
       "    <tr>\n",
       "      <th>4</th>\n",
       "      <td>January</td>\n",
       "      <td>1</td>\n",
       "      <td>4189</td>\n",
       "    </tr>\n",
       "    <tr>\n",
       "      <th>3</th>\n",
       "      <td>February</td>\n",
       "      <td>2</td>\n",
       "      <td>4555</td>\n",
       "    </tr>\n",
       "    <tr>\n",
       "      <th>7</th>\n",
       "      <td>March</td>\n",
       "      <td>3</td>\n",
       "      <td>3789</td>\n",
       "    </tr>\n",
       "    <tr>\n",
       "      <th>0</th>\n",
       "      <td>April</td>\n",
       "      <td>4</td>\n",
       "      <td>4166</td>\n",
       "    </tr>\n",
       "    <tr>\n",
       "      <th>8</th>\n",
       "      <td>May</td>\n",
       "      <td>5</td>\n",
       "      <td>3705</td>\n",
       "    </tr>\n",
       "  </tbody>\n",
       "</table>\n",
       "</div>"
      ],
      "text/plain": [
       "  order_month  order_month_num  quantity\n",
       "4     January                1      4189\n",
       "3    February                2      4555\n",
       "7       March                3      3789\n",
       "0       April                4      4166\n",
       "8         May                5      3705"
      ]
     },
     "metadata": {},
     "output_type": "display_data"
    }
   ],
   "source": [
    "# show order sold per month\n",
    "lineDf = df.copy()\n",
    "lineDf['order_month_num'] = df.order_date.dt.month\n",
    "lineDf['order_month'] = df.order_date.dt.month_name()\n",
    "\n",
    "result = lineDf.groupby(by=['order_month', 'order_month_num'], as_index=False).agg({\"quantity\": 'sum'}).\\\n",
    "    sort_values(by=['order_month_num'])\n",
    "display(result.head())"
   ]
  },
  {
   "cell_type": "markdown",
   "id": "9be53983",
   "metadata": {},
   "source": [
    "### Matplotlib and Seaborn"
   ]
  },
  {
   "cell_type": "code",
   "execution_count": 485,
   "id": "5752aab6",
   "metadata": {},
   "outputs": [
    {
     "data": {
      "image/png": "[encoded data removed]",
      "text/plain": [
       "<Figure size 2000x600 with 2 Axes>"
      ]
     },
     "metadata": {},
     "output_type": "display_data"
    }
   ],
   "source": [
    "fig, ax = plt.subplots(ncols=2, figsize=(20,6))\n",
    "ax[0].set_title(\"Matplotlib\")\n",
    "ax[0].tick_params(axis='x', labelrotation=45)\n",
    "ax[0].plot(result.order_month, result.quantity)\n",
    "\n",
    "ax[0].set_title(\"Seaborn\")\n",
    "ax[1].tick_params(axis='x', labelrotation=45)\n",
    "sns.lineplot(\n",
    "    data=result,\n",
    "    x=result.order_month,\n",
    "    y=result.quantity,\n",
    "    ax=ax[1],\n",
    ")\n",
    "\n",
    "plt.show()"
   ]
  },
  {
   "cell_type": "markdown",
   "id": "7825fec2",
   "metadata": {},
   "source": [
    "### Plotly"
   ]
  },
  {
   "cell_type": "code",
   "execution_count": 486,
   "id": "13626de7",
   "metadata": {},
   "outputs": [
    {
     "data": {
      "application/vnd.plotly.v1+json": {
       "config": {
        "plotlyServerURL": "https://plot.ly"
       },
       "data": [
        {
         "hovertemplate": "order_month=%{x}<br>quantity=%{y}<extra></extra>",
         "legendgroup": "",
         "line": {
          "color": "#636efa",
          "dash": "solid"
         },
         "marker": {
          "symbol": "circle"
         },
         "mode": "lines",
         "name": "",
         "orientation": "v",
         "showlegend": false,
         "type": "scatter",
         "x": [
          "January",
          "February",
          "March",
          "April",
          "May",
          "June",
          "July",
          "August",
          "September",
          "October",
          "November",
          "December"
         ],
         "xaxis": "x",
         "y": [
          4189,
          4555,
          3789,
          4166,
          3705,
          4198,
          3679,
          4560,
          4053,
          4148,
          4223,
          4673
         ],
         "yaxis": "y"
        }
       ],
       "layout": {
        "legend": {
         "tracegroupgap": 0
        },
        "margin": {
         "t": 60
        },
        "template": {
         "data": {
          "bar": [
           {
            "error_x": {
             "color": "#2a3f5f"
            },
            "error_y": {
             "color": "#2a3f5f"
            },
            "marker": {
             "line": {
              "color": "#E5ECF6",
              "width": 0.5
             },
             "pattern": {
              "fillmode": "overlay",
              "size": 10,
              "solidity": 0.2
             }
            },
            "type": "bar"
           }
          ],
          "barpolar": [
           {
            "marker": {
             "line": {
              "color": "#E5ECF6",
              "width": 0.5
             },
             "pattern": {
              "fillmode": "overlay",
              "size": 10,
              "solidity": 0.2
             }
            },
            "type": "barpolar"
           }
          ],
          "carpet": [
           {
            "aaxis": {
             "endlinecolor": "#2a3f5f",
             "gridcolor": "white",
             "linecolor": "white",
             "minorgridcolor": "white",
             "startlinecolor": "#2a3f5f"
            },
            "baxis": {
             "endlinecolor": "#2a3f5f",
             "gridcolor": "white",
             "linecolor": "white",
             "minorgridcolor": "white",
             "startlinecolor": "#2a3f5f"
            },
            "type": "carpet"
           }
          ],
          "choropleth": [
           {
            "colorbar": {
             "outlinewidth": 0,
             "ticks": ""
            },
            "type": "choropleth"
           }
          ],
          "contour": [
           {
            "colorbar": {
             "outlinewidth": 0,
             "ticks": ""
            },
            "colorscale": [
             [
              0,
              "#0d0887"
             ],
             [
              0.1111111111111111,
              "#46039f"
             ],
             [
              0.2222222222222222,
              "#7201a8"
             ],
             [
              0.3333333333333333,
              "#9c179e"
             ],
             [
              0.4444444444444444,
              "#bd3786"
             ],
             [
              0.5555555555555556,
              "#d8576b"
             ],
             [
              0.6666666666666666,
              "#ed7953"
             ],
             [
              0.7777777777777778,
              "#fb9f3a"
             ],
             [
              0.8888888888888888,
              "#fdca26"
             ],
             [
              1,
              "#f0f921"
             ]
            ],
            "type": "contour"
           }
          ],
          "contourcarpet": [
           {
            "colorbar": {
             "outlinewidth": 0,
             "ticks": ""
            },
            "type": "contourcarpet"
           }
          ],
          "heatmap": [
           {
            "colorbar": {
             "outlinewidth": 0,
             "ticks": ""
            },
            "colorscale": [
             [
              0,
              "#0d0887"
             ],
             [
              0.1111111111111111,
              "#46039f"
             ],
             [
              0.2222222222222222,
              "#7201a8"
             ],
             [
              0.3333333333333333,
              "#9c179e"
             ],
             [
              0.4444444444444444,
              "#bd3786"
             ],
             [
              0.5555555555555556,
              "#d8576b"
             ],
             [
              0.6666666666666666,
              "#ed7953"
             ],
             [
              0.7777777777777778,
              "#fb9f3a"
             ],
             [
              0.8888888888888888,
              "#fdca26"
             ],
             [
              1,
              "#f0f921"
             ]
            ],
            "type": "heatmap"
           }
          ],
          "heatmapgl": [
           {
            "colorbar": {
             "outlinewidth": 0,
             "ticks": ""
            },
            "colorscale": [
             [
              0,
              "#0d0887"
             ],
             [
              0.1111111111111111,
              "#46039f"
             ],
             [
              0.2222222222222222,
              "#7201a8"
             ],
             [
              0.3333333333333333,
              "#9c179e"
             ],
             [
              0.4444444444444444,
              "#bd3786"
             ],
             [
              0.5555555555555556,
              "#d8576b"
             ],
             [
              0.6666666666666666,
              "#ed7953"
             ],
             [
              0.7777777777777778,
              "#fb9f3a"
             ],
             [
              0.8888888888888888,
              "#fdca26"
             ],
             [
              1,
              "#f0f921"
             ]
            ],
            "type": "heatmapgl"
           }
          ],
          "histogram": [
           {
            "marker": {
             "pattern": {
              "fillmode": "overlay",
              "size": 10,
              "solidity": 0.2
             }
            },
            "type": "histogram"
           }
          ],
          "histogram2d": [
           {
            "colorbar": {
             "outlinewidth": 0,
             "ticks": ""
            },
            "colorscale": [
             [
              0,
              "#0d0887"
             ],
             [
              0.1111111111111111,
              "#46039f"
             ],
             [
              0.2222222222222222,
              "#7201a8"
             ],
             [
              0.3333333333333333,
              "#9c179e"
             ],
             [
              0.4444444444444444,
              "#bd3786"
             ],
             [
              0.5555555555555556,
              "#d8576b"
             ],
             [
              0.6666666666666666,
              "#ed7953"
             ],
             [
              0.7777777777777778,
              "#fb9f3a"
             ],
             [
              0.8888888888888888,
              "#fdca26"
             ],
             [
              1,
              "#f0f921"
             ]
            ],
            "type": "histogram2d"
           }
          ],
          "histogram2dcontour": [
           {
            "colorbar": {
             "outlinewidth": 0,
             "ticks": ""
            },
            "colorscale": [
             [
              0,
              "#0d0887"
             ],
             [
              0.1111111111111111,
              "#46039f"
             ],
             [
              0.2222222222222222,
              "#7201a8"
             ],
             [
              0.3333333333333333,
              "#9c179e"
             ],
             [
              0.4444444444444444,
              "#bd3786"
             ],
             [
              0.5555555555555556,
              "#d8576b"
             ],
             [
              0.6666666666666666,
              "#ed7953"
             ],
             [
              0.7777777777777778,
              "#fb9f3a"
             ],
             [
              0.8888888888888888,
              "#fdca26"
             ],
             [
              1,
              "#f0f921"
             ]
            ],
            "type": "histogram2dcontour"
           }
          ],
          "mesh3d": [
           {
            "colorbar": {
             "outlinewidth": 0,
             "ticks": ""
            },
            "type": "mesh3d"
           }
          ],
          "parcoords": [
           {
            "line": {
             "colorbar": {
              "outlinewidth": 0,
              "ticks": ""
             }
            },
            "type": "parcoords"
           }
          ],
          "pie": [
           {
            "automargin": true,
            "type": "pie"
           }
          ],
          "scatter": [
           {
            "fillpattern": {
             "fillmode": "overlay",
             "size": 10,
             "solidity": 0.2
            },
            "type": "scatter"
           }
          ],
          "scatter3d": [
           {
            "line": {
             "colorbar": {
              "outlinewidth": 0,
              "ticks": ""
             }
            },
            "marker": {
             "colorbar": {
              "outlinewidth": 0,
              "ticks": ""
             }
            },
            "type": "scatter3d"
           }
          ],
          "scattercarpet": [
           {
            "marker": {
             "colorbar": {
              "outlinewidth": 0,
              "ticks": ""
             }
            },
            "type": "scattercarpet"
           }
          ],
          "scattergeo": [
           {
            "marker": {
             "colorbar": {
              "outlinewidth": 0,
              "ticks": ""
             }
            },
            "type": "scattergeo"
           }
          ],
          "scattergl": [
           {
            "marker": {
             "colorbar": {
              "outlinewidth": 0,
              "ticks": ""
             }
            },
            "type": "scattergl"
           }
          ],
          "scattermapbox": [
           {
            "marker": {
             "colorbar": {
              "outlinewidth": 0,
              "ticks": ""
             }
            },
            "type": "scattermapbox"
           }
          ],
          "scatterpolar": [
           {
            "marker": {
             "colorbar": {
              "outlinewidth": 0,
              "ticks": ""
             }
            },
            "type": "scatterpolar"
           }
          ],
          "scatterpolargl": [
           {
            "marker": {
             "colorbar": {
              "outlinewidth": 0,
              "ticks": ""
             }
            },
            "type": "scatterpolargl"
           }
          ],
          "scatterternary": [
           {
            "marker": {
             "colorbar": {
              "outlinewidth": 0,
              "ticks": ""
             }
            },
            "type": "scatterternary"
           }
          ],
          "surface": [
           {
            "colorbar": {
             "outlinewidth": 0,
             "ticks": ""
            },
            "colorscale": [
             [
              0,
              "#0d0887"
             ],
             [
              0.1111111111111111,
              "#46039f"
             ],
             [
              0.2222222222222222,
              "#7201a8"
             ],
             [
              0.3333333333333333,
              "#9c179e"
             ],
             [
              0.4444444444444444,
              "#bd3786"
             ],
             [
              0.5555555555555556,
              "#d8576b"
             ],
             [
              0.6666666666666666,
              "#ed7953"
             ],
             [
              0.7777777777777778,
              "#fb9f3a"
             ],
             [
              0.8888888888888888,
              "#fdca26"
             ],
             [
              1,
              "#f0f921"
             ]
            ],
            "type": "surface"
           }
          ],
          "table": [
           {
            "cells": {
             "fill": {
              "color": "#EBF0F8"
             },
             "line": {
              "color": "white"
             }
            },
            "header": {
             "fill": {
              "color": "#C8D4E3"
             },
             "line": {
              "color": "white"
             }
            },
            "type": "table"
           }
          ]
         },
         "layout": {
          "annotationdefaults": {
           "arrowcolor": "#2a3f5f",
           "arrowhead": 0,
           "arrowwidth": 1
          },
          "autotypenumbers": "strict",
          "coloraxis": {
           "colorbar": {
            "outlinewidth": 0,
            "ticks": ""
           }
          },
          "colorscale": {
           "diverging": [
            [
             0,
             "#8e0152"
            ],
            [
             0.1,
             "#c51b7d"
            ],
            [
             0.2,
             "#de77ae"
            ],
            [
             0.3,
             "#f1b6da"
            ],
            [
             0.4,
             "#fde0ef"
            ],
            [
             0.5,
             "#f7f7f7"
            ],
            [
             0.6,
             "#e6f5d0"
            ],
            [
             0.7,
             "#b8e186"
            ],
            [
             0.8,
             "#7fbc41"
            ],
            [
             0.9,
             "#4d9221"
            ],
            [
             1,
             "#276419"
            ]
           ],
           "sequential": [
            [
             0,
             "#0d0887"
            ],
            [
             0.1111111111111111,
             "#46039f"
            ],
            [
             0.2222222222222222,
             "#7201a8"
            ],
            [
             0.3333333333333333,
             "#9c179e"
            ],
            [
             0.4444444444444444,
             "#bd3786"
            ],
            [
             0.5555555555555556,
             "#d8576b"
            ],
            [
             0.6666666666666666,
             "#ed7953"
            ],
            [
             0.7777777777777778,
             "#fb9f3a"
            ],
            [
             0.8888888888888888,
             "#fdca26"
            ],
            [
             1,
             "#f0f921"
            ]
           ],
           "sequentialminus": [
            [
             0,
             "#0d0887"
            ],
            [
             0.1111111111111111,
             "#46039f"
            ],
            [
             0.2222222222222222,
             "#7201a8"
            ],
            [
             0.3333333333333333,
             "#9c179e"
            ],
            [
             0.4444444444444444,
             "#bd3786"
            ],
            [
             0.5555555555555556,
             "#d8576b"
            ],
            [
             0.6666666666666666,
             "#ed7953"
            ],
            [
             0.7777777777777778,
             "#fb9f3a"
            ],
            [
             0.8888888888888888,
             "#fdca26"
            ],
            [
             1,
             "#f0f921"
            ]
           ]
          },
          "colorway": [
           "#636efa",
           "#EF553B",
           "#00cc96",
           "#ab63fa",
           "#FFA15A",
           "#19d3f3",
           "#FF6692",
           "#B6E880",
           "#FF97FF",
           "#FECB52"
          ],
          "font": {
           "color": "#2a3f5f"
          },
          "geo": {
           "bgcolor": "white",
           "lakecolor": "white",
           "landcolor": "#E5ECF6",
           "showlakes": true,
           "showland": true,
           "subunitcolor": "white"
          },
          "hoverlabel": {
           "align": "left"
          },
          "hovermode": "closest",
          "mapbox": {
           "style": "light"
          },
          "paper_bgcolor": "white",
          "plot_bgcolor": "#E5ECF6",
          "polar": {
           "angularaxis": {
            "gridcolor": "white",
            "linecolor": "white",
            "ticks": ""
           },
           "bgcolor": "#E5ECF6",
           "radialaxis": {
            "gridcolor": "white",
            "linecolor": "white",
            "ticks": ""
           }
          },
          "scene": {
           "xaxis": {
            "backgroundcolor": "#E5ECF6",
            "gridcolor": "white",
            "gridwidth": 2,
            "linecolor": "white",
            "showbackground": true,
            "ticks": "",
            "zerolinecolor": "white"
           },
           "yaxis": {
            "backgroundcolor": "#E5ECF6",
            "gridcolor": "white",
            "gridwidth": 2,
            "linecolor": "white",
            "showbackground": true,
            "ticks": "",
            "zerolinecolor": "white"
           },
           "zaxis": {
            "backgroundcolor": "#E5ECF6",
            "gridcolor": "white",
            "gridwidth": 2,
            "linecolor": "white",
            "showbackground": true,
            "ticks": "",
            "zerolinecolor": "white"
           }
          },
          "shapedefaults": {
           "line": {
            "color": "#2a3f5f"
           }
          },
          "ternary": {
           "aaxis": {
            "gridcolor": "white",
            "linecolor": "white",
            "ticks": ""
           },
           "baxis": {
            "gridcolor": "white",
            "linecolor": "white",
            "ticks": ""
           },
           "bgcolor": "#E5ECF6",
           "caxis": {
            "gridcolor": "white",
            "linecolor": "white",
            "ticks": ""
           }
          },
          "title": {
           "x": 0.05
          },
          "xaxis": {
           "automargin": true,
           "gridcolor": "white",
           "linecolor": "white",
           "ticks": "",
           "title": {
            "standoff": 15
           },
           "zerolinecolor": "white",
           "zerolinewidth": 2
          },
          "yaxis": {
           "automargin": true,
           "gridcolor": "white",
           "linecolor": "white",
           "ticks": "",
           "title": {
            "standoff": 15
           },
           "zerolinecolor": "white",
           "zerolinewidth": 2
          }
         }
        },
        "xaxis": {
         "anchor": "y",
         "domain": [
          0,
          1
         ],
         "title": {
          "text": "order_month"
         }
        },
        "yaxis": {
         "anchor": "x",
         "domain": [
          0,
          1
         ],
         "title": {
          "text": "quantity"
         }
        }
       }
      }
     },
     "metadata": {},
     "output_type": "display_data"
    }
   ],
   "source": [
    "px.line(result, x=\"order_month\", y=\"quantity\")"
   ]
  },
  {
   "cell_type": "markdown",
   "id": "c888e226",
   "metadata": {},
   "source": [
    "## Pie Chart"
   ]
  },
  {
   "cell_type": "code",
   "execution_count": 487,
   "id": "bc19ec11",
   "metadata": {},
   "outputs": [],
   "source": [
    "# show payment method preferences\n",
    "counts = df.groupby(by=['payment_method']).payment_method.count().to_list()\n",
    "payment_methods = df.payment_method.unique()"
   ]
  },
  {
   "cell_type": "markdown",
   "id": "2a1c1808",
   "metadata": {},
   "source": [
    "### Matplotlib"
   ]
  },
  {
   "cell_type": "code",
   "execution_count": 488,
   "id": "20d506be",
   "metadata": {},
   "outputs": [
    {
     "data": {
      "image/png": "[encoded data removed]",
      "text/plain": [
       "<Figure size 640x480 with 1 Axes>"
      ]
     },
     "metadata": {},
     "output_type": "display_data"
    }
   ],
   "source": [
    "plt.pie(x=counts, labels=payment_methods, autopct='%.0f%%')\n",
    "plt.show()"
   ]
  },
  {
   "cell_type": "markdown",
   "id": "89cda419",
   "metadata": {},
   "source": [
    "### Plotly"
   ]
  },
  {
   "cell_type": "code",
   "execution_count": 489,
   "id": "fe4467c1",
   "metadata": {},
   "outputs": [
    {
     "data": {
      "application/vnd.plotly.v1+json": {
       "config": {
        "plotlyServerURL": "https://plot.ly"
       },
       "data": [
        {
         "domain": {
          "x": [
           0,
           1
          ],
          "y": [
           0,
           1
          ]
         },
         "hovertemplate": "label=%{label}<br>value=%{value}<extra></extra>",
         "labels": [
          "Credit Card",
          "Cash on Delivery",
          "PayPal"
         ],
         "legendgroup": "",
         "name": "",
         "showlegend": true,
         "type": "pie",
         "values": [
          333,
          337,
          330
         ]
        }
       ],
       "layout": {
        "legend": {
         "tracegroupgap": 0
        },
        "margin": {
         "t": 60
        },
        "template": {
         "data": {
          "bar": [
           {
            "error_x": {
             "color": "#2a3f5f"
            },
            "error_y": {
             "color": "#2a3f5f"
            },
            "marker": {
             "line": {
              "color": "#E5ECF6",
              "width": 0.5
             },
             "pattern": {
              "fillmode": "overlay",
              "size": 10,
              "solidity": 0.2
             }
            },
            "type": "bar"
           }
          ],
          "barpolar": [
           {
            "marker": {
             "line": {
              "color": "#E5ECF6",
              "width": 0.5
             },
             "pattern": {
              "fillmode": "overlay",
              "size": 10,
              "solidity": 0.2
             }
            },
            "type": "barpolar"
           }
          ],
          "carpet": [
           {
            "aaxis": {
             "endlinecolor": "#2a3f5f",
             "gridcolor": "white",
             "linecolor": "white",
             "minorgridcolor": "white",
             "startlinecolor": "#2a3f5f"
            },
            "baxis": {
             "endlinecolor": "#2a3f5f",
             "gridcolor": "white",
             "linecolor": "white",
             "minorgridcolor": "white",
             "startlinecolor": "#2a3f5f"
            },
            "type": "carpet"
           }
          ],
          "choropleth": [
           {
            "colorbar": {
             "outlinewidth": 0,
             "ticks": ""
            },
            "type": "choropleth"
           }
          ],
          "contour": [
           {
            "colorbar": {
             "outlinewidth": 0,
             "ticks": ""
            },
            "colorscale": [
             [
              0,
              "#0d0887"
             ],
             [
              0.1111111111111111,
              "#46039f"
             ],
             [
              0.2222222222222222,
              "#7201a8"
             ],
             [
              0.3333333333333333,
              "#9c179e"
             ],
             [
              0.4444444444444444,
              "#bd3786"
             ],
             [
              0.5555555555555556,
              "#d8576b"
             ],
             [
              0.6666666666666666,
              "#ed7953"
             ],
             [
              0.7777777777777778,
              "#fb9f3a"
             ],
             [
              0.8888888888888888,
              "#fdca26"
             ],
             [
              1,
              "#f0f921"
             ]
            ],
            "type": "contour"
           }
          ],
          "contourcarpet": [
           {
            "colorbar": {
             "outlinewidth": 0,
             "ticks": ""
            },
            "type": "contourcarpet"
           }
          ],
          "heatmap": [
           {
            "colorbar": {
             "outlinewidth": 0,
             "ticks": ""
            },
            "colorscale": [
             [
              0,
              "#0d0887"
             ],
             [
              0.1111111111111111,
              "#46039f"
             ],
             [
              0.2222222222222222,
              "#7201a8"
             ],
             [
              0.3333333333333333,
              "#9c179e"
             ],
             [
              0.4444444444444444,
              "#bd3786"
             ],
             [
              0.5555555555555556,
              "#d8576b"
             ],
             [
              0.6666666666666666,
              "#ed7953"
             ],
             [
              0.7777777777777778,
              "#fb9f3a"
             ],
             [
              0.8888888888888888,
              "#fdca26"
             ],
             [
              1,
              "#f0f921"
             ]
            ],
            "type": "heatmap"
           }
          ],
          "heatmapgl": [
           {
            "colorbar": {
             "outlinewidth": 0,
             "ticks": ""
            },
            "colorscale": [
             [
              0,
              "#0d0887"
             ],
             [
              0.1111111111111111,
              "#46039f"
             ],
             [
              0.2222222222222222,
              "#7201a8"
             ],
             [
              0.3333333333333333,
              "#9c179e"
             ],
             [
              0.4444444444444444,
              "#bd3786"
             ],
             [
              0.5555555555555556,
              "#d8576b"
             ],
             [
              0.6666666666666666,
              "#ed7953"
             ],
             [
              0.7777777777777778,
              "#fb9f3a"
             ],
             [
              0.8888888888888888,
              "#fdca26"
             ],
             [
              1,
              "#f0f921"
             ]
            ],
            "type": "heatmapgl"
           }
          ],
          "histogram": [
           {
            "marker": {
             "pattern": {
              "fillmode": "overlay",
              "size": 10,
              "solidity": 0.2
             }
            },
            "type": "histogram"
           }
          ],
          "histogram2d": [
           {
            "colorbar": {
             "outlinewidth": 0,
             "ticks": ""
            },
            "colorscale": [
             [
              0,
              "#0d0887"
             ],
             [
              0.1111111111111111,
              "#46039f"
             ],
             [
              0.2222222222222222,
              "#7201a8"
             ],
             [
              0.3333333333333333,
              "#9c179e"
             ],
             [
              0.4444444444444444,
              "#bd3786"
             ],
             [
              0.5555555555555556,
              "#d8576b"
             ],
             [
              0.6666666666666666,
              "#ed7953"
             ],
             [
              0.7777777777777778,
              "#fb9f3a"
             ],
             [
              0.8888888888888888,
              "#fdca26"
             ],
             [
              1,
              "#f0f921"
             ]
            ],
            "type": "histogram2d"
           }
          ],
          "histogram2dcontour": [
           {
            "colorbar": {
             "outlinewidth": 0,
             "ticks": ""
            },
            "colorscale": [
             [
              0,
              "#0d0887"
             ],
             [
              0.1111111111111111,
              "#46039f"
             ],
             [
              0.2222222222222222,
              "#7201a8"
             ],
             [
              0.3333333333333333,
              "#9c179e"
             ],
             [
              0.4444444444444444,
              "#bd3786"
             ],
             [
              0.5555555555555556,
              "#d8576b"
             ],
             [
              0.6666666666666666,
              "#ed7953"
             ],
             [
              0.7777777777777778,
              "#fb9f3a"
             ],
             [
              0.8888888888888888,
              "#fdca26"
             ],
             [
              1,
              "#f0f921"
             ]
            ],
            "type": "histogram2dcontour"
           }
          ],
          "mesh3d": [
           {
            "colorbar": {
             "outlinewidth": 0,
             "ticks": ""
            },
            "type": "mesh3d"
           }
          ],
          "parcoords": [
           {
            "line": {
             "colorbar": {
              "outlinewidth": 0,
              "ticks": ""
             }
            },
            "type": "parcoords"
           }
          ],
          "pie": [
           {
            "automargin": true,
            "type": "pie"
           }
          ],
          "scatter": [
           {
            "fillpattern": {
             "fillmode": "overlay",
             "size": 10,
             "solidity": 0.2
            },
            "type": "scatter"
           }
          ],
          "scatter3d": [
           {
            "line": {
             "colorbar": {
              "outlinewidth": 0,
              "ticks": ""
             }
            },
            "marker": {
             "colorbar": {
              "outlinewidth": 0,
              "ticks": ""
             }
            },
            "type": "scatter3d"
           }
          ],
          "scattercarpet": [
           {
            "marker": {
             "colorbar": {
              "outlinewidth": 0,
              "ticks": ""
             }
            },
            "type": "scattercarpet"
           }
          ],
          "scattergeo": [
           {
            "marker": {
             "colorbar": {
              "outlinewidth": 0,
              "ticks": ""
             }
            },
            "type": "scattergeo"
           }
          ],
          "scattergl": [
           {
            "marker": {
             "colorbar": {
              "outlinewidth": 0,
              "ticks": ""
             }
            },
            "type": "scattergl"
           }
          ],
          "scattermapbox": [
           {
            "marker": {
             "colorbar": {
              "outlinewidth": 0,
              "ticks": ""
             }
            },
            "type": "scattermapbox"
           }
          ],
          "scatterpolar": [
           {
            "marker": {
             "colorbar": {
              "outlinewidth": 0,
              "ticks": ""
             }
            },
            "type": "scatterpolar"
           }
          ],
          "scatterpolargl": [
           {
            "marker": {
             "colorbar": {
              "outlinewidth": 0,
              "ticks": ""
             }
            },
            "type": "scatterpolargl"
           }
          ],
          "scatterternary": [
           {
            "marker": {
             "colorbar": {
              "outlinewidth": 0,
              "ticks": ""
             }
            },
            "type": "scatterternary"
           }
          ],
          "surface": [
           {
            "colorbar": {
             "outlinewidth": 0,
             "ticks": ""
            },
            "colorscale": [
             [
              0,
              "#0d0887"
             ],
             [
              0.1111111111111111,
              "#46039f"
             ],
             [
              0.2222222222222222,
              "#7201a8"
             ],
             [
              0.3333333333333333,
              "#9c179e"
             ],
             [
              0.4444444444444444,
              "#bd3786"
             ],
             [
              0.5555555555555556,
              "#d8576b"
             ],
             [
              0.6666666666666666,
              "#ed7953"
             ],
             [
              0.7777777777777778,
              "#fb9f3a"
             ],
             [
              0.8888888888888888,
              "#fdca26"
             ],
             [
              1,
              "#f0f921"
             ]
            ],
            "type": "surface"
           }
          ],
          "table": [
           {
            "cells": {
             "fill": {
              "color": "#EBF0F8"
             },
             "line": {
              "color": "white"
             }
            },
            "header": {
             "fill": {
              "color": "#C8D4E3"
             },
             "line": {
              "color": "white"
             }
            },
            "type": "table"
           }
          ]
         },
         "layout": {
          "annotationdefaults": {
           "arrowcolor": "#2a3f5f",
           "arrowhead": 0,
           "arrowwidth": 1
          },
          "autotypenumbers": "strict",
          "coloraxis": {
           "colorbar": {
            "outlinewidth": 0,
            "ticks": ""
           }
          },
          "colorscale": {
           "diverging": [
            [
             0,
             "#8e0152"
            ],
            [
             0.1,
             "#c51b7d"
            ],
            [
             0.2,
             "#de77ae"
            ],
            [
             0.3,
             "#f1b6da"
            ],
            [
             0.4,
             "#fde0ef"
            ],
            [
             0.5,
             "#f7f7f7"
            ],
            [
             0.6,
             "#e6f5d0"
            ],
            [
             0.7,
             "#b8e186"
            ],
            [
             0.8,
             "#7fbc41"
            ],
            [
             0.9,
             "#4d9221"
            ],
            [
             1,
             "#276419"
            ]
           ],
           "sequential": [
            [
             0,
             "#0d0887"
            ],
            [
             0.1111111111111111,
             "#46039f"
            ],
            [
             0.2222222222222222,
             "#7201a8"
            ],
            [
             0.3333333333333333,
             "#9c179e"
            ],
            [
             0.4444444444444444,
             "#bd3786"
            ],
            [
             0.5555555555555556,
             "#d8576b"
            ],
            [
             0.6666666666666666,
             "#ed7953"
            ],
            [
             0.7777777777777778,
             "#fb9f3a"
            ],
            [
             0.8888888888888888,
             "#fdca26"
            ],
            [
             1,
             "#f0f921"
            ]
           ],
           "sequentialminus": [
            [
             0,
             "#0d0887"
            ],
            [
             0.1111111111111111,
             "#46039f"
            ],
            [
             0.2222222222222222,
             "#7201a8"
            ],
            [
             0.3333333333333333,
             "#9c179e"
            ],
            [
             0.4444444444444444,
             "#bd3786"
            ],
            [
             0.5555555555555556,
             "#d8576b"
            ],
            [
             0.6666666666666666,
             "#ed7953"
            ],
            [
             0.7777777777777778,
             "#fb9f3a"
            ],
            [
             0.8888888888888888,
             "#fdca26"
            ],
            [
             1,
             "#f0f921"
            ]
           ]
          },
          "colorway": [
           "#636efa",
           "#EF553B",
           "#00cc96",
           "#ab63fa",
           "#FFA15A",
           "#19d3f3",
           "#FF6692",
           "#B6E880",
           "#FF97FF",
           "#FECB52"
          ],
          "font": {
           "color": "#2a3f5f"
          },
          "geo": {
           "bgcolor": "white",
           "lakecolor": "white",
           "landcolor": "#E5ECF6",
           "showlakes": true,
           "showland": true,
           "subunitcolor": "white"
          },
          "hoverlabel": {
           "align": "left"
          },
          "hovermode": "closest",
          "mapbox": {
           "style": "light"
          },
          "paper_bgcolor": "white",
          "plot_bgcolor": "#E5ECF6",
          "polar": {
           "angularaxis": {
            "gridcolor": "white",
            "linecolor": "white",
            "ticks": ""
           },
           "bgcolor": "#E5ECF6",
           "radialaxis": {
            "gridcolor": "white",
            "linecolor": "white",
            "ticks": ""
           }
          },
          "scene": {
           "xaxis": {
            "backgroundcolor": "#E5ECF6",
            "gridcolor": "white",
            "gridwidth": 2,
            "linecolor": "white",
            "showbackground": true,
            "ticks": "",
            "zerolinecolor": "white"
           },
           "yaxis": {
            "backgroundcolor": "#E5ECF6",
            "gridcolor": "white",
            "gridwidth": 2,
            "linecolor": "white",
            "showbackground": true,
            "ticks": "",
            "zerolinecolor": "white"
           },
           "zaxis": {
            "backgroundcolor": "#E5ECF6",
            "gridcolor": "white",
            "gridwidth": 2,
            "linecolor": "white",
            "showbackground": true,
            "ticks": "",
            "zerolinecolor": "white"
           }
          },
          "shapedefaults": {
           "line": {
            "color": "#2a3f5f"
           }
          },
          "ternary": {
           "aaxis": {
            "gridcolor": "white",
            "linecolor": "white",
            "ticks": ""
           },
           "baxis": {
            "gridcolor": "white",
            "linecolor": "white",
            "ticks": ""
           },
           "bgcolor": "#E5ECF6",
           "caxis": {
            "gridcolor": "white",
            "linecolor": "white",
            "ticks": ""
           }
          },
          "title": {
           "x": 0.05
          },
          "xaxis": {
           "automargin": true,
           "gridcolor": "white",
           "linecolor": "white",
           "ticks": "",
           "title": {
            "standoff": 15
           },
           "zerolinecolor": "white",
           "zerolinewidth": 2
          },
          "yaxis": {
           "automargin": true,
           "gridcolor": "white",
           "linecolor": "white",
           "ticks": "",
           "title": {
            "standoff": 15
           },
           "zerolinecolor": "white",
           "zerolinewidth": 2
          }
         }
        }
       }
      }
     },
     "metadata": {},
     "output_type": "display_data"
    }
   ],
   "source": [
    "px.pie(data_frame=df, values=counts, names=payment_methods)"
   ]
  },
  {
   "cell_type": "markdown",
   "id": "935b413d",
   "metadata": {},
   "source": [
    "## Scatter Plot"
   ]
  },
  {
   "cell_type": "markdown",
   "id": "9d9e6472",
   "metadata": {},
   "source": [
    "### Matplotlib"
   ]
  },
  {
   "cell_type": "code",
   "execution_count": 490,
   "id": "e666fb90",
   "metadata": {},
   "outputs": [
    {
     "data": {
      "image/png": "[encoded data removed]",
      "text/plain": [
       "<Figure size 2000x600 with 2 Axes>"
      ]
     },
     "metadata": {},
     "output_type": "display_data"
    }
   ],
   "source": [
    "import numpy as np\n",
    "\n",
    "fig, ax = plt.subplots(ncols=2, figsize=(20,6))\n",
    "ax[0].set_title(\"Matplotlib\")\n",
    "ax[0].scatter(df.quantity, df.total_price)\n",
    "\n",
    "ax[1].set_title(\"Seaborn\")\n",
    "sns.scatterplot(\n",
    "    data=df,\n",
    "    x=df.quantity,\n",
    "    y=df.total_price,\n",
    "    ax=ax[1],\n",
    ")\n",
    "\n",
    "# add linear trendline\n",
    "z = np.polyfit(df.quantity, df.total_price, 1)\n",
    "p = np.poly1d(z)\n",
    "ax[0].plot(df.quantity,p(df.quantity),\"r-\")\n",
    "ax[1].plot(df.quantity,p(df.quantity),\"r-\")\n",
    "\n",
    "plt.show()"
   ]
  },
  {
   "cell_type": "markdown",
   "id": "86df721b",
   "metadata": {},
   "source": [
    "### Plotly"
   ]
  },
  {
   "cell_type": "code",
   "execution_count": 491,
   "id": "98f61dc4",
   "metadata": {},
   "outputs": [
    {
     "data": {
      "application/vnd.plotly.v1+json": {
       "config": {
        "plotlyServerURL": "https://plot.ly"
       },
       "data": [
        {
         "hovertemplate": "quantity=%{x}<br>total_price=%{y}<extra></extra>",
         "legendgroup": "",
         "marker": {
          "color": "#636efa",
          "symbol": "circle"
         },
         "mode": "markers",
         "name": "",
         "orientation": "v",
         "showlegend": false,
         "type": "scatter",
         "x": [
          61,
          56,
          7,
          65,
          40,
          84,
          46,
          35,
          87,
          94,
          43,
          58,
          31,
          20,
          32,
          35,
          32,
          46,
          65,
          62,
          61,
          18,
          49,
          56,
          63,
          73,
          30,
          12,
          40,
          93,
          47,
          21,
          55,
          71,
          56,
          86,
          83,
          79,
          41,
          79,
          19,
          55,
          60,
          23,
          64,
          22,
          50,
          82,
          12,
          87,
          53,
          18,
          9,
          3,
          42,
          6,
          35,
          11,
          72,
          94,
          94,
          42,
          60,
          37,
          9,
          39,
          65,
          27,
          89,
          14,
          80,
          18,
          2,
          36,
          91,
          45,
          10,
          9,
          99,
          45,
          78,
          27,
          23,
          20,
          82,
          42,
          23,
          93,
          46,
          70,
          87,
          93,
          23,
          42,
          85,
          9,
          10,
          64,
          19,
          39,
          2,
          12,
          78,
          46,
          73,
          15,
          78,
          56,
          1,
          4,
          85,
          100,
          80,
          95,
          72,
          29,
          29,
          24,
          25,
          92,
          67,
          44,
          47,
          29,
          29,
          33,
          50,
          16,
          51,
          92,
          59,
          100,
          91,
          30,
          45,
          71,
          68,
          4,
          38,
          95,
          47,
          41,
          6,
          29,
          2,
          89,
          52,
          2,
          90,
          88,
          10,
          49,
          18,
          80,
          97,
          96,
          72,
          18,
          32,
          55,
          77,
          19,
          19,
          56,
          74,
          99,
          68,
          81,
          65,
          21,
          67,
          61,
          98,
          52,
          39,
          97,
          92,
          46,
          18,
          32,
          53,
          93,
          54,
          92,
          78,
          11,
          11,
          56,
          12,
          16,
          64,
          45,
          9,
          96,
          92,
          7,
          64,
          22,
          48,
          19,
          60,
          60,
          63,
          96,
          1,
          43,
          41,
          3,
          69,
          51,
          32,
          94,
          43,
          42,
          2,
          42,
          50,
          35,
          46,
          1,
          44,
          60,
          39,
          40,
          17,
          66,
          45,
          28,
          45,
          45,
          97,
          41,
          9,
          11,
          41,
          80,
          83,
          56,
          100,
          53,
          59,
          91,
          74,
          76,
          5,
          27,
          60,
          16,
          96,
          2,
          69,
          71,
          60,
          24,
          87,
          33,
          20,
          94,
          31,
          36,
          42,
          10,
          44,
          79,
          92,
          61,
          74,
          21,
          58,
          58,
          84,
          3,
          60,
          87,
          54,
          78,
          60,
          91,
          49,
          88,
          18,
          89,
          75,
          48,
          85,
          89,
          72,
          97,
          72,
          60,
          17,
          48,
          98,
          72,
          15,
          84,
          32,
          3,
          82,
          16,
          56,
          30,
          27,
          41,
          62,
          83,
          49,
          88,
          87,
          62,
          34,
          86,
          30,
          10,
          40,
          86,
          53,
          29,
          81,
          19,
          12,
          72,
          24,
          17,
          37,
          39,
          50,
          93,
          80,
          80,
          12,
          4,
          66,
          83,
          28,
          35,
          4,
          75,
          6,
          58,
          6,
          34,
          25,
          3,
          30,
          49,
          14,
          71,
          50,
          7,
          11,
          58,
          72,
          58,
          83,
          59,
          94,
          12,
          60,
          17,
          98,
          12,
          30,
          44,
          4,
          37,
          38,
          24,
          11,
          8,
          18,
          87,
          72,
          28,
          100,
          70,
          31,
          8,
          6,
          54,
          22,
          62,
          94,
          68,
          90,
          6,
          12,
          51,
          32,
          38,
          64,
          85,
          12,
          85,
          17,
          77,
          86,
          62,
          28,
          89,
          64,
          40,
          89,
          8,
          40,
          14,
          34,
          77,
          82,
          39,
          48,
          50,
          78,
          15,
          97,
          54,
          90,
          47,
          64,
          68,
          13,
          28,
          81,
          80,
          34,
          9,
          92,
          8,
          76,
          46,
          74,
          74,
          15,
          70,
          6,
          39,
          32,
          19,
          26,
          93,
          45,
          17,
          12,
          83,
          38,
          98,
          76,
          100,
          64,
          43,
          59,
          98,
          14,
          65,
          100,
          53,
          8,
          22,
          1,
          51,
          28,
          18,
          82,
          47,
          24,
          60,
          73,
          68,
          18,
          11,
          67,
          30,
          75,
          71,
          1,
          51,
          49,
          71,
          86,
          37,
          99,
          85,
          63,
          62,
          93,
          70,
          62,
          51,
          70,
          32,
          29,
          27,
          69,
          35,
          20,
          76,
          17,
          17,
          74,
          32,
          99,
          95,
          7,
          69,
          22,
          47,
          60,
          16,
          24,
          11,
          30,
          40,
          38,
          49,
          7,
          87,
          14,
          59,
          91,
          74,
          64,
          50,
          83,
          91,
          74,
          26,
          1,
          83,
          9,
          79,
          93,
          16,
          63,
          53,
          62,
          37,
          92,
          70,
          25,
          40,
          60,
          40,
          56,
          49,
          53,
          54,
          37,
          36,
          9,
          39,
          61,
          23,
          24,
          66,
          74,
          69,
          74,
          92,
          19,
          100,
          15,
          63,
          77,
          77,
          21,
          44,
          11,
          91,
          69,
          63,
          45,
          46,
          22,
          60,
          21,
          42,
          75,
          19,
          88,
          60,
          82,
          32,
          78,
          50,
          81,
          6,
          45,
          5,
          17,
          11,
          11,
          63,
          32,
          83,
          21,
          84,
          68,
          52,
          57,
          44,
          1,
          43,
          85,
          40,
          94,
          90,
          91,
          93,
          25,
          49,
          53,
          27,
          54,
          55,
          85,
          59,
          12,
          46,
          89,
          89,
          91,
          28,
          1,
          41,
          50,
          53,
          17,
          76,
          74,
          52,
          22,
          75,
          50,
          64,
          46,
          57,
          46,
          49,
          72,
          66,
          90,
          91,
          29,
          80,
          9,
          52,
          10,
          38,
          56,
          96,
          82,
          94,
          98,
          6,
          24,
          91,
          18,
          19,
          20,
          98,
          48,
          33,
          54,
          77,
          98,
          30,
          80,
          39,
          94,
          43,
          25,
          68,
          35,
          17,
          27,
          80,
          44,
          30,
          75,
          12,
          82,
          93,
          16,
          96,
          10,
          86,
          92,
          3,
          32,
          46,
          36,
          9,
          42,
          77,
          67,
          58,
          31,
          42,
          70,
          43,
          21,
          67,
          34,
          36,
          92,
          23,
          76,
          5,
          61,
          40,
          16,
          67,
          9,
          24,
          38,
          27,
          100,
          97,
          12,
          49,
          2,
          96,
          48,
          46,
          43,
          80,
          92,
          44,
          81,
          1,
          4,
          78,
          31,
          80,
          89,
          80,
          90,
          67,
          18,
          7,
          22,
          74,
          84,
          16,
          63,
          53,
          43,
          75,
          6,
          5,
          18,
          46,
          56,
          66,
          17,
          53,
          32,
          61,
          64,
          70,
          89,
          63,
          18,
          84,
          17,
          45,
          82,
          24,
          53,
          51,
          70,
          37,
          7,
          44,
          40,
          34,
          79,
          78,
          61,
          74,
          56,
          50,
          49,
          4,
          86,
          7,
          85,
          86,
          12,
          82,
          83,
          35,
          5,
          63,
          52,
          28,
          34,
          3,
          83,
          71,
          90,
          82,
          90,
          59,
          94,
          40,
          71,
          89,
          14,
          36,
          92,
          46,
          69,
          94,
          31,
          2,
          68,
          78,
          45,
          12,
          66,
          22,
          19,
          87,
          88,
          20,
          9,
          34,
          99,
          29,
          1,
          24,
          28,
          85,
          60,
          57,
          21,
          49,
          13,
          46,
          72,
          96,
          15,
          20,
          82,
          84,
          41,
          30,
          53,
          32,
          28,
          1,
          51,
          84,
          66,
          100,
          51,
          80,
          27,
          95,
          5,
          65,
          32,
          20,
          74,
          30,
          11,
          7,
          39,
          25,
          72,
          69,
          5,
          33,
          46,
          8,
          11,
          45,
          74,
          62,
          24,
          62,
          6,
          58,
          95,
          40,
          53,
          100,
          83,
          8,
          41,
          23,
          24,
          46,
          31,
          31,
          54,
          88,
          11,
          3,
          56,
          76,
          60,
          93,
          38,
          8,
          90,
          65,
          77,
          86,
          95,
          27,
          16,
          54,
          99,
          39,
          61,
          34,
          41,
          53,
          39,
          61,
          42,
          5,
          5,
          54,
          3,
          28,
          17,
          38,
          45,
          83,
          73,
          80,
          64,
          97,
          82,
          40,
          22,
          100,
          92,
          10,
          31,
          93,
          92,
          93,
          8,
          88,
          13,
          2,
          19,
          25,
          77,
          93,
          54,
          46,
          1,
          55,
          41,
          40,
          95,
          24,
          23,
          33,
          13,
          15,
          23,
          19,
          16,
          59,
          79,
          41,
          8,
          81,
          85,
          76,
          7,
          58,
          89,
          88,
          94,
          14,
          33,
          7,
          1,
          43,
          58,
          8,
          45,
          1,
          79,
          70,
          87,
          86,
          44,
          33,
          4,
          47,
          51,
          68
         ],
         "xaxis": "x",
         "y": [
          16092.41,
          54117.28,
          6480.32,
          39325,
          37577.2,
          44316.72,
          5459.74,
          27944.7,
          36568.71,
          60470.2,
          37919.55,
          6215.86,
          16232.22,
          1819.6,
          8728.64,
          5517.4,
          15144.96,
          19695.82,
          26668.2,
          24315.78,
          11288.66,
          12068.28,
          34256.39,
          30152.08,
          41711.67,
          18723.04,
          22540.2,
          7219.08,
          5604.8,
          39175.32,
          503.37,
          12908.91,
          53106.35,
          21709.67,
          52175.2,
          47730,
          39014.98,
          38844.3,
          18282.72,
          56770.98,
          1863.71,
          37257,
          54003.6,
          15520.4,
          26008.96,
          12908.28,
          5742.5,
          74324.8,
          3480.6,
          44036.79,
          17127.48,
          14711.94,
          6758.1,
          705.21,
          6378.54,
          303.12,
          32641,
          7657.76,
          66155.76,
          22525.22,
          2734.46,
          2822.82,
          55743.6,
          26664.79,
          4709.7,
          31367.31,
          50549.85,
          16396.83,
          21951.85,
          12429.06,
          66602.4,
          16656.84,
          1234.06,
          12185.28,
          44864.82,
          23125.95,
          8425.8,
          5240.97,
          19445.58,
          38294.55,
          20018.7,
          26576.91,
          21655.19,
          13631.2,
          71606.5,
          31353,
          17791.42,
          59114.52,
          29505.32,
          8257.2,
          8743.5,
          65370.63,
          14269.66,
          12341.7,
          78209.35,
          868.23,
          4364.7,
          43387.52,
          15972.35,
          34542.3,
          868.66,
          10857.96,
          36528.96,
          31459.4,
          54122.2,
          1347.6,
          53050.14,
          45356.08,
          116.66,
          1656.08,
          51442,
          68648,
          30300,
          31445.95,
          8039.52,
          19357.21,
          17085.35,
          11936.4,
          24589.25,
          50105.04,
          9701.6,
          39513.32,
          15114.73,
          13857.65,
          26367.67,
          7901.85,
          26230.5,
          15672.96,
          33588.6,
          73150.12,
          33167.44,
          88553,
          29244.67,
          29578.8,
          15403.5,
          28392.9,
          9141.92,
          849.2,
          6305.72,
          33591.05,
          44956.44,
          33809.83,
          1204.02,
          25924.55,
          1218.24,
          49799.06,
          32336.2,
          576.56,
          36260.1,
          12017.28,
          623,
          6011.32,
          14948.64,
          57911.2,
          54395.66,
          54483.84,
          69447.6,
          1562.94,
          24350.72,
          51326,
          31795.61,
          6301.16,
          10427.2,
          7607.04,
          25768.28,
          74101.5,
          13882.2,
          40175.19,
          2313.35,
          8428.56,
          43803.93,
          30152.91,
          71149.96,
          20345.52,
          25068.42,
          39324.77,
          30986.52,
          7192.1,
          14234.04,
          23897.6,
          39932.85,
          37368.33,
          47982.78,
          52842.04,
          34771.62,
          2228.05,
          278.41,
          48917.12,
          679.68,
          12602.08,
          36836.48,
          16859.25,
          3385.17,
          3215.04,
          10325.16,
          5728.73,
          14919.04,
          4012.36,
          29676,
          4509.65,
          53282.4,
          17624.4,
          40241.25,
          13199.04,
          313.68,
          10695.82,
          22315.07,
          212.19,
          67268.79,
          18088.17,
          29753.92,
          90821.86,
          20517.88,
          31758.72,
          1747.38,
          17748.36,
          17872,
          28610.4,
          7081.24,
          645.57,
          3451.8,
          57351,
          20512.44,
          30517.2,
          1095.99,
          31630.5,
          1760.85,
          5423.6,
          32634.9,
          8286.3,
          67927.16,
          35506.82,
          8219.25,
          5546.31,
          35353.48,
          35795.2,
          51396.92,
          33852,
          4706,
          30839.11,
          49917.54,
          82506.06,
          17546.88,
          42788.76,
          3515.2,
          8321.4,
          35540.4,
          11937.92,
          4620.48,
          677.56,
          8045.4,
          36265.38,
          40333.2,
          21011.76,
          83392.98,
          25526.49,
          4072.8,
          71030.16,
          6932.22,
          27166.32,
          40669.44,
          8729.1,
          28157.36,
          21206.76,
          24222.68,
          30516.47,
          7878.04,
          5865.3,
          35797.02,
          10130.86,
          39159.12,
          1941.36,
          3065.4,
          46310.1,
          35068.14,
          75595.26,
          21147,
          81900.91,
          21680.05,
          79011.68,
          14051.52,
          38668.72,
          30699,
          1228.8,
          81839.7,
          15317.79,
          45438.48,
          25380.05,
          30230.64,
          52417.2,
          4957.37,
          10809.6,
          22448.86,
          16896.24,
          9668.7,
          73410.96,
          5838.72,
          42.27,
          7954,
          3666.56,
          53777.92,
          22513.8,
          24626.16,
          27995.62,
          14990.36,
          55097.06,
          22031.87,
          63075.76,
          77646.63,
          51461.24,
          22647.4,
          44197.98,
          3468.3,
          7756.5,
          19753.6,
          85047.98,
          35700.8,
          22780.37,
          79464.24,
          1143.61,
          336.12,
          28229.04,
          2554.32,
          15435.15,
          25904.07,
          19664.19,
          31388,
          61645.98,
          48903.2,
          78783.2,
          7796.28,
          3166.92,
          39461.4,
          9330.86,
          5477.92,
          13230,
          2131.92,
          43353.75,
          5445.66,
          57903.72,
          1048.38,
          8098.8,
          10703.75,
          1407.15,
          6339.9,
          23309.3,
          1633.38,
          63691.26,
          37162,
          2067.17,
          9532.16,
          5347.02,
          63909.36,
          29604.94,
          14063.52,
          29894.12,
          6791.5,
          2845.32,
          38304.6,
          15373.1,
          91856.38,
          261.12,
          10293.9,
          35084.28,
          1992.4,
          35127.06,
          15820.54,
          10138.32,
          9907.7,
          1588.72,
          6313.5,
          69049.29,
          59062.32,
          20178.48,
          40376,
          7476,
          14920.3,
          1498,
          1374,
          41511.42,
          18601.88,
          49018.44,
          88459.64,
          48503.04,
          55140.3,
          3893.7,
          1464.6,
          25588.23,
          8189.44,
          28986.02,
          45287.04,
          67120.25,
          10964.16,
          29540.05,
          10505.49,
          72058.91,
          44307.2,
          29919.34,
          6264.72,
          54350.52,
          42786.56,
          37447.2,
          61409.11,
          870,
          8947.6,
          13029.52,
          5882,
          75550.86,
          7226.66,
          30801.03,
          27703.68,
          38236,
          32536.92,
          11787.75,
          69023.26,
          22785.84,
          52911.9,
          30088.93,
          4042.88,
          2526.2,
          1735.5,
          15125.6,
          25105.95,
          24344,
          23490.6,
          3237.03,
          14256.32,
          7446.16,
          33452.92,
          21887.26,
          65338.3,
          43762.12,
          10318.8,
          39351.9,
          2293.2,
          667.68,
          12435.52,
          17836.25,
          80.34,
          31159.65,
          40987.8,
          4457.74,
          6847.08,
          66439.01,
          16298.58,
          88249,
          75710.44,
          62050,
          26680.32,
          38110.04,
          7834.61,
          30505.44,
          9413.32,
          24058.45,
          59855,
          30393.91,
          2496.24,
          12716.66,
          471.48,
          41225.85,
          9817.08,
          10795.14,
          47030.28,
          22744.24,
          6722.4,
          53920.8,
          70077.81,
          16691.28,
          1207.98,
          5756.41,
          10085.51,
          4534.5,
          1660.5,
          47420.9,
          6.87,
          28594.17,
          22156.33,
          20932.22,
          30722.64,
          11734.92,
          86357.7,
          21007.75,
          47789.91,
          53442.14,
          6748.08,
          7434.7,
          29384.9,
          24206.13,
          69860,
          7882.24,
          12340.66,
          16326.36,
          39643.26,
          20802.6,
          15765.4,
          19763.04,
          11319.96,
          14595.52,
          17002.24,
          14256.96,
          28107.09,
          1477.25,
          1585.71,
          46523.94,
          16583.16,
          2861.83,
          10641,
          4336.96,
          7030.32,
          6462.83,
          4842,
          26690.4,
          28838.2,
          13020.77,
          5283.53,
          40135.71,
          4619.86,
          8592.76,
          2983.89,
          44915.04,
          27535.36,
          10799.5,
          79237.61,
          11643.45,
          36964.48,
          11146.46,
          29.52,
          75277.68,
          1569.51,
          32376.57,
          85937.58,
          3862.56,
          27769.14,
          31721.03,
          38577.02,
          986.05,
          48964.24,
          24250.8,
          17541.25,
          30112.4,
          18465.6,
          5409.6,
          29247.12,
          12364.66,
          23234.67,
          42177.78,
          3607.13,
          11574.72,
          4217.67,
          32721.78,
          56141.96,
          11292.08,
          5645.28,
          58507.68,
          19471.62,
          4412.55,
          40201.98,
          62807.48,
          14860.09,
          76616,
          11852.4,
          25463.34,
          10519.74,
          8872.71,
          2310.21,
          26214.76,
          5092.56,
          76086.01,
          4501.56,
          10958.85,
          29018.25,
          44308.12,
          16153.28,
          52581.6,
          9991.38,
          38118.78,
          2450.25,
          1670.67,
          42371.12,
          10566,
          31012.4,
          13322.56,
          50294.4,
          15886.5,
          41422.59,
          4399.8,
          15361.2,
          3038.4,
          8889.81,
          864.82,
          8848.84,
          32540.13,
          5276.16,
          40135.48,
          9013.2,
          29481.48,
          59067.52,
          35988.16,
          31140.24,
          38913.16,
          114.48,
          6058.7,
          32928.15,
          25790.4,
          71155.18,
          51126.3,
          41717.13,
          25574.07,
          20026.5,
          42438.41,
          52685.18,
          18920.52,
          545.4,
          24184.6,
          59207.6,
          54431.04,
          10570.8,
          11829.82,
          73230.98,
          52344.46,
          5758.48,
          27591.76,
          15.09,
          19013.34,
          39407.5,
          13342.22,
          6868.68,
          10991.88,
          67926.08,
          48364.68,
          18929.9,
          1959,
          43266,
          53179.52,
          5066.9,
          10294.2,
          561.2,
          40481.35,
          54930.96,
          20106.9,
          2265.3,
          76009.57,
          8282.4,
          48188.8,
          8710.83,
          28655.12,
          9397.1,
          12626.64,
          37511.04,
          81344.64,
          37763.46,
          56950.84,
          74919.04,
          2715.12,
          8804.88,
          65274.3,
          10914.66,
          3691.7,
          14825.6,
          33823.72,
          13049.76,
          12132.78,
          38133.72,
          47157.11,
          52680.88,
          12781.2,
          49616.8,
          11475.36,
          60554.8,
          27155.36,
          11203,
          47032.2,
          18818.1,
          3932.27,
          17654.22,
          72824.8,
          32934.88,
          8106.3,
          47109,
          1175.76,
          57617.3,
          21476.49,
          1191.52,
          79494.72,
          6218.5,
          33712.86,
          72292.68,
          1938.6,
          13426.88,
          14299.56,
          35363.16,
          7397.1,
          15659.7,
          41654.69,
          64463.38,
          49310.44,
          10302.85,
          30979.2,
          18032,
          24736.61,
          20717.34,
          13654.6,
          24591.52,
          25618.32,
          41300.64,
          17528.53,
          54441.08,
          1556.45,
          3819.82,
          34612.8,
          5459.04,
          18720.47,
          2153.43,
          21577.2,
          30099.42,
          21573.27,
          61310,
          11297.59,
          6828,
          34792.94,
          287.54,
          81222.72,
          10424.16,
          18467.62,
          42370.91,
          67580.8,
          32494.4,
          28973.56,
          15233.67,
          249.75,
          3719.32,
          8824.92,
          4700.84,
          66880.8,
          50720.21,
          49016.8,
          13890.6,
          38401.72,
          10534.86,
          4419.8,
          7510.8,
          17905.78,
          5455.8,
          14062.72,
          1947.96,
          28028.52,
          22770.22,
          15111,
          64.5,
          4247.85,
          5943.06,
          18645.64,
          7037.52,
          22028.82,
          15311.56,
          16125.25,
          995.2,
          46555.2,
          53745.92,
          59260.6,
          45621.4,
          28624.05,
          16432.92,
          14492.52,
          655.52,
          17860.95,
          33344.48,
          16463.28,
          13711.63,
          12240,
          39820.9,
          16997.06,
          5204.85,
          19973.36,
          29313.2,
          18173,
          71595.33,
          3625.44,
          4006.48,
          51444.06,
          47494.16,
          47478.5,
          45610.18,
          3396.08,
          73137.84,
          4744.95,
          40574.75,
          30017.44,
          3785.4,
          43738.8,
          32284.51,
          34960.8,
          2619.2,
          48105.54,
          33202,
          3779.16,
          24299.8,
          1455.06,
          42021.24,
          60948.53,
          40471.2,
          49119.64,
          45921.6,
          32156.77,
          84074.54,
          7307.6,
          10022.36,
          55815.46,
          7610.68,
          211.68,
          90824.24,
          30324.58,
          52602.84,
          64633.46,
          21552.75,
          1664.5,
          55923.2,
          5429.58,
          36090.45,
          5591.28,
          28387.26,
          21048.94,
          3873.53,
          23469.12,
          87420.08,
          2146.2,
          4770.81,
          28441,
          28059.57,
          18779.82,
          62.98,
          10800.24,
          3129.84,
          41695.05,
          26432.4,
          15026.34,
          5258.4,
          14424.62,
          4482.01,
          16255.02,
          52401.6,
          87474.24,
          13150.35,
          5612.2,
          78791.34,
          44658.6,
          36695.41,
          13704,
          1443.19,
          13203.84,
          22659,
          182.23,
          8118.18,
          59163.72,
          62868.3,
          81457,
          7750.47,
          46002.4,
          3800.25,
          88503.9,
          1767.4,
          64839.45,
          7481.28,
          1478,
          24572.44,
          794.4,
          7932.98,
          2474.71,
          12298.65,
          22414.25,
          3287.52,
          64769.61,
          4134.8,
          11731.17,
          36127.48,
          2120.48,
          1976.7,
          29493.9,
          30823.96,
          970.3,
          20961.84,
          55871.92,
          4701.84,
          18212,
          20047.85,
          3517.2,
          49304.31,
          40159,
          25696.8,
          4385.28,
          37867.19,
          22149.69,
          23354.88,
          11813.26,
          2608.96,
          29301.82,
          47429.82,
          68629.44,
          4218.83,
          271.41,
          45234,
          49273.84,
          55140,
          37026.09,
          848.16,
          2158.16,
          81309.6,
          64801.1,
          29385.51,
          45464.76,
          25494.2,
          1326.24,
          5439.36,
          14286.78,
          21984.93,
          35390.16,
          45368.75,
          21659.36,
          34021.8,
          41545.64,
          17768.4,
          9399.49,
          8673.42,
          3868.9,
          1980.85,
          6925.5,
          2185.86,
          2077.32,
          9039.41,
          5711.02,
          38603.7,
          8855.27,
          10906.93,
          40504,
          45816.96,
          79370.25,
          1316.92,
          3942.8,
          9648.98,
          64558,
          18214.16,
          6610.8,
          30338.46,
          69913.68,
          27005.68,
          83779.05,
          386.8,
          24360.16,
          3486.21,
          1869.16,
          4731.19,
          12388.75,
          12959.87,
          13458.03,
          18869.22,
          30521.46,
          52.43,
          52179.6,
          9090.93,
          29829.6,
          33932.1,
          11471.28,
          17768.88,
          1154.67,
          5949.71,
          11686.8,
          15397.81,
          10582.24,
          11563.36,
          31835.22,
          41177.96,
          32013.62,
          5742.64,
          51735.51,
          31859.7,
          12293.76,
          3913,
          32193.48,
          34610.32,
          60706.8,
          91947.04,
          850.92,
          28663.14,
          2360.26,
          746.56,
          30167.51,
          17600.1,
          3768.8,
          24655.5,
          955.64,
          26866.32,
          54381.6,
          7834.35,
          5176.34,
          27077.6,
          25419.24,
          235.96,
          14043.13,
          24119.43,
          45105.76
         ],
         "yaxis": "y"
        },
        {
         "hovertemplate": "<b>OLS trendline</b><br>total_price = 518.335 * quantity + 36.6749<br>R<sup>2</sup>=0.460723<br><br>quantity=%{x}<br>total_price=%{y} <b>(trend)</b><extra></extra>",
         "legendgroup": "",
         "line": {
          "color": "red"
         },
         "marker": {
          "color": "#636efa",
          "symbol": "circle"
         },
         "mode": "lines",
         "name": "",
         "showlegend": false,
         "type": "scatter",
         "x": [
          1,
          1,
          1,
          1,
          1,
          1,
          1,
          1,
          1,
          1,
          1,
          1,
          1,
          1,
          2,
          2,
          2,
          2,
          2,
          2,
          2,
          2,
          2,
          3,
          3,
          3,
          3,
          3,
          3,
          3,
          3,
          3,
          4,
          4,
          4,
          4,
          4,
          4,
          4,
          4,
          5,
          5,
          5,
          5,
          5,
          5,
          5,
          5,
          5,
          6,
          6,
          6,
          6,
          6,
          6,
          6,
          6,
          6,
          6,
          6,
          7,
          7,
          7,
          7,
          7,
          7,
          7,
          7,
          7,
          7,
          7,
          8,
          8,
          8,
          8,
          8,
          8,
          8,
          8,
          8,
          8,
          8,
          9,
          9,
          9,
          9,
          9,
          9,
          9,
          9,
          9,
          9,
          9,
          9,
          9,
          10,
          10,
          10,
          10,
          10,
          10,
          10,
          10,
          11,
          11,
          11,
          11,
          11,
          11,
          11,
          11,
          11,
          11,
          11,
          11,
          11,
          11,
          12,
          12,
          12,
          12,
          12,
          12,
          12,
          12,
          12,
          12,
          12,
          12,
          12,
          12,
          12,
          12,
          13,
          13,
          13,
          13,
          14,
          14,
          14,
          14,
          14,
          14,
          14,
          15,
          15,
          15,
          15,
          15,
          15,
          15,
          16,
          16,
          16,
          16,
          16,
          16,
          16,
          16,
          16,
          16,
          16,
          17,
          17,
          17,
          17,
          17,
          17,
          17,
          17,
          17,
          17,
          17,
          17,
          17,
          17,
          18,
          18,
          18,
          18,
          18,
          18,
          18,
          18,
          18,
          18,
          18,
          18,
          18,
          18,
          19,
          19,
          19,
          19,
          19,
          19,
          19,
          19,
          19,
          19,
          19,
          19,
          19,
          20,
          20,
          20,
          20,
          20,
          20,
          20,
          20,
          21,
          21,
          21,
          21,
          21,
          21,
          21,
          21,
          22,
          22,
          22,
          22,
          22,
          22,
          22,
          22,
          22,
          22,
          23,
          23,
          23,
          23,
          23,
          23,
          23,
          23,
          23,
          24,
          24,
          24,
          24,
          24,
          24,
          24,
          24,
          24,
          24,
          24,
          24,
          24,
          24,
          25,
          25,
          25,
          25,
          25,
          25,
          25,
          26,
          26,
          27,
          27,
          27,
          27,
          27,
          27,
          27,
          27,
          27,
          27,
          28,
          28,
          28,
          28,
          28,
          28,
          28,
          28,
          28,
          28,
          28,
          29,
          29,
          29,
          29,
          29,
          29,
          29,
          29,
          29,
          30,
          30,
          30,
          30,
          30,
          30,
          30,
          30,
          30,
          30,
          30,
          30,
          31,
          31,
          31,
          31,
          31,
          31,
          31,
          31,
          31,
          32,
          32,
          32,
          32,
          32,
          32,
          32,
          32,
          32,
          32,
          32,
          32,
          32,
          32,
          32,
          32,
          33,
          33,
          33,
          33,
          33,
          33,
          33,
          34,
          34,
          34,
          34,
          34,
          34,
          34,
          34,
          34,
          35,
          35,
          35,
          35,
          35,
          35,
          35,
          35,
          36,
          36,
          36,
          36,
          36,
          36,
          37,
          37,
          37,
          37,
          37,
          37,
          37,
          38,
          38,
          38,
          38,
          38,
          38,
          38,
          38,
          38,
          39,
          39,
          39,
          39,
          39,
          39,
          39,
          39,
          39,
          39,
          39,
          39,
          40,
          40,
          40,
          40,
          40,
          40,
          40,
          40,
          40,
          40,
          40,
          40,
          40,
          40,
          40,
          40,
          41,
          41,
          41,
          41,
          41,
          41,
          41,
          41,
          41,
          41,
          41,
          41,
          42,
          42,
          42,
          42,
          42,
          42,
          42,
          42,
          42,
          42,
          42,
          43,
          43,
          43,
          43,
          43,
          43,
          43,
          43,
          43,
          43,
          44,
          44,
          44,
          44,
          44,
          44,
          44,
          44,
          44,
          44,
          45,
          45,
          45,
          45,
          45,
          45,
          45,
          45,
          45,
          45,
          45,
          45,
          45,
          45,
          45,
          46,
          46,
          46,
          46,
          46,
          46,
          46,
          46,
          46,
          46,
          46,
          46,
          46,
          46,
          46,
          46,
          46,
          46,
          46,
          47,
          47,
          47,
          47,
          47,
          47,
          47,
          48,
          48,
          48,
          48,
          48,
          48,
          49,
          49,
          49,
          49,
          49,
          49,
          49,
          49,
          49,
          49,
          49,
          49,
          49,
          50,
          50,
          50,
          50,
          50,
          50,
          50,
          50,
          50,
          50,
          50,
          51,
          51,
          51,
          51,
          51,
          51,
          51,
          51,
          51,
          51,
          52,
          52,
          52,
          52,
          52,
          52,
          53,
          53,
          53,
          53,
          53,
          53,
          53,
          53,
          53,
          53,
          53,
          53,
          53,
          53,
          53,
          54,
          54,
          54,
          54,
          54,
          54,
          54,
          54,
          54,
          54,
          54,
          55,
          55,
          55,
          55,
          55,
          56,
          56,
          56,
          56,
          56,
          56,
          56,
          56,
          56,
          56,
          56,
          56,
          56,
          57,
          57,
          57,
          58,
          58,
          58,
          58,
          58,
          58,
          58,
          58,
          58,
          58,
          59,
          59,
          59,
          59,
          59,
          59,
          59,
          59,
          60,
          60,
          60,
          60,
          60,
          60,
          60,
          60,
          60,
          60,
          60,
          60,
          60,
          60,
          60,
          60,
          60,
          60,
          61,
          61,
          61,
          61,
          61,
          61,
          61,
          61,
          61,
          61,
          62,
          62,
          62,
          62,
          62,
          62,
          62,
          62,
          62,
          62,
          63,
          63,
          63,
          63,
          63,
          63,
          63,
          63,
          63,
          63,
          64,
          64,
          64,
          64,
          64,
          64,
          64,
          64,
          64,
          64,
          64,
          64,
          65,
          65,
          65,
          65,
          65,
          65,
          65,
          66,
          66,
          66,
          66,
          66,
          66,
          66,
          67,
          67,
          67,
          67,
          67,
          67,
          67,
          68,
          68,
          68,
          68,
          68,
          68,
          68,
          68,
          68,
          69,
          69,
          69,
          69,
          69,
          69,
          69,
          69,
          70,
          70,
          70,
          70,
          70,
          70,
          70,
          70,
          70,
          70,
          71,
          71,
          71,
          71,
          71,
          71,
          71,
          71,
          72,
          72,
          72,
          72,
          72,
          72,
          72,
          72,
          72,
          72,
          72,
          72,
          73,
          73,
          73,
          73,
          74,
          74,
          74,
          74,
          74,
          74,
          74,
          74,
          74,
          74,
          74,
          74,
          74,
          74,
          74,
          75,
          75,
          75,
          75,
          75,
          75,
          75,
          76,
          76,
          76,
          76,
          76,
          76,
          76,
          76,
          77,
          77,
          77,
          77,
          77,
          77,
          77,
          77,
          77,
          78,
          78,
          78,
          78,
          78,
          78,
          78,
          78,
          78,
          78,
          79,
          79,
          79,
          79,
          79,
          79,
          79,
          80,
          80,
          80,
          80,
          80,
          80,
          80,
          80,
          80,
          80,
          80,
          80,
          80,
          80,
          80,
          81,
          81,
          81,
          81,
          81,
          81,
          82,
          82,
          82,
          82,
          82,
          82,
          82,
          82,
          82,
          82,
          82,
          82,
          82,
          83,
          83,
          83,
          83,
          83,
          83,
          83,
          83,
          83,
          83,
          83,
          83,
          83,
          84,
          84,
          84,
          84,
          84,
          84,
          84,
          84,
          85,
          85,
          85,
          85,
          85,
          85,
          85,
          85,
          85,
          85,
          85,
          86,
          86,
          86,
          86,
          86,
          86,
          86,
          86,
          86,
          86,
          87,
          87,
          87,
          87,
          87,
          87,
          87,
          87,
          87,
          87,
          88,
          88,
          88,
          88,
          88,
          88,
          88,
          88,
          89,
          89,
          89,
          89,
          89,
          89,
          89,
          89,
          89,
          89,
          89,
          89,
          90,
          90,
          90,
          90,
          90,
          90,
          90,
          90,
          90,
          91,
          91,
          91,
          91,
          91,
          91,
          91,
          91,
          91,
          91,
          91,
          92,
          92,
          92,
          92,
          92,
          92,
          92,
          92,
          92,
          92,
          92,
          92,
          92,
          92,
          92,
          93,
          93,
          93,
          93,
          93,
          93,
          93,
          93,
          93,
          93,
          93,
          93,
          93,
          93,
          94,
          94,
          94,
          94,
          94,
          94,
          94,
          94,
          94,
          94,
          94,
          94,
          94,
          95,
          95,
          95,
          95,
          95,
          95,
          95,
          96,
          96,
          96,
          96,
          96,
          96,
          96,
          96,
          97,
          97,
          97,
          97,
          97,
          97,
          97,
          98,
          98,
          98,
          98,
          98,
          98,
          98,
          98,
          99,
          99,
          99,
          99,
          99,
          99,
          100,
          100,
          100,
          100,
          100,
          100,
          100,
          100,
          100,
          100,
          100
         ],
         "xaxis": "x",
         "y": [
          555.0099624204278,
          555.0099624204278,
          555.0099624204278,
          555.0099624204278,
          555.0099624204278,
          555.0099624204278,
          555.0099624204278,
          555.0099624204278,
          555.0099624204278,
          555.0099624204278,
          555.0099624204278,
          555.0099624204278,
          555.0099624204278,
          555.0099624204278,
          1073.3450434940223,
          1073.3450434940223,
          1073.3450434940223,
          1073.3450434940223,
          1073.3450434940223,
          1073.3450434940223,
          1073.3450434940223,
          1073.3450434940223,
          1073.3450434940223,
          1591.680124567617,
          1591.680124567617,
          1591.680124567617,
          1591.680124567617,
          1591.680124567617,
          1591.680124567617,
          1591.680124567617,
          1591.680124567617,
          1591.680124567617,
          2110.0152056412117,
          2110.0152056412117,
          2110.0152056412117,
          2110.0152056412117,
          2110.0152056412117,
          2110.0152056412117,
          2110.0152056412117,
          2110.0152056412117,
          2628.3502867148063,
          2628.3502867148063,
          2628.3502867148063,
          2628.3502867148063,
          2628.3502867148063,
          2628.3502867148063,
          2628.3502867148063,
          2628.3502867148063,
          2628.3502867148063,
          3146.685367788401,
          3146.685367788401,
          3146.685367788401,
          3146.685367788401,
          3146.685367788401,
          3146.685367788401,
          3146.685367788401,
          3146.685367788401,
          3146.685367788401,
          3146.685367788401,
          3146.685367788401,
          3665.0204488619956,
          3665.0204488619956,
          3665.0204488619956,
          3665.0204488619956,
          3665.0204488619956,
          3665.0204488619956,
          3665.0204488619956,
          3665.0204488619956,
          3665.0204488619956,
          3665.0204488619956,
          3665.0204488619956,
          4183.35552993559,
          4183.35552993559,
          4183.35552993559,
          4183.35552993559,
          4183.35552993559,
          4183.35552993559,
          4183.35552993559,
          4183.35552993559,
          4183.35552993559,
          4183.35552993559,
          4183.35552993559,
          4701.690611009185,
          4701.690611009185,
          4701.690611009185,
          4701.690611009185,
          4701.690611009185,
          4701.690611009185,
          4701.690611009185,
          4701.690611009185,
          4701.690611009185,
          4701.690611009185,
          4701.690611009185,
          4701.690611009185,
          4701.690611009185,
          5220.02569208278,
          5220.02569208278,
          5220.02569208278,
          5220.02569208278,
          5220.02569208278,
          5220.02569208278,
          5220.02569208278,
          5220.02569208278,
          5738.360773156374,
          5738.360773156374,
          5738.360773156374,
          5738.360773156374,
          5738.360773156374,
          5738.360773156374,
          5738.360773156374,
          5738.360773156374,
          5738.360773156374,
          5738.360773156374,
          5738.360773156374,
          5738.360773156374,
          5738.360773156374,
          5738.360773156374,
          6256.695854229969,
          6256.695854229969,
          6256.695854229969,
          6256.695854229969,
          6256.695854229969,
          6256.695854229969,
          6256.695854229969,
          6256.695854229969,
          6256.695854229969,
          6256.695854229969,
          6256.695854229969,
          6256.695854229969,
          6256.695854229969,
          6256.695854229969,
          6256.695854229969,
          6256.695854229969,
          6775.030935303564,
          6775.030935303564,
          6775.030935303564,
          6775.030935303564,
          7293.366016377158,
          7293.366016377158,
          7293.366016377158,
          7293.366016377158,
          7293.366016377158,
          7293.366016377158,
          7293.366016377158,
          7811.701097450753,
          7811.701097450753,
          7811.701097450753,
          7811.701097450753,
          7811.701097450753,
          7811.701097450753,
          7811.701097450753,
          8330.036178524348,
          8330.036178524348,
          8330.036178524348,
          8330.036178524348,
          8330.036178524348,
          8330.036178524348,
          8330.036178524348,
          8330.036178524348,
          8330.036178524348,
          8330.036178524348,
          8330.036178524348,
          8848.371259597943,
          8848.371259597943,
          8848.371259597943,
          8848.371259597943,
          8848.371259597943,
          8848.371259597943,
          8848.371259597943,
          8848.371259597943,
          8848.371259597943,
          8848.371259597943,
          8848.371259597943,
          8848.371259597943,
          8848.371259597943,
          8848.371259597943,
          9366.706340671537,
          9366.706340671537,
          9366.706340671537,
          9366.706340671537,
          9366.706340671537,
          9366.706340671537,
          9366.706340671537,
          9366.706340671537,
          9366.706340671537,
          9366.706340671537,
          9366.706340671537,
          9366.706340671537,
          9366.706340671537,
          9366.706340671537,
          9885.041421745133,
          9885.041421745133,
          9885.041421745133,
          9885.041421745133,
          9885.041421745133,
          9885.041421745133,
          9885.041421745133,
          9885.041421745133,
          9885.041421745133,
          9885.041421745133,
          9885.041421745133,
          9885.041421745133,
          9885.041421745133,
          10403.376502818726,
          10403.376502818726,
          10403.376502818726,
          10403.376502818726,
          10403.376502818726,
          10403.376502818726,
          10403.376502818726,
          10403.376502818726,
          10921.711583892322,
          10921.711583892322,
          10921.711583892322,
          10921.711583892322,
          10921.711583892322,
          10921.711583892322,
          10921.711583892322,
          10921.711583892322,
          11440.046664965916,
          11440.046664965916,
          11440.046664965916,
          11440.046664965916,
          11440.046664965916,
          11440.046664965916,
          11440.046664965916,
          11440.046664965916,
          11440.046664965916,
          11440.046664965916,
          11958.381746039511,
          11958.381746039511,
          11958.381746039511,
          11958.381746039511,
          11958.381746039511,
          11958.381746039511,
          11958.381746039511,
          11958.381746039511,
          11958.381746039511,
          12476.716827113105,
          12476.716827113105,
          12476.716827113105,
          12476.716827113105,
          12476.716827113105,
          12476.716827113105,
          12476.716827113105,
          12476.716827113105,
          12476.716827113105,
          12476.716827113105,
          12476.716827113105,
          12476.716827113105,
          12476.716827113105,
          12476.716827113105,
          12995.0519081867,
          12995.0519081867,
          12995.0519081867,
          12995.0519081867,
          12995.0519081867,
          12995.0519081867,
          12995.0519081867,
          13513.386989260294,
          13513.386989260294,
          14031.72207033389,
          14031.72207033389,
          14031.72207033389,
          14031.72207033389,
          14031.72207033389,
          14031.72207033389,
          14031.72207033389,
          14031.72207033389,
          14031.72207033389,
          14031.72207033389,
          14550.057151407484,
          14550.057151407484,
          14550.057151407484,
          14550.057151407484,
          14550.057151407484,
          14550.057151407484,
          14550.057151407484,
          14550.057151407484,
          14550.057151407484,
          14550.057151407484,
          14550.057151407484,
          15068.39223248108,
          15068.39223248108,
          15068.39223248108,
          15068.39223248108,
          15068.39223248108,
          15068.39223248108,
          15068.39223248108,
          15068.39223248108,
          15068.39223248108,
          15586.727313554673,
          15586.727313554673,
          15586.727313554673,
          15586.727313554673,
          15586.727313554673,
          15586.727313554673,
          15586.727313554673,
          15586.727313554673,
          15586.727313554673,
          15586.727313554673,
          15586.727313554673,
          15586.727313554673,
          16105.062394628269,
          16105.062394628269,
          16105.062394628269,
          16105.062394628269,
          16105.062394628269,
          16105.062394628269,
          16105.062394628269,
          16105.062394628269,
          16105.062394628269,
          16623.397475701862,
          16623.397475701862,
          16623.397475701862,
          16623.397475701862,
          16623.397475701862,
          16623.397475701862,
          16623.397475701862,
          16623.397475701862,
          16623.397475701862,
          16623.397475701862,
          16623.397475701862,
          16623.397475701862,
          16623.397475701862,
          16623.397475701862,
          16623.397475701862,
          16623.397475701862,
          17141.732556775456,
          17141.732556775456,
          17141.732556775456,
          17141.732556775456,
          17141.732556775456,
          17141.732556775456,
          17141.732556775456,
          17660.067637849053,
          17660.067637849053,
          17660.067637849053,
          17660.067637849053,
          17660.067637849053,
          17660.067637849053,
          17660.067637849053,
          17660.067637849053,
          17660.067637849053,
          18178.402718922647,
          18178.402718922647,
          18178.402718922647,
          18178.402718922647,
          18178.402718922647,
          18178.402718922647,
          18178.402718922647,
          18178.402718922647,
          18696.73779999624,
          18696.73779999624,
          18696.73779999624,
          18696.73779999624,
          18696.73779999624,
          18696.73779999624,
          19215.072881069835,
          19215.072881069835,
          19215.072881069835,
          19215.072881069835,
          19215.072881069835,
          19215.072881069835,
          19215.072881069835,
          19733.407962143432,
          19733.407962143432,
          19733.407962143432,
          19733.407962143432,
          19733.407962143432,
          19733.407962143432,
          19733.407962143432,
          19733.407962143432,
          19733.407962143432,
          20251.743043217026,
          20251.743043217026,
          20251.743043217026,
          20251.743043217026,
          20251.743043217026,
          20251.743043217026,
          20251.743043217026,
          20251.743043217026,
          20251.743043217026,
          20251.743043217026,
          20251.743043217026,
          20251.743043217026,
          20770.07812429062,
          20770.07812429062,
          20770.07812429062,
          20770.07812429062,
          20770.07812429062,
          20770.07812429062,
          20770.07812429062,
          20770.07812429062,
          20770.07812429062,
          20770.07812429062,
          20770.07812429062,
          20770.07812429062,
          20770.07812429062,
          20770.07812429062,
          20770.07812429062,
          20770.07812429062,
          21288.413205364213,
          21288.413205364213,
          21288.413205364213,
          21288.413205364213,
          21288.413205364213,
          21288.413205364213,
          21288.413205364213,
          21288.413205364213,
          21288.413205364213,
          21288.413205364213,
          21288.413205364213,
          21288.413205364213,
          21806.74828643781,
          21806.74828643781,
          21806.74828643781,
          21806.74828643781,
          21806.74828643781,
          21806.74828643781,
          21806.74828643781,
          21806.74828643781,
          21806.74828643781,
          21806.74828643781,
          21806.74828643781,
          22325.083367511405,
          22325.083367511405,
          22325.083367511405,
          22325.083367511405,
          22325.083367511405,
          22325.083367511405,
          22325.083367511405,
          22325.083367511405,
          22325.083367511405,
          22325.083367511405,
          22843.418448585,
          22843.418448585,
          22843.418448585,
          22843.418448585,
          22843.418448585,
          22843.418448585,
          22843.418448585,
          22843.418448585,
          22843.418448585,
          22843.418448585,
          23361.753529658592,
          23361.753529658592,
          23361.753529658592,
          23361.753529658592,
          23361.753529658592,
          23361.753529658592,
          23361.753529658592,
          23361.753529658592,
          23361.753529658592,
          23361.753529658592,
          23361.753529658592,
          23361.753529658592,
          23361.753529658592,
          23361.753529658592,
          23361.753529658592,
          23880.08861073219,
          23880.08861073219,
          23880.08861073219,
          23880.08861073219,
          23880.08861073219,
          23880.08861073219,
          23880.08861073219,
          23880.08861073219,
          23880.08861073219,
          23880.08861073219,
          23880.08861073219,
          23880.08861073219,
          23880.08861073219,
          23880.08861073219,
          23880.08861073219,
          23880.08861073219,
          23880.08861073219,
          23880.08861073219,
          23880.08861073219,
          24398.423691805783,
          24398.423691805783,
          24398.423691805783,
          24398.423691805783,
          24398.423691805783,
          24398.423691805783,
          24398.423691805783,
          24916.758772879377,
          24916.758772879377,
          24916.758772879377,
          24916.758772879377,
          24916.758772879377,
          24916.758772879377,
          25435.09385395297,
          25435.09385395297,
          25435.09385395297,
          25435.09385395297,
          25435.09385395297,
          25435.09385395297,
          25435.09385395297,
          25435.09385395297,
          25435.09385395297,
          25435.09385395297,
          25435.09385395297,
          25435.09385395297,
          25435.09385395297,
          25953.428935026568,
          25953.428935026568,
          25953.428935026568,
          25953.428935026568,
          25953.428935026568,
          25953.428935026568,
          25953.428935026568,
          25953.428935026568,
          25953.428935026568,
          25953.428935026568,
          25953.428935026568,
          26471.764016100162,
          26471.764016100162,
          26471.764016100162,
          26471.764016100162,
          26471.764016100162,
          26471.764016100162,
          26471.764016100162,
          26471.764016100162,
          26471.764016100162,
          26471.764016100162,
          26990.099097173756,
          26990.099097173756,
          26990.099097173756,
          26990.099097173756,
          26990.099097173756,
          26990.099097173756,
          27508.43417824735,
          27508.43417824735,
          27508.43417824735,
          27508.43417824735,
          27508.43417824735,
          27508.43417824735,
          27508.43417824735,
          27508.43417824735,
          27508.43417824735,
          27508.43417824735,
          27508.43417824735,
          27508.43417824735,
          27508.43417824735,
          27508.43417824735,
          27508.43417824735,
          28026.769259320947,
          28026.769259320947,
          28026.769259320947,
          28026.769259320947,
          28026.769259320947,
          28026.769259320947,
          28026.769259320947,
          28026.769259320947,
          28026.769259320947,
          28026.769259320947,
          28026.769259320947,
          28545.10434039454,
          28545.10434039454,
          28545.10434039454,
          28545.10434039454,
          28545.10434039454,
          29063.439421468134,
          29063.439421468134,
          29063.439421468134,
          29063.439421468134,
          29063.439421468134,
          29063.439421468134,
          29063.439421468134,
          29063.439421468134,
          29063.439421468134,
          29063.439421468134,
          29063.439421468134,
          29063.439421468134,
          29063.439421468134,
          29581.774502541728,
          29581.774502541728,
          29581.774502541728,
          30100.109583615325,
          30100.109583615325,
          30100.109583615325,
          30100.109583615325,
          30100.109583615325,
          30100.109583615325,
          30100.109583615325,
          30100.109583615325,
          30100.109583615325,
          30100.109583615325,
          30618.44466468892,
          30618.44466468892,
          30618.44466468892,
          30618.44466468892,
          30618.44466468892,
          30618.44466468892,
          30618.44466468892,
          30618.44466468892,
          31136.779745762513,
          31136.779745762513,
          31136.779745762513,
          31136.779745762513,
          31136.779745762513,
          31136.779745762513,
          31136.779745762513,
          31136.779745762513,
          31136.779745762513,
          31136.779745762513,
          31136.779745762513,
          31136.779745762513,
          31136.779745762513,
          31136.779745762513,
          31136.779745762513,
          31136.779745762513,
          31136.779745762513,
          31136.779745762513,
          31655.114826836107,
          31655.114826836107,
          31655.114826836107,
          31655.114826836107,
          31655.114826836107,
          31655.114826836107,
          31655.114826836107,
          31655.114826836107,
          31655.114826836107,
          31655.114826836107,
          32173.449907909704,
          32173.449907909704,
          32173.449907909704,
          32173.449907909704,
          32173.449907909704,
          32173.449907909704,
          32173.449907909704,
          32173.449907909704,
          32173.449907909704,
          32173.449907909704,
          32691.784988983298,
          32691.784988983298,
          32691.784988983298,
          32691.784988983298,
          32691.784988983298,
          32691.784988983298,
          32691.784988983298,
          32691.784988983298,
          32691.784988983298,
          32691.784988983298,
          33210.120070056895,
          33210.120070056895,
          33210.120070056895,
          33210.120070056895,
          33210.120070056895,
          33210.120070056895,
          33210.120070056895,
          33210.120070056895,
          33210.120070056895,
          33210.120070056895,
          33210.120070056895,
          33210.120070056895,
          33728.45515113049,
          33728.45515113049,
          33728.45515113049,
          33728.45515113049,
          33728.45515113049,
          33728.45515113049,
          33728.45515113049,
          34246.79023220408,
          34246.79023220408,
          34246.79023220408,
          34246.79023220408,
          34246.79023220408,
          34246.79023220408,
          34246.79023220408,
          34765.12531327768,
          34765.12531327768,
          34765.12531327768,
          34765.12531327768,
          34765.12531327768,
          34765.12531327768,
          34765.12531327768,
          35283.46039435127,
          35283.46039435127,
          35283.46039435127,
          35283.46039435127,
          35283.46039435127,
          35283.46039435127,
          35283.46039435127,
          35283.46039435127,
          35283.46039435127,
          35801.795475424864,
          35801.795475424864,
          35801.795475424864,
          35801.795475424864,
          35801.795475424864,
          35801.795475424864,
          35801.795475424864,
          35801.795475424864,
          36320.13055649846,
          36320.13055649846,
          36320.13055649846,
          36320.13055649846,
          36320.13055649846,
          36320.13055649846,
          36320.13055649846,
          36320.13055649846,
          36320.13055649846,
          36320.13055649846,
          36838.46563757205,
          36838.46563757205,
          36838.46563757205,
          36838.46563757205,
          36838.46563757205,
          36838.46563757205,
          36838.46563757205,
          36838.46563757205,
          37356.80071864565,
          37356.80071864565,
          37356.80071864565,
          37356.80071864565,
          37356.80071864565,
          37356.80071864565,
          37356.80071864565,
          37356.80071864565,
          37356.80071864565,
          37356.80071864565,
          37356.80071864565,
          37356.80071864565,
          37875.135799719246,
          37875.135799719246,
          37875.135799719246,
          37875.135799719246,
          38393.47088079284,
          38393.47088079284,
          38393.47088079284,
          38393.47088079284,
          38393.47088079284,
          38393.47088079284,
          38393.47088079284,
          38393.47088079284,
          38393.47088079284,
          38393.47088079284,
          38393.47088079284,
          38393.47088079284,
          38393.47088079284,
          38393.47088079284,
          38393.47088079284,
          38911.805961866434,
          38911.805961866434,
          38911.805961866434,
          38911.805961866434,
          38911.805961866434,
          38911.805961866434,
          38911.805961866434,
          39430.14104294003,
          39430.14104294003,
          39430.14104294003,
          39430.14104294003,
          39430.14104294003,
          39430.14104294003,
          39430.14104294003,
          39430.14104294003,
          39948.47612401362,
          39948.47612401362,
          39948.47612401362,
          39948.47612401362,
          39948.47612401362,
          39948.47612401362,
          39948.47612401362,
          39948.47612401362,
          39948.47612401362,
          40466.811205087215,
          40466.811205087215,
          40466.811205087215,
          40466.811205087215,
          40466.811205087215,
          40466.811205087215,
          40466.811205087215,
          40466.811205087215,
          40466.811205087215,
          40466.811205087215,
          40985.14628616081,
          40985.14628616081,
          40985.14628616081,
          40985.14628616081,
          40985.14628616081,
          40985.14628616081,
          40985.14628616081,
          41503.48136723441,
          41503.48136723441,
          41503.48136723441,
          41503.48136723441,
          41503.48136723441,
          41503.48136723441,
          41503.48136723441,
          41503.48136723441,
          41503.48136723441,
          41503.48136723441,
          41503.48136723441,
          41503.48136723441,
          41503.48136723441,
          41503.48136723441,
          41503.48136723441,
          42021.816448308,
          42021.816448308,
          42021.816448308,
          42021.816448308,
          42021.816448308,
          42021.816448308,
          42540.1515293816,
          42540.1515293816,
          42540.1515293816,
          42540.1515293816,
          42540.1515293816,
          42540.1515293816,
          42540.1515293816,
          42540.1515293816,
          42540.1515293816,
          42540.1515293816,
          42540.1515293816,
          42540.1515293816,
          42540.1515293816,
          43058.48661045519,
          43058.48661045519,
          43058.48661045519,
          43058.48661045519,
          43058.48661045519,
          43058.48661045519,
          43058.48661045519,
          43058.48661045519,
          43058.48661045519,
          43058.48661045519,
          43058.48661045519,
          43058.48661045519,
          43058.48661045519,
          43576.821691528785,
          43576.821691528785,
          43576.821691528785,
          43576.821691528785,
          43576.821691528785,
          43576.821691528785,
          43576.821691528785,
          43576.821691528785,
          44095.15677260238,
          44095.15677260238,
          44095.15677260238,
          44095.15677260238,
          44095.15677260238,
          44095.15677260238,
          44095.15677260238,
          44095.15677260238,
          44095.15677260238,
          44095.15677260238,
          44095.15677260238,
          44613.49185367597,
          44613.49185367597,
          44613.49185367597,
          44613.49185367597,
          44613.49185367597,
          44613.49185367597,
          44613.49185367597,
          44613.49185367597,
          44613.49185367597,
          44613.49185367597,
          45131.826934749566,
          45131.826934749566,
          45131.826934749566,
          45131.826934749566,
          45131.826934749566,
          45131.826934749566,
          45131.826934749566,
          45131.826934749566,
          45131.826934749566,
          45131.826934749566,
          45650.16201582317,
          45650.16201582317,
          45650.16201582317,
          45650.16201582317,
          45650.16201582317,
          45650.16201582317,
          45650.16201582317,
          45650.16201582317,
          46168.49709689676,
          46168.49709689676,
          46168.49709689676,
          46168.49709689676,
          46168.49709689676,
          46168.49709689676,
          46168.49709689676,
          46168.49709689676,
          46168.49709689676,
          46168.49709689676,
          46168.49709689676,
          46168.49709689676,
          46686.832177970355,
          46686.832177970355,
          46686.832177970355,
          46686.832177970355,
          46686.832177970355,
          46686.832177970355,
          46686.832177970355,
          46686.832177970355,
          46686.832177970355,
          47205.16725904395,
          47205.16725904395,
          47205.16725904395,
          47205.16725904395,
          47205.16725904395,
          47205.16725904395,
          47205.16725904395,
          47205.16725904395,
          47205.16725904395,
          47205.16725904395,
          47205.16725904395,
          47723.50234011754,
          47723.50234011754,
          47723.50234011754,
          47723.50234011754,
          47723.50234011754,
          47723.50234011754,
          47723.50234011754,
          47723.50234011754,
          47723.50234011754,
          47723.50234011754,
          47723.50234011754,
          47723.50234011754,
          47723.50234011754,
          47723.50234011754,
          47723.50234011754,
          48241.837421191136,
          48241.837421191136,
          48241.837421191136,
          48241.837421191136,
          48241.837421191136,
          48241.837421191136,
          48241.837421191136,
          48241.837421191136,
          48241.837421191136,
          48241.837421191136,
          48241.837421191136,
          48241.837421191136,
          48241.837421191136,
          48241.837421191136,
          48760.17250226473,
          48760.17250226473,
          48760.17250226473,
          48760.17250226473,
          48760.17250226473,
          48760.17250226473,
          48760.17250226473,
          48760.17250226473,
          48760.17250226473,
          48760.17250226473,
          48760.17250226473,
          48760.17250226473,
          48760.17250226473,
          49278.50758333832,
          49278.50758333832,
          49278.50758333832,
          49278.50758333832,
          49278.50758333832,
          49278.50758333832,
          49278.50758333832,
          49796.842664411924,
          49796.842664411924,
          49796.842664411924,
          49796.842664411924,
          49796.842664411924,
          49796.842664411924,
          49796.842664411924,
          49796.842664411924,
          50315.17774548552,
          50315.17774548552,
          50315.17774548552,
          50315.17774548552,
          50315.17774548552,
          50315.17774548552,
          50315.17774548552,
          50833.51282655911,
          50833.51282655911,
          50833.51282655911,
          50833.51282655911,
          50833.51282655911,
          50833.51282655911,
          50833.51282655911,
          50833.51282655911,
          51351.847907632706,
          51351.847907632706,
          51351.847907632706,
          51351.847907632706,
          51351.847907632706,
          51351.847907632706,
          51870.1829887063,
          51870.1829887063,
          51870.1829887063,
          51870.1829887063,
          51870.1829887063,
          51870.1829887063,
          51870.1829887063,
          51870.1829887063,
          51870.1829887063,
          51870.1829887063,
          51870.1829887063
         ],
         "yaxis": "y"
        }
       ],
       "layout": {
        "legend": {
         "tracegroupgap": 0
        },
        "margin": {
         "t": 60
        },
        "template": {
         "data": {
          "bar": [
           {
            "error_x": {
             "color": "#2a3f5f"
            },
            "error_y": {
             "color": "#2a3f5f"
            },
            "marker": {
             "line": {
              "color": "#E5ECF6",
              "width": 0.5
             },
             "pattern": {
              "fillmode": "overlay",
              "size": 10,
              "solidity": 0.2
             }
            },
            "type": "bar"
           }
          ],
          "barpolar": [
           {
            "marker": {
             "line": {
              "color": "#E5ECF6",
              "width": 0.5
             },
             "pattern": {
              "fillmode": "overlay",
              "size": 10,
              "solidity": 0.2
             }
            },
            "type": "barpolar"
           }
          ],
          "carpet": [
           {
            "aaxis": {
             "endlinecolor": "#2a3f5f",
             "gridcolor": "white",
             "linecolor": "white",
             "minorgridcolor": "white",
             "startlinecolor": "#2a3f5f"
            },
            "baxis": {
             "endlinecolor": "#2a3f5f",
             "gridcolor": "white",
             "linecolor": "white",
             "minorgridcolor": "white",
             "startlinecolor": "#2a3f5f"
            },
            "type": "carpet"
           }
          ],
          "choropleth": [
           {
            "colorbar": {
             "outlinewidth": 0,
             "ticks": ""
            },
            "type": "choropleth"
           }
          ],
          "contour": [
           {
            "colorbar": {
             "outlinewidth": 0,
             "ticks": ""
            },
            "colorscale": [
             [
              0,
              "#0d0887"
             ],
             [
              0.1111111111111111,
              "#46039f"
             ],
             [
              0.2222222222222222,
              "#7201a8"
             ],
             [
              0.3333333333333333,
              "#9c179e"
             ],
             [
              0.4444444444444444,
              "#bd3786"
             ],
             [
              0.5555555555555556,
              "#d8576b"
             ],
             [
              0.6666666666666666,
              "#ed7953"
             ],
             [
              0.7777777777777778,
              "#fb9f3a"
             ],
             [
              0.8888888888888888,
              "#fdca26"
             ],
             [
              1,
              "#f0f921"
             ]
            ],
            "type": "contour"
           }
          ],
          "contourcarpet": [
           {
            "colorbar": {
             "outlinewidth": 0,
             "ticks": ""
            },
            "type": "contourcarpet"
           }
          ],
          "heatmap": [
           {
            "colorbar": {
             "outlinewidth": 0,
             "ticks": ""
            },
            "colorscale": [
             [
              0,
              "#0d0887"
             ],
             [
              0.1111111111111111,
              "#46039f"
             ],
             [
              0.2222222222222222,
              "#7201a8"
             ],
             [
              0.3333333333333333,
              "#9c179e"
             ],
             [
              0.4444444444444444,
              "#bd3786"
             ],
             [
              0.5555555555555556,
              "#d8576b"
             ],
             [
              0.6666666666666666,
              "#ed7953"
             ],
             [
              0.7777777777777778,
              "#fb9f3a"
             ],
             [
              0.8888888888888888,
              "#fdca26"
             ],
             [
              1,
              "#f0f921"
             ]
            ],
            "type": "heatmap"
           }
          ],
          "heatmapgl": [
           {
            "colorbar": {
             "outlinewidth": 0,
             "ticks": ""
            },
            "colorscale": [
             [
              0,
              "#0d0887"
             ],
             [
              0.1111111111111111,
              "#46039f"
             ],
             [
              0.2222222222222222,
              "#7201a8"
             ],
             [
              0.3333333333333333,
              "#9c179e"
             ],
             [
              0.4444444444444444,
              "#bd3786"
             ],
             [
              0.5555555555555556,
              "#d8576b"
             ],
             [
              0.6666666666666666,
              "#ed7953"
             ],
             [
              0.7777777777777778,
              "#fb9f3a"
             ],
             [
              0.8888888888888888,
              "#fdca26"
             ],
             [
              1,
              "#f0f921"
             ]
            ],
            "type": "heatmapgl"
           }
          ],
          "histogram": [
           {
            "marker": {
             "pattern": {
              "fillmode": "overlay",
              "size": 10,
              "solidity": 0.2
             }
            },
            "type": "histogram"
           }
          ],
          "histogram2d": [
           {
            "colorbar": {
             "outlinewidth": 0,
             "ticks": ""
            },
            "colorscale": [
             [
              0,
              "#0d0887"
             ],
             [
              0.1111111111111111,
              "#46039f"
             ],
             [
              0.2222222222222222,
              "#7201a8"
             ],
             [
              0.3333333333333333,
              "#9c179e"
             ],
             [
              0.4444444444444444,
              "#bd3786"
             ],
             [
              0.5555555555555556,
              "#d8576b"
             ],
             [
              0.6666666666666666,
              "#ed7953"
             ],
             [
              0.7777777777777778,
              "#fb9f3a"
             ],
             [
              0.8888888888888888,
              "#fdca26"
             ],
             [
              1,
              "#f0f921"
             ]
            ],
            "type": "histogram2d"
           }
          ],
          "histogram2dcontour": [
           {
            "colorbar": {
             "outlinewidth": 0,
             "ticks": ""
            },
            "colorscale": [
             [
              0,
              "#0d0887"
             ],
             [
              0.1111111111111111,
              "#46039f"
             ],
             [
              0.2222222222222222,
              "#7201a8"
             ],
             [
              0.3333333333333333,
              "#9c179e"
             ],
             [
              0.4444444444444444,
              "#bd3786"
             ],
             [
              0.5555555555555556,
              "#d8576b"
             ],
             [
              0.6666666666666666,
              "#ed7953"
             ],
             [
              0.7777777777777778,
              "#fb9f3a"
             ],
             [
              0.8888888888888888,
              "#fdca26"
             ],
             [
              1,
              "#f0f921"
             ]
            ],
            "type": "histogram2dcontour"
           }
          ],
          "mesh3d": [
           {
            "colorbar": {
             "outlinewidth": 0,
             "ticks": ""
            },
            "type": "mesh3d"
           }
          ],
          "parcoords": [
           {
            "line": {
             "colorbar": {
              "outlinewidth": 0,
              "ticks": ""
             }
            },
            "type": "parcoords"
           }
          ],
          "pie": [
           {
            "automargin": true,
            "type": "pie"
           }
          ],
          "scatter": [
           {
            "fillpattern": {
             "fillmode": "overlay",
             "size": 10,
             "solidity": 0.2
            },
            "type": "scatter"
           }
          ],
          "scatter3d": [
           {
            "line": {
             "colorbar": {
              "outlinewidth": 0,
              "ticks": ""
             }
            },
            "marker": {
             "colorbar": {
              "outlinewidth": 0,
              "ticks": ""
             }
            },
            "type": "scatter3d"
           }
          ],
          "scattercarpet": [
           {
            "marker": {
             "colorbar": {
              "outlinewidth": 0,
              "ticks": ""
             }
            },
            "type": "scattercarpet"
           }
          ],
          "scattergeo": [
           {
            "marker": {
             "colorbar": {
              "outlinewidth": 0,
              "ticks": ""
             }
            },
            "type": "scattergeo"
           }
          ],
          "scattergl": [
           {
            "marker": {
             "colorbar": {
              "outlinewidth": 0,
              "ticks": ""
             }
            },
            "type": "scattergl"
           }
          ],
          "scattermapbox": [
           {
            "marker": {
             "colorbar": {
              "outlinewidth": 0,
              "ticks": ""
             }
            },
            "type": "scattermapbox"
           }
          ],
          "scatterpolar": [
           {
            "marker": {
             "colorbar": {
              "outlinewidth": 0,
              "ticks": ""
             }
            },
            "type": "scatterpolar"
           }
          ],
          "scatterpolargl": [
           {
            "marker": {
             "colorbar": {
              "outlinewidth": 0,
              "ticks": ""
             }
            },
            "type": "scatterpolargl"
           }
          ],
          "scatterternary": [
           {
            "marker": {
             "colorbar": {
              "outlinewidth": 0,
              "ticks": ""
             }
            },
            "type": "scatterternary"
           }
          ],
          "surface": [
           {
            "colorbar": {
             "outlinewidth": 0,
             "ticks": ""
            },
            "colorscale": [
             [
              0,
              "#0d0887"
             ],
             [
              0.1111111111111111,
              "#46039f"
             ],
             [
              0.2222222222222222,
              "#7201a8"
             ],
             [
              0.3333333333333333,
              "#9c179e"
             ],
             [
              0.4444444444444444,
              "#bd3786"
             ],
             [
              0.5555555555555556,
              "#d8576b"
             ],
             [
              0.6666666666666666,
              "#ed7953"
             ],
             [
              0.7777777777777778,
              "#fb9f3a"
             ],
             [
              0.8888888888888888,
              "#fdca26"
             ],
             [
              1,
              "#f0f921"
             ]
            ],
            "type": "surface"
           }
          ],
          "table": [
           {
            "cells": {
             "fill": {
              "color": "#EBF0F8"
             },
             "line": {
              "color": "white"
             }
            },
            "header": {
             "fill": {
              "color": "#C8D4E3"
             },
             "line": {
              "color": "white"
             }
            },
            "type": "table"
           }
          ]
         },
         "layout": {
          "annotationdefaults": {
           "arrowcolor": "#2a3f5f",
           "arrowhead": 0,
           "arrowwidth": 1
          },
          "autotypenumbers": "strict",
          "coloraxis": {
           "colorbar": {
            "outlinewidth": 0,
            "ticks": ""
           }
          },
          "colorscale": {
           "diverging": [
            [
             0,
             "#8e0152"
            ],
            [
             0.1,
             "#c51b7d"
            ],
            [
             0.2,
             "#de77ae"
            ],
            [
             0.3,
             "#f1b6da"
            ],
            [
             0.4,
             "#fde0ef"
            ],
            [
             0.5,
             "#f7f7f7"
            ],
            [
             0.6,
             "#e6f5d0"
            ],
            [
             0.7,
             "#b8e186"
            ],
            [
             0.8,
             "#7fbc41"
            ],
            [
             0.9,
             "#4d9221"
            ],
            [
             1,
             "#276419"
            ]
           ],
           "sequential": [
            [
             0,
             "#0d0887"
            ],
            [
             0.1111111111111111,
             "#46039f"
            ],
            [
             0.2222222222222222,
             "#7201a8"
            ],
            [
             0.3333333333333333,
             "#9c179e"
            ],
            [
             0.4444444444444444,
             "#bd3786"
            ],
            [
             0.5555555555555556,
             "#d8576b"
            ],
            [
             0.6666666666666666,
             "#ed7953"
            ],
            [
             0.7777777777777778,
             "#fb9f3a"
            ],
            [
             0.8888888888888888,
             "#fdca26"
            ],
            [
             1,
             "#f0f921"
            ]
           ],
           "sequentialminus": [
            [
             0,
             "#0d0887"
            ],
            [
             0.1111111111111111,
             "#46039f"
            ],
            [
             0.2222222222222222,
             "#7201a8"
            ],
            [
             0.3333333333333333,
             "#9c179e"
            ],
            [
             0.4444444444444444,
             "#bd3786"
            ],
            [
             0.5555555555555556,
             "#d8576b"
            ],
            [
             0.6666666666666666,
             "#ed7953"
            ],
            [
             0.7777777777777778,
             "#fb9f3a"
            ],
            [
             0.8888888888888888,
             "#fdca26"
            ],
            [
             1,
             "#f0f921"
            ]
           ]
          },
          "colorway": [
           "#636efa",
           "#EF553B",
           "#00cc96",
           "#ab63fa",
           "#FFA15A",
           "#19d3f3",
           "#FF6692",
           "#B6E880",
           "#FF97FF",
           "#FECB52"
          ],
          "font": {
           "color": "#2a3f5f"
          },
          "geo": {
           "bgcolor": "white",
           "lakecolor": "white",
           "landcolor": "#E5ECF6",
           "showlakes": true,
           "showland": true,
           "subunitcolor": "white"
          },
          "hoverlabel": {
           "align": "left"
          },
          "hovermode": "closest",
          "mapbox": {
           "style": "light"
          },
          "paper_bgcolor": "white",
          "plot_bgcolor": "#E5ECF6",
          "polar": {
           "angularaxis": {
            "gridcolor": "white",
            "linecolor": "white",
            "ticks": ""
           },
           "bgcolor": "#E5ECF6",
           "radialaxis": {
            "gridcolor": "white",
            "linecolor": "white",
            "ticks": ""
           }
          },
          "scene": {
           "xaxis": {
            "backgroundcolor": "#E5ECF6",
            "gridcolor": "white",
            "gridwidth": 2,
            "linecolor": "white",
            "showbackground": true,
            "ticks": "",
            "zerolinecolor": "white"
           },
           "yaxis": {
            "backgroundcolor": "#E5ECF6",
            "gridcolor": "white",
            "gridwidth": 2,
            "linecolor": "white",
            "showbackground": true,
            "ticks": "",
            "zerolinecolor": "white"
           },
           "zaxis": {
            "backgroundcolor": "#E5ECF6",
            "gridcolor": "white",
            "gridwidth": 2,
            "linecolor": "white",
            "showbackground": true,
            "ticks": "",
            "zerolinecolor": "white"
           }
          },
          "shapedefaults": {
           "line": {
            "color": "#2a3f5f"
           }
          },
          "ternary": {
           "aaxis": {
            "gridcolor": "white",
            "linecolor": "white",
            "ticks": ""
           },
           "baxis": {
            "gridcolor": "white",
            "linecolor": "white",
            "ticks": ""
           },
           "bgcolor": "#E5ECF6",
           "caxis": {
            "gridcolor": "white",
            "linecolor": "white",
            "ticks": ""
           }
          },
          "title": {
           "x": 0.05
          },
          "xaxis": {
           "automargin": true,
           "gridcolor": "white",
           "linecolor": "white",
           "ticks": "",
           "title": {
            "standoff": 15
           },
           "zerolinecolor": "white",
           "zerolinewidth": 2
          },
          "yaxis": {
           "automargin": true,
           "gridcolor": "white",
           "linecolor": "white",
           "ticks": "",
           "title": {
            "standoff": 15
           },
           "zerolinecolor": "white",
           "zerolinewidth": 2
          }
         }
        },
        "xaxis": {
         "anchor": "y",
         "domain": [
          0,
          1
         ],
         "title": {
          "text": "quantity"
         }
        },
        "yaxis": {
         "anchor": "x",
         "domain": [
          0,
          1
         ],
         "title": {
          "text": "total_price"
         }
        }
       }
      }
     },
     "metadata": {},
     "output_type": "display_data"
    }
   ],
   "source": [
    "px.scatter(df, x=df.quantity, y=df.total_price, trendline='ols', trendline_color_override='red')"
   ]
  },
  {
   "cell_type": "markdown",
   "id": "46d94cab",
   "metadata": {},
   "source": [
    "## Histogram"
   ]
  },
  {
   "cell_type": "code",
   "execution_count": 492,
   "id": "73933fd0",
   "metadata": {},
   "outputs": [
    {
     "data": {
      "text/html": [
       "<div>\n",
       "<style scoped>\n",
       "    .dataframe tbody tr th:only-of-type {\n",
       "        vertical-align: middle;\n",
       "    }\n",
       "\n",
       "    .dataframe tbody tr th {\n",
       "        vertical-align: top;\n",
       "    }\n",
       "\n",
       "    .dataframe thead th {\n",
       "        text-align: right;\n",
       "    }\n",
       "</style>\n",
       "<table border=\"1\" class=\"dataframe\">\n",
       "  <thead>\n",
       "    <tr style=\"text-align: right;\">\n",
       "      <th></th>\n",
       "      <th>order_id</th>\n",
       "      <th>product_name</th>\n",
       "      <th>quantity</th>\n",
       "      <th>unit_price</th>\n",
       "      <th>total_price</th>\n",
       "      <th>customer_name</th>\n",
       "      <th>customer_email</th>\n",
       "      <th>shipping_address</th>\n",
       "      <th>order_date</th>\n",
       "      <th>payment_method</th>\n",
       "    </tr>\n",
       "  </thead>\n",
       "  <tbody>\n",
       "    <tr>\n",
       "      <th>0</th>\n",
       "      <td>1</td>\n",
       "      <td>Thai Green Curry Paste</td>\n",
       "      <td>61</td>\n",
       "      <td>263.81</td>\n",
       "      <td>16092.41</td>\n",
       "      <td>Cathrine Lyall</td>\n",
       "      <td>clyall0@chicagotribune.com</td>\n",
       "      <td>2 Meadow Ridge Point</td>\n",
       "      <td>2022-09-14</td>\n",
       "      <td>Credit Card</td>\n",
       "    </tr>\n",
       "    <tr>\n",
       "      <th>2</th>\n",
       "      <td>3</td>\n",
       "      <td>Cinnamon Sugar Tortilla Chips</td>\n",
       "      <td>7</td>\n",
       "      <td>925.76</td>\n",
       "      <td>6480.32</td>\n",
       "      <td>Siouxie Gregoletti</td>\n",
       "      <td>sgregoletti2@wunderground.com</td>\n",
       "      <td>6 Graceland Alley</td>\n",
       "      <td>2022-05-29</td>\n",
       "      <td>Cash on Delivery</td>\n",
       "    </tr>\n",
       "    <tr>\n",
       "      <th>6</th>\n",
       "      <td>7</td>\n",
       "      <td>Carrot Sticks</td>\n",
       "      <td>46</td>\n",
       "      <td>118.69</td>\n",
       "      <td>5459.74</td>\n",
       "      <td>Persis Leaman</td>\n",
       "      <td>pleaman6@shop-pro.jp</td>\n",
       "      <td>887 Walton Crossing</td>\n",
       "      <td>2022-06-02</td>\n",
       "      <td>Cash on Delivery</td>\n",
       "    </tr>\n",
       "    <tr>\n",
       "      <th>11</th>\n",
       "      <td>12</td>\n",
       "      <td>Basil Tomato Soup</td>\n",
       "      <td>58</td>\n",
       "      <td>107.17</td>\n",
       "      <td>6215.86</td>\n",
       "      <td>Hayward Berfoot</td>\n",
       "      <td>hberfootb@reuters.com</td>\n",
       "      <td>6 Vidon Parkway</td>\n",
       "      <td>2022-12-18</td>\n",
       "      <td>Cash on Delivery</td>\n",
       "    </tr>\n",
       "    <tr>\n",
       "      <th>12</th>\n",
       "      <td>13</td>\n",
       "      <td>Cereal Dispenser with Portion Control</td>\n",
       "      <td>31</td>\n",
       "      <td>523.62</td>\n",
       "      <td>16232.22</td>\n",
       "      <td>Gearalt Haughey</td>\n",
       "      <td>ghaugheyc@smh.com.au</td>\n",
       "      <td>2 Badeau Drive</td>\n",
       "      <td>2022-05-15</td>\n",
       "      <td>PayPal</td>\n",
       "    </tr>\n",
       "    <tr>\n",
       "      <th>...</th>\n",
       "      <td>...</td>\n",
       "      <td>...</td>\n",
       "      <td>...</td>\n",
       "      <td>...</td>\n",
       "      <td>...</td>\n",
       "      <td>...</td>\n",
       "      <td>...</td>\n",
       "      <td>...</td>\n",
       "      <td>...</td>\n",
       "      <td>...</td>\n",
       "    </tr>\n",
       "    <tr>\n",
       "      <th>989</th>\n",
       "      <td>990</td>\n",
       "      <td>Baked Potato Chips</td>\n",
       "      <td>1</td>\n",
       "      <td>955.64</td>\n",
       "      <td>955.64</td>\n",
       "      <td>Eugenie Urwen</td>\n",
       "      <td>eurwenrh@aboutads.info</td>\n",
       "      <td>32 Loftsgordon Parkway</td>\n",
       "      <td>2022-03-31</td>\n",
       "      <td>PayPal</td>\n",
       "    </tr>\n",
       "    <tr>\n",
       "      <th>992</th>\n",
       "      <td>993</td>\n",
       "      <td>Colorful Post-It Notes Set</td>\n",
       "      <td>87</td>\n",
       "      <td>90.05</td>\n",
       "      <td>7834.35</td>\n",
       "      <td>Sonny Yegorkov</td>\n",
       "      <td>syegorkovrk@bizjournals.com</td>\n",
       "      <td>75 Northport Park</td>\n",
       "      <td>2022-06-18</td>\n",
       "      <td>PayPal</td>\n",
       "    </tr>\n",
       "    <tr>\n",
       "      <th>993</th>\n",
       "      <td>994</td>\n",
       "      <td>Folding Exercise Bike</td>\n",
       "      <td>86</td>\n",
       "      <td>60.19</td>\n",
       "      <td>5176.34</td>\n",
       "      <td>Doug Cringle</td>\n",
       "      <td>dcringlerl@typepad.com</td>\n",
       "      <td>22 Melvin Trail</td>\n",
       "      <td>2022-05-21</td>\n",
       "      <td>Cash on Delivery</td>\n",
       "    </tr>\n",
       "    <tr>\n",
       "      <th>996</th>\n",
       "      <td>997</td>\n",
       "      <td>Salsa Verde</td>\n",
       "      <td>4</td>\n",
       "      <td>58.99</td>\n",
       "      <td>235.96</td>\n",
       "      <td>Addia Cricket</td>\n",
       "      <td>acricketro@myspace.com</td>\n",
       "      <td>9344 Dahle Plaza</td>\n",
       "      <td>2022-01-27</td>\n",
       "      <td>Cash on Delivery</td>\n",
       "    </tr>\n",
       "    <tr>\n",
       "      <th>997</th>\n",
       "      <td>998</td>\n",
       "      <td>Organic Granola Cereal</td>\n",
       "      <td>47</td>\n",
       "      <td>298.79</td>\n",
       "      <td>14043.13</td>\n",
       "      <td>Avrom Jime</td>\n",
       "      <td>ajimerp@army.mil</td>\n",
       "      <td>1 Bartelt Place</td>\n",
       "      <td>2022-11-20</td>\n",
       "      <td>Cash on Delivery</td>\n",
       "    </tr>\n",
       "  </tbody>\n",
       "</table>\n",
       "<p>494 rows × 10 columns</p>\n",
       "</div>"
      ],
      "text/plain": [
       "     order_id                           product_name  quantity  unit_price  \\\n",
       "0           1                 Thai Green Curry Paste        61      263.81   \n",
       "2           3          Cinnamon Sugar Tortilla Chips         7      925.76   \n",
       "6           7                          Carrot Sticks        46      118.69   \n",
       "11         12                      Basil Tomato Soup        58      107.17   \n",
       "12         13  Cereal Dispenser with Portion Control        31      523.62   \n",
       "..        ...                                    ...       ...         ...   \n",
       "989       990                     Baked Potato Chips         1      955.64   \n",
       "992       993             Colorful Post-It Notes Set        87       90.05   \n",
       "993       994                  Folding Exercise Bike        86       60.19   \n",
       "996       997                            Salsa Verde         4       58.99   \n",
       "997       998                 Organic Granola Cereal        47      298.79   \n",
       "\n",
       "     total_price       customer_name                 customer_email  \\\n",
       "0       16092.41      Cathrine Lyall     clyall0@chicagotribune.com   \n",
       "2        6480.32  Siouxie Gregoletti  sgregoletti2@wunderground.com   \n",
       "6        5459.74       Persis Leaman           pleaman6@shop-pro.jp   \n",
       "11       6215.86     Hayward Berfoot          hberfootb@reuters.com   \n",
       "12      16232.22     Gearalt Haughey           ghaugheyc@smh.com.au   \n",
       "..           ...                 ...                            ...   \n",
       "989       955.64       Eugenie Urwen         eurwenrh@aboutads.info   \n",
       "992      7834.35      Sonny Yegorkov    syegorkovrk@bizjournals.com   \n",
       "993      5176.34        Doug Cringle         dcringlerl@typepad.com   \n",
       "996       235.96       Addia Cricket         acricketro@myspace.com   \n",
       "997     14043.13          Avrom Jime               ajimerp@army.mil   \n",
       "\n",
       "           shipping_address order_date    payment_method  \n",
       "0      2 Meadow Ridge Point 2022-09-14       Credit Card  \n",
       "2         6 Graceland Alley 2022-05-29  Cash on Delivery  \n",
       "6       887 Walton Crossing 2022-06-02  Cash on Delivery  \n",
       "11          6 Vidon Parkway 2022-12-18  Cash on Delivery  \n",
       "12           2 Badeau Drive 2022-05-15            PayPal  \n",
       "..                      ...        ...               ...  \n",
       "989  32 Loftsgordon Parkway 2022-03-31            PayPal  \n",
       "992       75 Northport Park 2022-06-18            PayPal  \n",
       "993         22 Melvin Trail 2022-05-21  Cash on Delivery  \n",
       "996        9344 Dahle Plaza 2022-01-27  Cash on Delivery  \n",
       "997         1 Bartelt Place 2022-11-20  Cash on Delivery  \n",
       "\n",
       "[494 rows x 10 columns]"
      ]
     },
     "execution_count": 492,
     "metadata": {},
     "output_type": "execute_result"
    }
   ],
   "source": [
    "df[df.total_price < 20000]"
   ]
  },
  {
   "cell_type": "markdown",
   "id": "6e0628db",
   "metadata": {},
   "source": [
    "### Matplotlib and Seaborn"
   ]
  },
  {
   "cell_type": "code",
   "execution_count": 493,
   "id": "7aed484b",
   "metadata": {},
   "outputs": [
    {
     "data": {
      "image/png": "[encoded data removed]",
      "text/plain": [
       "<Figure size 2000x600 with 2 Axes>"
      ]
     },
     "metadata": {},
     "output_type": "display_data"
    }
   ],
   "source": [
    "fig, ax = plt.subplots(ncols=2, figsize=(20, 6))\n",
    "ax[0].set_title(\"Matplotlib\")\n",
    "ax[0].hist(x=df.total_price, bins=5)\n",
    "\n",
    "ax[1].set_title(\"Seaborn\")\n",
    "sns.histplot(\n",
    "    data=df,\n",
    "    x=df.total_price,\n",
    "    ax=ax[1],\n",
    "    bins=5\n",
    ")\n",
    "\n",
    "plt.show()"
   ]
  },
  {
   "cell_type": "markdown",
   "id": "03308396",
   "metadata": {},
   "source": [
    "### Plotly"
   ]
  },
  {
   "cell_type": "code",
   "execution_count": 494,
   "id": "6cf98cce",
   "metadata": {},
   "outputs": [
    {
     "data": {
      "application/vnd.plotly.v1+json": {
       "config": {
        "plotlyServerURL": "https://plot.ly"
       },
       "data": [
        {
         "alignmentgroup": "True",
         "bingroup": "x",
         "hovertemplate": "total_price=%{x}<br>count=%{y}<extra></extra>",
         "legendgroup": "",
         "marker": {
          "color": "#636efa",
          "pattern": {
           "shape": ""
          }
         },
         "name": "",
         "nbinsx": 5,
         "offsetgroup": "",
         "orientation": "v",
         "showlegend": false,
         "type": "histogram",
         "x": [
          16092.41,
          54117.28,
          6480.32,
          39325,
          37577.2,
          44316.72,
          5459.74,
          27944.7,
          36568.71,
          60470.2,
          37919.55,
          6215.86,
          16232.22,
          1819.6,
          8728.64,
          5517.4,
          15144.96,
          19695.82,
          26668.2,
          24315.78,
          11288.66,
          12068.28,
          34256.39,
          30152.08,
          41711.67,
          18723.04,
          22540.2,
          7219.08,
          5604.8,
          39175.32,
          503.37,
          12908.91,
          53106.35,
          21709.67,
          52175.2,
          47730,
          39014.98,
          38844.3,
          18282.72,
          56770.98,
          1863.71,
          37257,
          54003.6,
          15520.4,
          26008.96,
          12908.28,
          5742.5,
          74324.8,
          3480.6,
          44036.79,
          17127.48,
          14711.94,
          6758.1,
          705.21,
          6378.54,
          303.12,
          32641,
          7657.76,
          66155.76,
          22525.22,
          2734.46,
          2822.82,
          55743.6,
          26664.79,
          4709.7,
          31367.31,
          50549.85,
          16396.83,
          21951.85,
          12429.06,
          66602.4,
          16656.84,
          1234.06,
          12185.28,
          44864.82,
          23125.95,
          8425.8,
          5240.97,
          19445.58,
          38294.55,
          20018.7,
          26576.91,
          21655.19,
          13631.2,
          71606.5,
          31353,
          17791.42,
          59114.52,
          29505.32,
          8257.2,
          8743.5,
          65370.63,
          14269.66,
          12341.7,
          78209.35,
          868.23,
          4364.7,
          43387.52,
          15972.35,
          34542.3,
          868.66,
          10857.96,
          36528.96,
          31459.4,
          54122.2,
          1347.6,
          53050.14,
          45356.08,
          116.66,
          1656.08,
          51442,
          68648,
          30300,
          31445.95,
          8039.52,
          19357.21,
          17085.35,
          11936.4,
          24589.25,
          50105.04,
          9701.6,
          39513.32,
          15114.73,
          13857.65,
          26367.67,
          7901.85,
          26230.5,
          15672.96,
          33588.6,
          73150.12,
          33167.44,
          88553,
          29244.67,
          29578.8,
          15403.5,
          28392.9,
          9141.92,
          849.2,
          6305.72,
          33591.05,
          44956.44,
          33809.83,
          1204.02,
          25924.55,
          1218.24,
          49799.06,
          32336.2,
          576.56,
          36260.1,
          12017.28,
          623,
          6011.32,
          14948.64,
          57911.2,
          54395.66,
          54483.84,
          69447.6,
          1562.94,
          24350.72,
          51326,
          31795.61,
          6301.16,
          10427.2,
          7607.04,
          25768.28,
          74101.5,
          13882.2,
          40175.19,
          2313.35,
          8428.56,
          43803.93,
          30152.91,
          71149.96,
          20345.52,
          25068.42,
          39324.77,
          30986.52,
          7192.1,
          14234.04,
          23897.6,
          39932.85,
          37368.33,
          47982.78,
          52842.04,
          34771.62,
          2228.05,
          278.41,
          48917.12,
          679.68,
          12602.08,
          36836.48,
          16859.25,
          3385.17,
          3215.04,
          10325.16,
          5728.73,
          14919.04,
          4012.36,
          29676,
          4509.65,
          53282.4,
          17624.4,
          40241.25,
          13199.04,
          313.68,
          10695.82,
          22315.07,
          212.19,
          67268.79,
          18088.17,
          29753.92,
          90821.86,
          20517.88,
          31758.72,
          1747.38,
          17748.36,
          17872,
          28610.4,
          7081.24,
          645.57,
          3451.8,
          57351,
          20512.44,
          30517.2,
          1095.99,
          31630.5,
          1760.85,
          5423.6,
          32634.9,
          8286.3,
          67927.16,
          35506.82,
          8219.25,
          5546.31,
          35353.48,
          35795.2,
          51396.92,
          33852,
          4706,
          30839.11,
          49917.54,
          82506.06,
          17546.88,
          42788.76,
          3515.2,
          8321.4,
          35540.4,
          11937.92,
          4620.48,
          677.56,
          8045.4,
          36265.38,
          40333.2,
          21011.76,
          83392.98,
          25526.49,
          4072.8,
          71030.16,
          6932.22,
          27166.32,
          40669.44,
          8729.1,
          28157.36,
          21206.76,
          24222.68,
          30516.47,
          7878.04,
          5865.3,
          35797.02,
          10130.86,
          39159.12,
          1941.36,
          3065.4,
          46310.1,
          35068.14,
          75595.26,
          21147,
          81900.91,
          21680.05,
          79011.68,
          14051.52,
          38668.72,
          30699,
          1228.8,
          81839.7,
          15317.79,
          45438.48,
          25380.05,
          30230.64,
          52417.2,
          4957.37,
          10809.6,
          22448.86,
          16896.24,
          9668.7,
          73410.96,
          5838.72,
          42.27,
          7954,
          3666.56,
          53777.92,
          22513.8,
          24626.16,
          27995.62,
          14990.36,
          55097.06,
          22031.87,
          63075.76,
          77646.63,
          51461.24,
          22647.4,
          44197.98,
          3468.3,
          7756.5,
          19753.6,
          85047.98,
          35700.8,
          22780.37,
          79464.24,
          1143.61,
          336.12,
          28229.04,
          2554.32,
          15435.15,
          25904.07,
          19664.19,
          31388,
          61645.98,
          48903.2,
          78783.2,
          7796.28,
          3166.92,
          39461.4,
          9330.86,
          5477.92,
          13230,
          2131.92,
          43353.75,
          5445.66,
          57903.72,
          1048.38,
          8098.8,
          10703.75,
          1407.15,
          6339.9,
          23309.3,
          1633.38,
          63691.26,
          37162,
          2067.17,
          9532.16,
          5347.02,
          63909.36,
          29604.94,
          14063.52,
          29894.12,
          6791.5,
          2845.32,
          38304.6,
          15373.1,
          91856.38,
          261.12,
          10293.9,
          35084.28,
          1992.4,
          35127.06,
          15820.54,
          10138.32,
          9907.7,
          1588.72,
          6313.5,
          69049.29,
          59062.32,
          20178.48,
          40376,
          7476,
          14920.3,
          1498,
          1374,
          41511.42,
          18601.88,
          49018.44,
          88459.64,
          48503.04,
          55140.3,
          3893.7,
          1464.6,
          25588.23,
          8189.44,
          28986.02,
          45287.04,
          67120.25,
          10964.16,
          29540.05,
          10505.49,
          72058.91,
          44307.2,
          29919.34,
          6264.72,
          54350.52,
          42786.56,
          37447.2,
          61409.11,
          870,
          8947.6,
          13029.52,
          5882,
          75550.86,
          7226.66,
          30801.03,
          27703.68,
          38236,
          32536.92,
          11787.75,
          69023.26,
          22785.84,
          52911.9,
          30088.93,
          4042.88,
          2526.2,
          1735.5,
          15125.6,
          25105.95,
          24344,
          23490.6,
          3237.03,
          14256.32,
          7446.16,
          33452.92,
          21887.26,
          65338.3,
          43762.12,
          10318.8,
          39351.9,
          2293.2,
          667.68,
          12435.52,
          17836.25,
          80.34,
          31159.65,
          40987.8,
          4457.74,
          6847.08,
          66439.01,
          16298.58,
          88249,
          75710.44,
          62050,
          26680.32,
          38110.04,
          7834.61,
          30505.44,
          9413.32,
          24058.45,
          59855,
          30393.91,
          2496.24,
          12716.66,
          471.48,
          41225.85,
          9817.08,
          10795.14,
          47030.28,
          22744.24,
          6722.4,
          53920.8,
          70077.81,
          16691.28,
          1207.98,
          5756.41,
          10085.51,
          4534.5,
          1660.5,
          47420.9,
          6.87,
          28594.17,
          22156.33,
          20932.22,
          30722.64,
          11734.92,
          86357.7,
          21007.75,
          47789.91,
          53442.14,
          6748.08,
          7434.7,
          29384.9,
          24206.13,
          69860,
          7882.24,
          12340.66,
          16326.36,
          39643.26,
          20802.6,
          15765.4,
          19763.04,
          11319.96,
          14595.52,
          17002.24,
          14256.96,
          28107.09,
          1477.25,
          1585.71,
          46523.94,
          16583.16,
          2861.83,
          10641,
          4336.96,
          7030.32,
          6462.83,
          4842,
          26690.4,
          28838.2,
          13020.77,
          5283.53,
          40135.71,
          4619.86,
          8592.76,
          2983.89,
          44915.04,
          27535.36,
          10799.5,
          79237.61,
          11643.45,
          36964.48,
          11146.46,
          29.52,
          75277.68,
          1569.51,
          32376.57,
          85937.58,
          3862.56,
          27769.14,
          31721.03,
          38577.02,
          986.05,
          48964.24,
          24250.8,
          17541.25,
          30112.4,
          18465.6,
          5409.6,
          29247.12,
          12364.66,
          23234.67,
          42177.78,
          3607.13,
          11574.72,
          4217.67,
          32721.78,
          56141.96,
          11292.08,
          5645.28,
          58507.68,
          19471.62,
          4412.55,
          40201.98,
          62807.48,
          14860.09,
          76616,
          11852.4,
          25463.34,
          10519.74,
          8872.71,
          2310.21,
          26214.76,
          5092.56,
          76086.01,
          4501.56,
          10958.85,
          29018.25,
          44308.12,
          16153.28,
          52581.6,
          9991.38,
          38118.78,
          2450.25,
          1670.67,
          42371.12,
          10566,
          31012.4,
          13322.56,
          50294.4,
          15886.5,
          41422.59,
          4399.8,
          15361.2,
          3038.4,
          8889.81,
          864.82,
          8848.84,
          32540.13,
          5276.16,
          40135.48,
          9013.2,
          29481.48,
          59067.52,
          35988.16,
          31140.24,
          38913.16,
          114.48,
          6058.7,
          32928.15,
          25790.4,
          71155.18,
          51126.3,
          41717.13,
          25574.07,
          20026.5,
          42438.41,
          52685.18,
          18920.52,
          545.4,
          24184.6,
          59207.6,
          54431.04,
          10570.8,
          11829.82,
          73230.98,
          52344.46,
          5758.48,
          27591.76,
          15.09,
          19013.34,
          39407.5,
          13342.22,
          6868.68,
          10991.88,
          67926.08,
          48364.68,
          18929.9,
          1959,
          43266,
          53179.52,
          5066.9,
          10294.2,
          561.2,
          40481.35,
          54930.96,
          20106.9,
          2265.3,
          76009.57,
          8282.4,
          48188.8,
          8710.83,
          28655.12,
          9397.1,
          12626.64,
          37511.04,
          81344.64,
          37763.46,
          56950.84,
          74919.04,
          2715.12,
          8804.88,
          65274.3,
          10914.66,
          3691.7,
          14825.6,
          33823.72,
          13049.76,
          12132.78,
          38133.72,
          47157.11,
          52680.88,
          12781.2,
          49616.8,
          11475.36,
          60554.8,
          27155.36,
          11203,
          47032.2,
          18818.1,
          3932.27,
          17654.22,
          72824.8,
          32934.88,
          8106.3,
          47109,
          1175.76,
          57617.3,
          21476.49,
          1191.52,
          79494.72,
          6218.5,
          33712.86,
          72292.68,
          1938.6,
          13426.88,
          14299.56,
          35363.16,
          7397.1,
          15659.7,
          41654.69,
          64463.38,
          49310.44,
          10302.85,
          30979.2,
          18032,
          24736.61,
          20717.34,
          13654.6,
          24591.52,
          25618.32,
          41300.64,
          17528.53,
          54441.08,
          1556.45,
          3819.82,
          34612.8,
          5459.04,
          18720.47,
          2153.43,
          21577.2,
          30099.42,
          21573.27,
          61310,
          11297.59,
          6828,
          34792.94,
          287.54,
          81222.72,
          10424.16,
          18467.62,
          42370.91,
          67580.8,
          32494.4,
          28973.56,
          15233.67,
          249.75,
          3719.32,
          8824.92,
          4700.84,
          66880.8,
          50720.21,
          49016.8,
          13890.6,
          38401.72,
          10534.86,
          4419.8,
          7510.8,
          17905.78,
          5455.8,
          14062.72,
          1947.96,
          28028.52,
          22770.22,
          15111,
          64.5,
          4247.85,
          5943.06,
          18645.64,
          7037.52,
          22028.82,
          15311.56,
          16125.25,
          995.2,
          46555.2,
          53745.92,
          59260.6,
          45621.4,
          28624.05,
          16432.92,
          14492.52,
          655.52,
          17860.95,
          33344.48,
          16463.28,
          13711.63,
          12240,
          39820.9,
          16997.06,
          5204.85,
          19973.36,
          29313.2,
          18173,
          71595.33,
          3625.44,
          4006.48,
          51444.06,
          47494.16,
          47478.5,
          45610.18,
          3396.08,
          73137.84,
          4744.95,
          40574.75,
          30017.44,
          3785.4,
          43738.8,
          32284.51,
          34960.8,
          2619.2,
          48105.54,
          33202,
          3779.16,
          24299.8,
          1455.06,
          42021.24,
          60948.53,
          40471.2,
          49119.64,
          45921.6,
          32156.77,
          84074.54,
          7307.6,
          10022.36,
          55815.46,
          7610.68,
          211.68,
          90824.24,
          30324.58,
          52602.84,
          64633.46,
          21552.75,
          1664.5,
          55923.2,
          5429.58,
          36090.45,
          5591.28,
          28387.26,
          21048.94,
          3873.53,
          23469.12,
          87420.08,
          2146.2,
          4770.81,
          28441,
          28059.57,
          18779.82,
          62.98,
          10800.24,
          3129.84,
          41695.05,
          26432.4,
          15026.34,
          5258.4,
          14424.62,
          4482.01,
          16255.02,
          52401.6,
          87474.24,
          13150.35,
          5612.2,
          78791.34,
          44658.6,
          36695.41,
          13704,
          1443.19,
          13203.84,
          22659,
          182.23,
          8118.18,
          59163.72,
          62868.3,
          81457,
          7750.47,
          46002.4,
          3800.25,
          88503.9,
          1767.4,
          64839.45,
          7481.28,
          1478,
          24572.44,
          794.4,
          7932.98,
          2474.71,
          12298.65,
          22414.25,
          3287.52,
          64769.61,
          4134.8,
          11731.17,
          36127.48,
          2120.48,
          1976.7,
          29493.9,
          30823.96,
          970.3,
          20961.84,
          55871.92,
          4701.84,
          18212,
          20047.85,
          3517.2,
          49304.31,
          40159,
          25696.8,
          4385.28,
          37867.19,
          22149.69,
          23354.88,
          11813.26,
          2608.96,
          29301.82,
          47429.82,
          68629.44,
          4218.83,
          271.41,
          45234,
          49273.84,
          55140,
          37026.09,
          848.16,
          2158.16,
          81309.6,
          64801.1,
          29385.51,
          45464.76,
          25494.2,
          1326.24,
          5439.36,
          14286.78,
          21984.93,
          35390.16,
          45368.75,
          21659.36,
          34021.8,
          41545.64,
          17768.4,
          9399.49,
          8673.42,
          3868.9,
          1980.85,
          6925.5,
          2185.86,
          2077.32,
          9039.41,
          5711.02,
          38603.7,
          8855.27,
          10906.93,
          40504,
          45816.96,
          79370.25,
          1316.92,
          3942.8,
          9648.98,
          64558,
          18214.16,
          6610.8,
          30338.46,
          69913.68,
          27005.68,
          83779.05,
          386.8,
          24360.16,
          3486.21,
          1869.16,
          4731.19,
          12388.75,
          12959.87,
          13458.03,
          18869.22,
          30521.46,
          52.43,
          52179.6,
          9090.93,
          29829.6,
          33932.1,
          11471.28,
          17768.88,
          1154.67,
          5949.71,
          11686.8,
          15397.81,
          10582.24,
          11563.36,
          31835.22,
          41177.96,
          32013.62,
          5742.64,
          51735.51,
          31859.7,
          12293.76,
          3913,
          32193.48,
          34610.32,
          60706.8,
          91947.04,
          850.92,
          28663.14,
          2360.26,
          746.56,
          30167.51,
          17600.1,
          3768.8,
          24655.5,
          955.64,
          26866.32,
          54381.6,
          7834.35,
          5176.34,
          27077.6,
          25419.24,
          235.96,
          14043.13,
          24119.43,
          45105.76
         ],
         "xaxis": "x",
         "yaxis": "y"
        }
       ],
       "layout": {
        "barmode": "relative",
        "legend": {
         "tracegroupgap": 0
        },
        "margin": {
         "t": 60
        },
        "template": {
         "data": {
          "bar": [
           {
            "error_x": {
             "color": "#2a3f5f"
            },
            "error_y": {
             "color": "#2a3f5f"
            },
            "marker": {
             "line": {
              "color": "#E5ECF6",
              "width": 0.5
             },
             "pattern": {
              "fillmode": "overlay",
              "size": 10,
              "solidity": 0.2
             }
            },
            "type": "bar"
           }
          ],
          "barpolar": [
           {
            "marker": {
             "line": {
              "color": "#E5ECF6",
              "width": 0.5
             },
             "pattern": {
              "fillmode": "overlay",
              "size": 10,
              "solidity": 0.2
             }
            },
            "type": "barpolar"
           }
          ],
          "carpet": [
           {
            "aaxis": {
             "endlinecolor": "#2a3f5f",
             "gridcolor": "white",
             "linecolor": "white",
             "minorgridcolor": "white",
             "startlinecolor": "#2a3f5f"
            },
            "baxis": {
             "endlinecolor": "#2a3f5f",
             "gridcolor": "white",
             "linecolor": "white",
             "minorgridcolor": "white",
             "startlinecolor": "#2a3f5f"
            },
            "type": "carpet"
           }
          ],
          "choropleth": [
           {
            "colorbar": {
             "outlinewidth": 0,
             "ticks": ""
            },
            "type": "choropleth"
           }
          ],
          "contour": [
           {
            "colorbar": {
             "outlinewidth": 0,
             "ticks": ""
            },
            "colorscale": [
             [
              0,
              "#0d0887"
             ],
             [
              0.1111111111111111,
              "#46039f"
             ],
             [
              0.2222222222222222,
              "#7201a8"
             ],
             [
              0.3333333333333333,
              "#9c179e"
             ],
             [
              0.4444444444444444,
              "#bd3786"
             ],
             [
              0.5555555555555556,
              "#d8576b"
             ],
             [
              0.6666666666666666,
              "#ed7953"
             ],
             [
              0.7777777777777778,
              "#fb9f3a"
             ],
             [
              0.8888888888888888,
              "#fdca26"
             ],
             [
              1,
              "#f0f921"
             ]
            ],
            "type": "contour"
           }
          ],
          "contourcarpet": [
           {
            "colorbar": {
             "outlinewidth": 0,
             "ticks": ""
            },
            "type": "contourcarpet"
           }
          ],
          "heatmap": [
           {
            "colorbar": {
             "outlinewidth": 0,
             "ticks": ""
            },
            "colorscale": [
             [
              0,
              "#0d0887"
             ],
             [
              0.1111111111111111,
              "#46039f"
             ],
             [
              0.2222222222222222,
              "#7201a8"
             ],
             [
              0.3333333333333333,
              "#9c179e"
             ],
             [
              0.4444444444444444,
              "#bd3786"
             ],
             [
              0.5555555555555556,
              "#d8576b"
             ],
             [
              0.6666666666666666,
              "#ed7953"
             ],
             [
              0.7777777777777778,
              "#fb9f3a"
             ],
             [
              0.8888888888888888,
              "#fdca26"
             ],
             [
              1,
              "#f0f921"
             ]
            ],
            "type": "heatmap"
           }
          ],
          "heatmapgl": [
           {
            "colorbar": {
             "outlinewidth": 0,
             "ticks": ""
            },
            "colorscale": [
             [
              0,
              "#0d0887"
             ],
             [
              0.1111111111111111,
              "#46039f"
             ],
             [
              0.2222222222222222,
              "#7201a8"
             ],
             [
              0.3333333333333333,
              "#9c179e"
             ],
             [
              0.4444444444444444,
              "#bd3786"
             ],
             [
              0.5555555555555556,
              "#d8576b"
             ],
             [
              0.6666666666666666,
              "#ed7953"
             ],
             [
              0.7777777777777778,
              "#fb9f3a"
             ],
             [
              0.8888888888888888,
              "#fdca26"
             ],
             [
              1,
              "#f0f921"
             ]
            ],
            "type": "heatmapgl"
           }
          ],
          "histogram": [
           {
            "marker": {
             "pattern": {
              "fillmode": "overlay",
              "size": 10,
              "solidity": 0.2
             }
            },
            "type": "histogram"
           }
          ],
          "histogram2d": [
           {
            "colorbar": {
             "outlinewidth": 0,
             "ticks": ""
            },
            "colorscale": [
             [
              0,
              "#0d0887"
             ],
             [
              0.1111111111111111,
              "#46039f"
             ],
             [
              0.2222222222222222,
              "#7201a8"
             ],
             [
              0.3333333333333333,
              "#9c179e"
             ],
             [
              0.4444444444444444,
              "#bd3786"
             ],
             [
              0.5555555555555556,
              "#d8576b"
             ],
             [
              0.6666666666666666,
              "#ed7953"
             ],
             [
              0.7777777777777778,
              "#fb9f3a"
             ],
             [
              0.8888888888888888,
              "#fdca26"
             ],
             [
              1,
              "#f0f921"
             ]
            ],
            "type": "histogram2d"
           }
          ],
          "histogram2dcontour": [
           {
            "colorbar": {
             "outlinewidth": 0,
             "ticks": ""
            },
            "colorscale": [
             [
              0,
              "#0d0887"
             ],
             [
              0.1111111111111111,
              "#46039f"
             ],
             [
              0.2222222222222222,
              "#7201a8"
             ],
             [
              0.3333333333333333,
              "#9c179e"
             ],
             [
              0.4444444444444444,
              "#bd3786"
             ],
             [
              0.5555555555555556,
              "#d8576b"
             ],
             [
              0.6666666666666666,
              "#ed7953"
             ],
             [
              0.7777777777777778,
              "#fb9f3a"
             ],
             [
              0.8888888888888888,
              "#fdca26"
             ],
             [
              1,
              "#f0f921"
             ]
            ],
            "type": "histogram2dcontour"
           }
          ],
          "mesh3d": [
           {
            "colorbar": {
             "outlinewidth": 0,
             "ticks": ""
            },
            "type": "mesh3d"
           }
          ],
          "parcoords": [
           {
            "line": {
             "colorbar": {
              "outlinewidth": 0,
              "ticks": ""
             }
            },
            "type": "parcoords"
           }
          ],
          "pie": [
           {
            "automargin": true,
            "type": "pie"
           }
          ],
          "scatter": [
           {
            "fillpattern": {
             "fillmode": "overlay",
             "size": 10,
             "solidity": 0.2
            },
            "type": "scatter"
           }
          ],
          "scatter3d": [
           {
            "line": {
             "colorbar": {
              "outlinewidth": 0,
              "ticks": ""
             }
            },
            "marker": {
             "colorbar": {
              "outlinewidth": 0,
              "ticks": ""
             }
            },
            "type": "scatter3d"
           }
          ],
          "scattercarpet": [
           {
            "marker": {
             "colorbar": {
              "outlinewidth": 0,
              "ticks": ""
             }
            },
            "type": "scattercarpet"
           }
          ],
          "scattergeo": [
           {
            "marker": {
             "colorbar": {
              "outlinewidth": 0,
              "ticks": ""
             }
            },
            "type": "scattergeo"
           }
          ],
          "scattergl": [
           {
            "marker": {
             "colorbar": {
              "outlinewidth": 0,
              "ticks": ""
             }
            },
            "type": "scattergl"
           }
          ],
          "scattermapbox": [
           {
            "marker": {
             "colorbar": {
              "outlinewidth": 0,
              "ticks": ""
             }
            },
            "type": "scattermapbox"
           }
          ],
          "scatterpolar": [
           {
            "marker": {
             "colorbar": {
              "outlinewidth": 0,
              "ticks": ""
             }
            },
            "type": "scatterpolar"
           }
          ],
          "scatterpolargl": [
           {
            "marker": {
             "colorbar": {
              "outlinewidth": 0,
              "ticks": ""
             }
            },
            "type": "scatterpolargl"
           }
          ],
          "scatterternary": [
           {
            "marker": {
             "colorbar": {
              "outlinewidth": 0,
              "ticks": ""
             }
            },
            "type": "scatterternary"
           }
          ],
          "surface": [
           {
            "colorbar": {
             "outlinewidth": 0,
             "ticks": ""
            },
            "colorscale": [
             [
              0,
              "#0d0887"
             ],
             [
              0.1111111111111111,
              "#46039f"
             ],
             [
              0.2222222222222222,
              "#7201a8"
             ],
             [
              0.3333333333333333,
              "#9c179e"
             ],
             [
              0.4444444444444444,
              "#bd3786"
             ],
             [
              0.5555555555555556,
              "#d8576b"
             ],
             [
              0.6666666666666666,
              "#ed7953"
             ],
             [
              0.7777777777777778,
              "#fb9f3a"
             ],
             [
              0.8888888888888888,
              "#fdca26"
             ],
             [
              1,
              "#f0f921"
             ]
            ],
            "type": "surface"
           }
          ],
          "table": [
           {
            "cells": {
             "fill": {
              "color": "#EBF0F8"
             },
             "line": {
              "color": "white"
             }
            },
            "header": {
             "fill": {
              "color": "#C8D4E3"
             },
             "line": {
              "color": "white"
             }
            },
            "type": "table"
           }
          ]
         },
         "layout": {
          "annotationdefaults": {
           "arrowcolor": "#2a3f5f",
           "arrowhead": 0,
           "arrowwidth": 1
          },
          "autotypenumbers": "strict",
          "coloraxis": {
           "colorbar": {
            "outlinewidth": 0,
            "ticks": ""
           }
          },
          "colorscale": {
           "diverging": [
            [
             0,
             "#8e0152"
            ],
            [
             0.1,
             "#c51b7d"
            ],
            [
             0.2,
             "#de77ae"
            ],
            [
             0.3,
             "#f1b6da"
            ],
            [
             0.4,
             "#fde0ef"
            ],
            [
             0.5,
             "#f7f7f7"
            ],
            [
             0.6,
             "#e6f5d0"
            ],
            [
             0.7,
             "#b8e186"
            ],
            [
             0.8,
             "#7fbc41"
            ],
            [
             0.9,
             "#4d9221"
            ],
            [
             1,
             "#276419"
            ]
           ],
           "sequential": [
            [
             0,
             "#0d0887"
            ],
            [
             0.1111111111111111,
             "#46039f"
            ],
            [
             0.2222222222222222,
             "#7201a8"
            ],
            [
             0.3333333333333333,
             "#9c179e"
            ],
            [
             0.4444444444444444,
             "#bd3786"
            ],
            [
             0.5555555555555556,
             "#d8576b"
            ],
            [
             0.6666666666666666,
             "#ed7953"
            ],
            [
             0.7777777777777778,
             "#fb9f3a"
            ],
            [
             0.8888888888888888,
             "#fdca26"
            ],
            [
             1,
             "#f0f921"
            ]
           ],
           "sequentialminus": [
            [
             0,
             "#0d0887"
            ],
            [
             0.1111111111111111,
             "#46039f"
            ],
            [
             0.2222222222222222,
             "#7201a8"
            ],
            [
             0.3333333333333333,
             "#9c179e"
            ],
            [
             0.4444444444444444,
             "#bd3786"
            ],
            [
             0.5555555555555556,
             "#d8576b"
            ],
            [
             0.6666666666666666,
             "#ed7953"
            ],
            [
             0.7777777777777778,
             "#fb9f3a"
            ],
            [
             0.8888888888888888,
             "#fdca26"
            ],
            [
             1,
             "#f0f921"
            ]
           ]
          },
          "colorway": [
           "#636efa",
           "#EF553B",
           "#00cc96",
           "#ab63fa",
           "#FFA15A",
           "#19d3f3",
           "#FF6692",
           "#B6E880",
           "#FF97FF",
           "#FECB52"
          ],
          "font": {
           "color": "#2a3f5f"
          },
          "geo": {
           "bgcolor": "white",
           "lakecolor": "white",
           "landcolor": "#E5ECF6",
           "showlakes": true,
           "showland": true,
           "subunitcolor": "white"
          },
          "hoverlabel": {
           "align": "left"
          },
          "hovermode": "closest",
          "mapbox": {
           "style": "light"
          },
          "paper_bgcolor": "white",
          "plot_bgcolor": "#E5ECF6",
          "polar": {
           "angularaxis": {
            "gridcolor": "white",
            "linecolor": "white",
            "ticks": ""
           },
           "bgcolor": "#E5ECF6",
           "radialaxis": {
            "gridcolor": "white",
            "linecolor": "white",
            "ticks": ""
           }
          },
          "scene": {
           "xaxis": {
            "backgroundcolor": "#E5ECF6",
            "gridcolor": "white",
            "gridwidth": 2,
            "linecolor": "white",
            "showbackground": true,
            "ticks": "",
            "zerolinecolor": "white"
           },
           "yaxis": {
            "backgroundcolor": "#E5ECF6",
            "gridcolor": "white",
            "gridwidth": 2,
            "linecolor": "white",
            "showbackground": true,
            "ticks": "",
            "zerolinecolor": "white"
           },
           "zaxis": {
            "backgroundcolor": "#E5ECF6",
            "gridcolor": "white",
            "gridwidth": 2,
            "linecolor": "white",
            "showbackground": true,
            "ticks": "",
            "zerolinecolor": "white"
           }
          },
          "shapedefaults": {
           "line": {
            "color": "#2a3f5f"
           }
          },
          "ternary": {
           "aaxis": {
            "gridcolor": "white",
            "linecolor": "white",
            "ticks": ""
           },
           "baxis": {
            "gridcolor": "white",
            "linecolor": "white",
            "ticks": ""
           },
           "bgcolor": "#E5ECF6",
           "caxis": {
            "gridcolor": "white",
            "linecolor": "white",
            "ticks": ""
           }
          },
          "title": {
           "x": 0.05
          },
          "xaxis": {
           "automargin": true,
           "gridcolor": "white",
           "linecolor": "white",
           "ticks": "",
           "title": {
            "standoff": 15
           },
           "zerolinecolor": "white",
           "zerolinewidth": 2
          },
          "yaxis": {
           "automargin": true,
           "gridcolor": "white",
           "linecolor": "white",
           "ticks": "",
           "title": {
            "standoff": 15
           },
           "zerolinecolor": "white",
           "zerolinewidth": 2
          }
         }
        },
        "xaxis": {
         "anchor": "y",
         "domain": [
          0,
          1
         ],
         "title": {
          "text": "total_price"
         }
        },
        "yaxis": {
         "anchor": "x",
         "domain": [
          0,
          1
         ],
         "title": {
          "text": "count"
         }
        }
       }
      }
     },
     "metadata": {},
     "output_type": "display_data"
    }
   ],
   "source": [
    "px.histogram(df, x=\"total_price\", nbins=5)"
   ]
  }
 ],
 "metadata": {
  "kernelspec": {
   "display_name": "base",
   "language": "python",
   "name": "python3"
  },
  "language_info": {
   "codemirror_mode": {
    "name": "ipython",
    "version": 3
   },
   "file_extension": ".py",
   "mimetype": "text/x-python",
   "name": "python",
   "nbconvert_exporter": "python",
   "pygments_lexer": "ipython3",
   "version": "3.12.2"
  }
 },
 "nbformat": 4,
 "nbformat_minor": 5
}

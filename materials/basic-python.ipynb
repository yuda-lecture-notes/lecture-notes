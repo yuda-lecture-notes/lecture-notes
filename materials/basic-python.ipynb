{
 "cells": [
  {
   "cell_type": "markdown",
   "id": "6cc51dd6",
   "metadata": {},
   "source": [
    "# Basic Python"
   ]
  },
  {
   "cell_type": "markdown",
   "id": "9cfc1d06",
   "metadata": {},
   "source": [
    "## Scenario\n",
    "You are tasked to create a simple app to store and display profile data of course participants. Each data will be stored in `dictionary` and all data will be stored in a `list`."
   ]
  },
  {
   "cell_type": "markdown",
   "id": "49436207",
   "metadata": {},
   "source": [
    "## Instructions\n",
    "\n",
    "1.  Create new dictionary\n",
    "    ```py\n",
    "    {\n",
    "        \"name\": \"Yono\",\n",
    "        \"age\": 20,\n",
    "        \"hobby\": \"Swimming\"\n",
    "    }\n",
    "    ```\n",
    "    Create 2 more dictionary and save them all into a `list`\n",
    "2.  Print `name` and `age` of every participant.\n",
    "3.  Print `hobby` of second participant.\n",
    "4.  Change the `hobby` of first participant to `Play Football`\n",
    "5.  Add new field in every participant called `label` with a value of this format \"`nama` - `usia` tahun\" (e.g. \"Andi - 20 tahun\")"
   ]
  },
  {
   "cell_type": "code",
   "execution_count": null,
   "id": "766508a3",
   "metadata": {},
   "outputs": [],
   "source": [
    "# solution"
   ]
  }
 ],
 "metadata": {
  "language_info": {
   "name": "python"
  }
 },
 "nbformat": 4,
 "nbformat_minor": 5
}
